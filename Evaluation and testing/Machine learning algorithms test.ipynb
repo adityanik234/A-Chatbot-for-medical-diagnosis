{
 "cells": [
  {
   "cell_type": "code",
   "execution_count": 1,
   "id": "bc64d7bb",
   "metadata": {},
   "outputs": [],
   "source": [
    "# Important librares\n",
    "\n",
    "import pandas as pd\n",
    "import numpy as np\n",
    "import string\n",
    "from string import digits\n",
    "import matplotlib.pyplot as plt\n",
    "from scipy import spatial\n",
    "from sklearn.manifold import TSNE\n",
    "import numpy as np\n",
    "import tensorflow as tf \n",
    "import keras"
   ]
  },
  {
   "cell_type": "markdown",
   "id": "fb099fe2",
   "metadata": {},
   "source": [
    "#### Loading the dataset"
   ]
  },
  {
   "cell_type": "code",
   "execution_count": 2,
   "id": "886ae44d",
   "metadata": {},
   "outputs": [
    {
     "data": {
      "text/html": [
       "<div>\n",
       "<style scoped>\n",
       "    .dataframe tbody tr th:only-of-type {\n",
       "        vertical-align: middle;\n",
       "    }\n",
       "\n",
       "    .dataframe tbody tr th {\n",
       "        vertical-align: top;\n",
       "    }\n",
       "\n",
       "    .dataframe thead th {\n",
       "        text-align: right;\n",
       "    }\n",
       "</style>\n",
       "<table border=\"1\" class=\"dataframe\">\n",
       "  <thead>\n",
       "    <tr style=\"text-align: right;\">\n",
       "      <th></th>\n",
       "      <th>itching</th>\n",
       "      <th>skin_rash</th>\n",
       "      <th>nodal_skin_eruptions</th>\n",
       "      <th>continuous_sneezing</th>\n",
       "      <th>shivering</th>\n",
       "      <th>chills</th>\n",
       "      <th>joint_pain</th>\n",
       "      <th>stomach_pain</th>\n",
       "      <th>acidity</th>\n",
       "      <th>ulcers_on_tongue</th>\n",
       "      <th>...</th>\n",
       "      <th>blackheads</th>\n",
       "      <th>scurring</th>\n",
       "      <th>skin_peeling</th>\n",
       "      <th>silver_like_dusting</th>\n",
       "      <th>small_dents_in_nails</th>\n",
       "      <th>inflammatory_nails</th>\n",
       "      <th>blister</th>\n",
       "      <th>red_sore_around_nose</th>\n",
       "      <th>yellow_crust_ooze</th>\n",
       "      <th>prognosis</th>\n",
       "    </tr>\n",
       "  </thead>\n",
       "  <tbody>\n",
       "    <tr>\n",
       "      <th>0</th>\n",
       "      <td>1</td>\n",
       "      <td>1</td>\n",
       "      <td>1</td>\n",
       "      <td>0</td>\n",
       "      <td>0</td>\n",
       "      <td>0</td>\n",
       "      <td>0</td>\n",
       "      <td>0</td>\n",
       "      <td>0</td>\n",
       "      <td>0</td>\n",
       "      <td>...</td>\n",
       "      <td>0</td>\n",
       "      <td>0</td>\n",
       "      <td>0</td>\n",
       "      <td>0</td>\n",
       "      <td>0</td>\n",
       "      <td>0</td>\n",
       "      <td>0</td>\n",
       "      <td>0</td>\n",
       "      <td>0</td>\n",
       "      <td>Fungal infection</td>\n",
       "    </tr>\n",
       "    <tr>\n",
       "      <th>1</th>\n",
       "      <td>0</td>\n",
       "      <td>1</td>\n",
       "      <td>1</td>\n",
       "      <td>0</td>\n",
       "      <td>0</td>\n",
       "      <td>0</td>\n",
       "      <td>0</td>\n",
       "      <td>0</td>\n",
       "      <td>0</td>\n",
       "      <td>0</td>\n",
       "      <td>...</td>\n",
       "      <td>0</td>\n",
       "      <td>0</td>\n",
       "      <td>0</td>\n",
       "      <td>0</td>\n",
       "      <td>0</td>\n",
       "      <td>0</td>\n",
       "      <td>0</td>\n",
       "      <td>0</td>\n",
       "      <td>0</td>\n",
       "      <td>Fungal infection</td>\n",
       "    </tr>\n",
       "    <tr>\n",
       "      <th>2</th>\n",
       "      <td>1</td>\n",
       "      <td>0</td>\n",
       "      <td>1</td>\n",
       "      <td>0</td>\n",
       "      <td>0</td>\n",
       "      <td>0</td>\n",
       "      <td>0</td>\n",
       "      <td>0</td>\n",
       "      <td>0</td>\n",
       "      <td>0</td>\n",
       "      <td>...</td>\n",
       "      <td>0</td>\n",
       "      <td>0</td>\n",
       "      <td>0</td>\n",
       "      <td>0</td>\n",
       "      <td>0</td>\n",
       "      <td>0</td>\n",
       "      <td>0</td>\n",
       "      <td>0</td>\n",
       "      <td>0</td>\n",
       "      <td>Fungal infection</td>\n",
       "    </tr>\n",
       "    <tr>\n",
       "      <th>3</th>\n",
       "      <td>1</td>\n",
       "      <td>1</td>\n",
       "      <td>0</td>\n",
       "      <td>0</td>\n",
       "      <td>0</td>\n",
       "      <td>0</td>\n",
       "      <td>0</td>\n",
       "      <td>0</td>\n",
       "      <td>0</td>\n",
       "      <td>0</td>\n",
       "      <td>...</td>\n",
       "      <td>0</td>\n",
       "      <td>0</td>\n",
       "      <td>0</td>\n",
       "      <td>0</td>\n",
       "      <td>0</td>\n",
       "      <td>0</td>\n",
       "      <td>0</td>\n",
       "      <td>0</td>\n",
       "      <td>0</td>\n",
       "      <td>Fungal infection</td>\n",
       "    </tr>\n",
       "    <tr>\n",
       "      <th>4</th>\n",
       "      <td>1</td>\n",
       "      <td>1</td>\n",
       "      <td>1</td>\n",
       "      <td>0</td>\n",
       "      <td>0</td>\n",
       "      <td>0</td>\n",
       "      <td>0</td>\n",
       "      <td>0</td>\n",
       "      <td>0</td>\n",
       "      <td>0</td>\n",
       "      <td>...</td>\n",
       "      <td>0</td>\n",
       "      <td>0</td>\n",
       "      <td>0</td>\n",
       "      <td>0</td>\n",
       "      <td>0</td>\n",
       "      <td>0</td>\n",
       "      <td>0</td>\n",
       "      <td>0</td>\n",
       "      <td>0</td>\n",
       "      <td>Fungal infection</td>\n",
       "    </tr>\n",
       "  </tbody>\n",
       "</table>\n",
       "<p>5 rows × 133 columns</p>\n",
       "</div>"
      ],
      "text/plain": [
       "   itching  skin_rash  nodal_skin_eruptions  continuous_sneezing  shivering  \\\n",
       "0        1          1                     1                    0          0   \n",
       "1        0          1                     1                    0          0   \n",
       "2        1          0                     1                    0          0   \n",
       "3        1          1                     0                    0          0   \n",
       "4        1          1                     1                    0          0   \n",
       "\n",
       "   chills  joint_pain  stomach_pain  acidity  ulcers_on_tongue  ...  \\\n",
       "0       0           0             0        0                 0  ...   \n",
       "1       0           0             0        0                 0  ...   \n",
       "2       0           0             0        0                 0  ...   \n",
       "3       0           0             0        0                 0  ...   \n",
       "4       0           0             0        0                 0  ...   \n",
       "\n",
       "   blackheads  scurring  skin_peeling  silver_like_dusting  \\\n",
       "0           0         0             0                    0   \n",
       "1           0         0             0                    0   \n",
       "2           0         0             0                    0   \n",
       "3           0         0             0                    0   \n",
       "4           0         0             0                    0   \n",
       "\n",
       "   small_dents_in_nails  inflammatory_nails  blister  red_sore_around_nose  \\\n",
       "0                     0                   0        0                     0   \n",
       "1                     0                   0        0                     0   \n",
       "2                     0                   0        0                     0   \n",
       "3                     0                   0        0                     0   \n",
       "4                     0                   0        0                     0   \n",
       "\n",
       "   yellow_crust_ooze         prognosis  \n",
       "0                  0  Fungal infection  \n",
       "1                  0  Fungal infection  \n",
       "2                  0  Fungal infection  \n",
       "3                  0  Fungal infection  \n",
       "4                  0  Fungal infection  \n",
       "\n",
       "[5 rows x 133 columns]"
      ]
     },
     "execution_count": 2,
     "metadata": {},
     "output_type": "execute_result"
    }
   ],
   "source": [
    "training_df = pd.read_csv(r'/Users/adityanaik/Desktop/Summer project/healthcare-chatbot-master/Data/Training.csv')\n",
    "training_df.head()"
   ]
  },
  {
   "cell_type": "markdown",
   "id": "2b9f87a7",
   "metadata": {},
   "source": [
    "##### Removing the punctuations from the columns of the training data"
   ]
  },
  {
   "cell_type": "code",
   "execution_count": 3,
   "id": "b957a21c",
   "metadata": {},
   "outputs": [
    {
     "data": {
      "text/plain": [
       "133"
      ]
     },
     "execution_count": 3,
     "metadata": {},
     "output_type": "execute_result"
    }
   ],
   "source": [
    "symptom_corpus = list(training_df.columns)\n",
    "symptom_corpus = [x.replace('_', ' ') for x in symptom_corpus]\n",
    "symptom_corpus = [x.translate(str.maketrans('', '', string.punctuation)) for x in symptom_corpus]\n",
    "symptom_corpus = [x.translate(str.maketrans('', '', string.digits)) for x in symptom_corpus]\n",
    "training_df.columns = symptom_corpus\n",
    "training_df.head()\n",
    "len(symptom_corpus)"
   ]
  },
  {
   "cell_type": "markdown",
   "id": "d2c73a11",
   "metadata": {},
   "source": [
    "##### Loading the testing data and Removing the punctuations from the columns"
   ]
  },
  {
   "cell_type": "code",
   "execution_count": 4,
   "id": "44e24aa3",
   "metadata": {},
   "outputs": [
    {
     "data": {
      "text/plain": [
       "133"
      ]
     },
     "execution_count": 4,
     "metadata": {},
     "output_type": "execute_result"
    }
   ],
   "source": [
    "testing_df = pd.read_csv(r'/Users/adityanaik/Desktop/Summer project/healthcare-chatbot-master/Data/Testing.csv')\n",
    "testing_df.head()\n",
    "symptom_corpus = list(testing_df.columns)\n",
    "symptom_corpus = [x.replace('_', ' ') for x in symptom_corpus]\n",
    "symptom_corpus = [x.translate(str.maketrans('', '', string.punctuation)) for x in symptom_corpus]\n",
    "symptom_corpus = [x.translate(str.maketrans('', '', string.digits)) for x in symptom_corpus]\n",
    "testing_df.columns = symptom_corpus\n",
    "testing_df.head()\n",
    "len(symptom_corpus)\n"
   ]
  },
  {
   "cell_type": "code",
   "execution_count": 5,
   "id": "7bd745af",
   "metadata": {},
   "outputs": [],
   "source": [
    "# Shuffling the data\n",
    "training_df = training_df.sample(frac=1).reset_index(drop=True)"
   ]
  },
  {
   "cell_type": "code",
   "execution_count": 6,
   "id": "956a809d",
   "metadata": {},
   "outputs": [
    {
     "data": {
      "text/html": [
       "<div>\n",
       "<style scoped>\n",
       "    .dataframe tbody tr th:only-of-type {\n",
       "        vertical-align: middle;\n",
       "    }\n",
       "\n",
       "    .dataframe tbody tr th {\n",
       "        vertical-align: top;\n",
       "    }\n",
       "\n",
       "    .dataframe thead th {\n",
       "        text-align: right;\n",
       "    }\n",
       "</style>\n",
       "<table border=\"1\" class=\"dataframe\">\n",
       "  <thead>\n",
       "    <tr style=\"text-align: right;\">\n",
       "      <th></th>\n",
       "      <th>itching</th>\n",
       "      <th>skin rash</th>\n",
       "      <th>nodal skin eruptions</th>\n",
       "      <th>continuous sneezing</th>\n",
       "      <th>shivering</th>\n",
       "      <th>chills</th>\n",
       "      <th>joint pain</th>\n",
       "      <th>stomach pain</th>\n",
       "      <th>acidity</th>\n",
       "      <th>ulcers on tongue</th>\n",
       "      <th>...</th>\n",
       "      <th>blackheads</th>\n",
       "      <th>scurring</th>\n",
       "      <th>skin peeling</th>\n",
       "      <th>silver like dusting</th>\n",
       "      <th>small dents in nails</th>\n",
       "      <th>inflammatory nails</th>\n",
       "      <th>blister</th>\n",
       "      <th>red sore around nose</th>\n",
       "      <th>yellow crust ooze</th>\n",
       "      <th>prognosis</th>\n",
       "    </tr>\n",
       "  </thead>\n",
       "  <tbody>\n",
       "    <tr>\n",
       "      <th>0</th>\n",
       "      <td>0</td>\n",
       "      <td>0</td>\n",
       "      <td>0</td>\n",
       "      <td>0</td>\n",
       "      <td>0</td>\n",
       "      <td>0</td>\n",
       "      <td>0</td>\n",
       "      <td>0</td>\n",
       "      <td>0</td>\n",
       "      <td>0</td>\n",
       "      <td>...</td>\n",
       "      <td>0</td>\n",
       "      <td>0</td>\n",
       "      <td>0</td>\n",
       "      <td>0</td>\n",
       "      <td>0</td>\n",
       "      <td>0</td>\n",
       "      <td>0</td>\n",
       "      <td>0</td>\n",
       "      <td>0</td>\n",
       "      <td>Dimorphic hemmorhoids(piles)</td>\n",
       "    </tr>\n",
       "    <tr>\n",
       "      <th>1</th>\n",
       "      <td>0</td>\n",
       "      <td>0</td>\n",
       "      <td>0</td>\n",
       "      <td>0</td>\n",
       "      <td>0</td>\n",
       "      <td>1</td>\n",
       "      <td>0</td>\n",
       "      <td>0</td>\n",
       "      <td>0</td>\n",
       "      <td>0</td>\n",
       "      <td>...</td>\n",
       "      <td>0</td>\n",
       "      <td>0</td>\n",
       "      <td>0</td>\n",
       "      <td>0</td>\n",
       "      <td>0</td>\n",
       "      <td>0</td>\n",
       "      <td>0</td>\n",
       "      <td>0</td>\n",
       "      <td>0</td>\n",
       "      <td>Malaria</td>\n",
       "    </tr>\n",
       "    <tr>\n",
       "      <th>2</th>\n",
       "      <td>0</td>\n",
       "      <td>0</td>\n",
       "      <td>0</td>\n",
       "      <td>0</td>\n",
       "      <td>0</td>\n",
       "      <td>1</td>\n",
       "      <td>0</td>\n",
       "      <td>0</td>\n",
       "      <td>0</td>\n",
       "      <td>0</td>\n",
       "      <td>...</td>\n",
       "      <td>0</td>\n",
       "      <td>0</td>\n",
       "      <td>0</td>\n",
       "      <td>0</td>\n",
       "      <td>0</td>\n",
       "      <td>0</td>\n",
       "      <td>0</td>\n",
       "      <td>0</td>\n",
       "      <td>0</td>\n",
       "      <td>Malaria</td>\n",
       "    </tr>\n",
       "    <tr>\n",
       "      <th>3</th>\n",
       "      <td>0</td>\n",
       "      <td>0</td>\n",
       "      <td>0</td>\n",
       "      <td>0</td>\n",
       "      <td>0</td>\n",
       "      <td>0</td>\n",
       "      <td>0</td>\n",
       "      <td>0</td>\n",
       "      <td>0</td>\n",
       "      <td>0</td>\n",
       "      <td>...</td>\n",
       "      <td>0</td>\n",
       "      <td>0</td>\n",
       "      <td>0</td>\n",
       "      <td>0</td>\n",
       "      <td>0</td>\n",
       "      <td>0</td>\n",
       "      <td>0</td>\n",
       "      <td>0</td>\n",
       "      <td>0</td>\n",
       "      <td>Hyperthyroidism</td>\n",
       "    </tr>\n",
       "    <tr>\n",
       "      <th>4</th>\n",
       "      <td>0</td>\n",
       "      <td>0</td>\n",
       "      <td>0</td>\n",
       "      <td>0</td>\n",
       "      <td>0</td>\n",
       "      <td>0</td>\n",
       "      <td>0</td>\n",
       "      <td>0</td>\n",
       "      <td>0</td>\n",
       "      <td>0</td>\n",
       "      <td>...</td>\n",
       "      <td>0</td>\n",
       "      <td>0</td>\n",
       "      <td>0</td>\n",
       "      <td>0</td>\n",
       "      <td>0</td>\n",
       "      <td>0</td>\n",
       "      <td>0</td>\n",
       "      <td>0</td>\n",
       "      <td>0</td>\n",
       "      <td>Peptic ulcer diseae</td>\n",
       "    </tr>\n",
       "  </tbody>\n",
       "</table>\n",
       "<p>5 rows × 133 columns</p>\n",
       "</div>"
      ],
      "text/plain": [
       "   itching  skin rash  nodal skin eruptions  continuous sneezing  shivering  \\\n",
       "0        0          0                     0                    0          0   \n",
       "1        0          0                     0                    0          0   \n",
       "2        0          0                     0                    0          0   \n",
       "3        0          0                     0                    0          0   \n",
       "4        0          0                     0                    0          0   \n",
       "\n",
       "   chills  joint pain  stomach pain  acidity  ulcers on tongue  ...  \\\n",
       "0       0           0             0        0                 0  ...   \n",
       "1       1           0             0        0                 0  ...   \n",
       "2       1           0             0        0                 0  ...   \n",
       "3       0           0             0        0                 0  ...   \n",
       "4       0           0             0        0                 0  ...   \n",
       "\n",
       "   blackheads  scurring  skin peeling  silver like dusting  \\\n",
       "0           0         0             0                    0   \n",
       "1           0         0             0                    0   \n",
       "2           0         0             0                    0   \n",
       "3           0         0             0                    0   \n",
       "4           0         0             0                    0   \n",
       "\n",
       "   small dents in nails  inflammatory nails  blister  red sore around nose  \\\n",
       "0                     0                   0        0                     0   \n",
       "1                     0                   0        0                     0   \n",
       "2                     0                   0        0                     0   \n",
       "3                     0                   0        0                     0   \n",
       "4                     0                   0        0                     0   \n",
       "\n",
       "   yellow crust ooze                     prognosis  \n",
       "0                  0  Dimorphic hemmorhoids(piles)  \n",
       "1                  0                       Malaria  \n",
       "2                  0                       Malaria  \n",
       "3                  0               Hyperthyroidism  \n",
       "4                  0           Peptic ulcer diseae  \n",
       "\n",
       "[5 rows x 133 columns]"
      ]
     },
     "execution_count": 6,
     "metadata": {},
     "output_type": "execute_result"
    }
   ],
   "source": [
    "training_df.head()"
   ]
  },
  {
   "cell_type": "code",
   "execution_count": 7,
   "id": "6a6aa127",
   "metadata": {},
   "outputs": [
    {
     "name": "stdout",
     "output_type": "stream",
     "text": [
      "<class 'pandas.core.frame.DataFrame'>\n",
      "RangeIndex: 4920 entries, 0 to 4919\n",
      "Columns: 133 entries, itching to prognosis\n",
      "dtypes: int64(132), object(1)\n",
      "memory usage: 5.0+ MB\n"
     ]
    }
   ],
   "source": [
    "\n",
    "training_df.info()"
   ]
  },
  {
   "cell_type": "code",
   "execution_count": 8,
   "id": "b60183a1",
   "metadata": {},
   "outputs": [
    {
     "data": {
      "text/plain": [
       "(4920, 133)"
      ]
     },
     "execution_count": 8,
     "metadata": {},
     "output_type": "execute_result"
    }
   ],
   "source": [
    "training_df.shape"
   ]
  },
  {
   "cell_type": "markdown",
   "id": "94f0f9b2",
   "metadata": {},
   "source": [
    "Now we separate the data into the training data and the labels. We drop the column toxic look typhus and typhus is a dieseas and not a symptom and dischromic pathches as the models used for matching synonyms are finding it difficult to generate embeddings for the word dischromic."
   ]
  },
  {
   "cell_type": "code",
   "execution_count": 9,
   "id": "600eb1b6",
   "metadata": {},
   "outputs": [],
   "source": [
    "X_train = training_df.drop(['prognosis', 'dischromic  patches', 'toxic look typhos'], axis = 1)\n",
    "y_train = training_df['prognosis']"
   ]
  },
  {
   "cell_type": "code",
   "execution_count": 10,
   "id": "0d39a85a",
   "metadata": {},
   "outputs": [
    {
     "data": {
      "text/plain": [
       "(4920, 130)"
      ]
     },
     "execution_count": 10,
     "metadata": {},
     "output_type": "execute_result"
    }
   ],
   "source": [
    "X_train.shape"
   ]
  },
  {
   "cell_type": "markdown",
   "id": "e0a4c328",
   "metadata": {},
   "source": [
    "We see that we have about 41 disease labels"
   ]
  },
  {
   "cell_type": "code",
   "execution_count": 11,
   "id": "849060af",
   "metadata": {},
   "outputs": [
    {
     "data": {
      "text/plain": [
       "array(['Dimorphic hemmorhoids(piles)', 'Malaria', 'Hyperthyroidism',\n",
       "       'Peptic ulcer diseae', 'Acne', 'Hepatitis B', 'Common Cold',\n",
       "       'Osteoarthristis', 'Allergy', 'Typhoid', 'Hypoglycemia',\n",
       "       'Diabetes ', 'hepatitis A', 'Impetigo', 'Alcoholic hepatitis',\n",
       "       'Hepatitis E', 'Hepatitis D', 'Bronchial Asthma', 'Pneumonia',\n",
       "       'Hypothyroidism', 'Urinary tract infection',\n",
       "       'Cervical spondylosis', 'Tuberculosis', 'Arthritis',\n",
       "       'Fungal infection', 'Gastroenteritis', 'AIDS', 'Hepatitis C',\n",
       "       'Jaundice', 'Heart attack', 'GERD', 'Hypertension ',\n",
       "       'Paralysis (brain hemorrhage)', 'Varicose veins', 'Drug Reaction',\n",
       "       'Psoriasis', 'Dengue', '(vertigo) Paroymsal  Positional Vertigo',\n",
       "       'Chronic cholestasis', 'Migraine', 'Chicken pox'], dtype=object)"
      ]
     },
     "execution_count": 11,
     "metadata": {},
     "output_type": "execute_result"
    }
   ],
   "source": [
    "y_train.unique()"
   ]
  },
  {
   "cell_type": "code",
   "execution_count": 12,
   "id": "75df3e68",
   "metadata": {},
   "outputs": [
    {
     "data": {
      "text/html": [
       "<div>\n",
       "<style scoped>\n",
       "    .dataframe tbody tr th:only-of-type {\n",
       "        vertical-align: middle;\n",
       "    }\n",
       "\n",
       "    .dataframe tbody tr th {\n",
       "        vertical-align: top;\n",
       "    }\n",
       "\n",
       "    .dataframe thead th {\n",
       "        text-align: right;\n",
       "    }\n",
       "</style>\n",
       "<table border=\"1\" class=\"dataframe\">\n",
       "  <thead>\n",
       "    <tr style=\"text-align: right;\">\n",
       "      <th></th>\n",
       "      <th>itching</th>\n",
       "      <th>skin rash</th>\n",
       "      <th>nodal skin eruptions</th>\n",
       "      <th>continuous sneezing</th>\n",
       "      <th>shivering</th>\n",
       "      <th>chills</th>\n",
       "      <th>joint pain</th>\n",
       "      <th>stomach pain</th>\n",
       "      <th>acidity</th>\n",
       "      <th>ulcers on tongue</th>\n",
       "      <th>...</th>\n",
       "      <th>pus filled pimples</th>\n",
       "      <th>blackheads</th>\n",
       "      <th>scurring</th>\n",
       "      <th>skin peeling</th>\n",
       "      <th>silver like dusting</th>\n",
       "      <th>small dents in nails</th>\n",
       "      <th>inflammatory nails</th>\n",
       "      <th>blister</th>\n",
       "      <th>red sore around nose</th>\n",
       "      <th>yellow crust ooze</th>\n",
       "    </tr>\n",
       "  </thead>\n",
       "  <tbody>\n",
       "    <tr>\n",
       "      <th>0</th>\n",
       "      <td>0</td>\n",
       "      <td>0</td>\n",
       "      <td>0</td>\n",
       "      <td>0</td>\n",
       "      <td>0</td>\n",
       "      <td>0</td>\n",
       "      <td>0</td>\n",
       "      <td>0</td>\n",
       "      <td>0</td>\n",
       "      <td>0</td>\n",
       "      <td>...</td>\n",
       "      <td>0</td>\n",
       "      <td>0</td>\n",
       "      <td>0</td>\n",
       "      <td>0</td>\n",
       "      <td>0</td>\n",
       "      <td>0</td>\n",
       "      <td>0</td>\n",
       "      <td>0</td>\n",
       "      <td>0</td>\n",
       "      <td>0</td>\n",
       "    </tr>\n",
       "    <tr>\n",
       "      <th>1</th>\n",
       "      <td>0</td>\n",
       "      <td>0</td>\n",
       "      <td>0</td>\n",
       "      <td>0</td>\n",
       "      <td>0</td>\n",
       "      <td>1</td>\n",
       "      <td>0</td>\n",
       "      <td>0</td>\n",
       "      <td>0</td>\n",
       "      <td>0</td>\n",
       "      <td>...</td>\n",
       "      <td>0</td>\n",
       "      <td>0</td>\n",
       "      <td>0</td>\n",
       "      <td>0</td>\n",
       "      <td>0</td>\n",
       "      <td>0</td>\n",
       "      <td>0</td>\n",
       "      <td>0</td>\n",
       "      <td>0</td>\n",
       "      <td>0</td>\n",
       "    </tr>\n",
       "    <tr>\n",
       "      <th>2</th>\n",
       "      <td>0</td>\n",
       "      <td>0</td>\n",
       "      <td>0</td>\n",
       "      <td>0</td>\n",
       "      <td>0</td>\n",
       "      <td>1</td>\n",
       "      <td>0</td>\n",
       "      <td>0</td>\n",
       "      <td>0</td>\n",
       "      <td>0</td>\n",
       "      <td>...</td>\n",
       "      <td>0</td>\n",
       "      <td>0</td>\n",
       "      <td>0</td>\n",
       "      <td>0</td>\n",
       "      <td>0</td>\n",
       "      <td>0</td>\n",
       "      <td>0</td>\n",
       "      <td>0</td>\n",
       "      <td>0</td>\n",
       "      <td>0</td>\n",
       "    </tr>\n",
       "    <tr>\n",
       "      <th>3</th>\n",
       "      <td>0</td>\n",
       "      <td>0</td>\n",
       "      <td>0</td>\n",
       "      <td>0</td>\n",
       "      <td>0</td>\n",
       "      <td>0</td>\n",
       "      <td>0</td>\n",
       "      <td>0</td>\n",
       "      <td>0</td>\n",
       "      <td>0</td>\n",
       "      <td>...</td>\n",
       "      <td>0</td>\n",
       "      <td>0</td>\n",
       "      <td>0</td>\n",
       "      <td>0</td>\n",
       "      <td>0</td>\n",
       "      <td>0</td>\n",
       "      <td>0</td>\n",
       "      <td>0</td>\n",
       "      <td>0</td>\n",
       "      <td>0</td>\n",
       "    </tr>\n",
       "    <tr>\n",
       "      <th>4</th>\n",
       "      <td>0</td>\n",
       "      <td>0</td>\n",
       "      <td>0</td>\n",
       "      <td>0</td>\n",
       "      <td>0</td>\n",
       "      <td>0</td>\n",
       "      <td>0</td>\n",
       "      <td>0</td>\n",
       "      <td>0</td>\n",
       "      <td>0</td>\n",
       "      <td>...</td>\n",
       "      <td>0</td>\n",
       "      <td>0</td>\n",
       "      <td>0</td>\n",
       "      <td>0</td>\n",
       "      <td>0</td>\n",
       "      <td>0</td>\n",
       "      <td>0</td>\n",
       "      <td>0</td>\n",
       "      <td>0</td>\n",
       "      <td>0</td>\n",
       "    </tr>\n",
       "  </tbody>\n",
       "</table>\n",
       "<p>5 rows × 130 columns</p>\n",
       "</div>"
      ],
      "text/plain": [
       "   itching  skin rash  nodal skin eruptions  continuous sneezing  shivering  \\\n",
       "0        0          0                     0                    0          0   \n",
       "1        0          0                     0                    0          0   \n",
       "2        0          0                     0                    0          0   \n",
       "3        0          0                     0                    0          0   \n",
       "4        0          0                     0                    0          0   \n",
       "\n",
       "   chills  joint pain  stomach pain  acidity  ulcers on tongue  ...  \\\n",
       "0       0           0             0        0                 0  ...   \n",
       "1       1           0             0        0                 0  ...   \n",
       "2       1           0             0        0                 0  ...   \n",
       "3       0           0             0        0                 0  ...   \n",
       "4       0           0             0        0                 0  ...   \n",
       "\n",
       "   pus filled pimples  blackheads  scurring  skin peeling  \\\n",
       "0                   0           0         0             0   \n",
       "1                   0           0         0             0   \n",
       "2                   0           0         0             0   \n",
       "3                   0           0         0             0   \n",
       "4                   0           0         0             0   \n",
       "\n",
       "   silver like dusting  small dents in nails  inflammatory nails  blister  \\\n",
       "0                    0                     0                   0        0   \n",
       "1                    0                     0                   0        0   \n",
       "2                    0                     0                   0        0   \n",
       "3                    0                     0                   0        0   \n",
       "4                    0                     0                   0        0   \n",
       "\n",
       "   red sore around nose  yellow crust ooze  \n",
       "0                     0                  0  \n",
       "1                     0                  0  \n",
       "2                     0                  0  \n",
       "3                     0                  0  \n",
       "4                     0                  0  \n",
       "\n",
       "[5 rows x 130 columns]"
      ]
     },
     "execution_count": 12,
     "metadata": {},
     "output_type": "execute_result"
    }
   ],
   "source": [
    "X_train.head()"
   ]
  },
  {
   "cell_type": "code",
   "execution_count": 13,
   "id": "a185b9e8",
   "metadata": {},
   "outputs": [
    {
     "data": {
      "text/plain": [
       "0    Dimorphic hemmorhoids(piles)\n",
       "1                         Malaria\n",
       "2                         Malaria\n",
       "3                 Hyperthyroidism\n",
       "4             Peptic ulcer diseae\n",
       "Name: prognosis, dtype: object"
      ]
     },
     "execution_count": 13,
     "metadata": {},
     "output_type": "execute_result"
    }
   ],
   "source": [
    "y_train.head()"
   ]
  },
  {
   "cell_type": "code",
   "execution_count": 20,
   "id": "69c8c103",
   "metadata": {},
   "outputs": [],
   "source": [
    "X_test = testing_df.drop(['prognosis', 'dischromic  patches', 'toxic look typhos'], axis = 1)\n",
    "y_test = testing_df['prognosis']"
   ]
  },
  {
   "cell_type": "markdown",
   "id": "ace665a0",
   "metadata": {},
   "source": [
    "## Machine learninig"
   ]
  },
  {
   "cell_type": "code",
   "execution_count": 14,
   "id": "331cdd49",
   "metadata": {},
   "outputs": [],
   "source": [
    "# Importing the necassary libraries\n",
    "import numpy as np\n",
    "import pandas as pd\n",
    "import matplotlib.pyplot as plt\n",
    "import seaborn as sns\n",
    "from sklearn.impute import SimpleImputer\n",
    "from sklearn.pipeline import Pipeline\n",
    "from sklearn.preprocessing import StandardScaler\n",
    "from sklearn.model_selection import train_test_split\n",
    "from sklearn.ensemble import RandomForestClassifier\n",
    "from sklearn.model_selection import GridSearchCV\n",
    "from sklearn.model_selection import RandomizedSearchCV\n",
    "from sklearn.model_selection import cross_val_predict\n",
    "from sklearn.model_selection import cross_val_score\n",
    "from sklearn.metrics import confusion_matrix\n",
    "from sklearn.metrics import precision_score, recall_score\n",
    "from sklearn.metrics import f1_score\n",
    "%matplotlib inline"
   ]
  },
  {
   "cell_type": "code",
   "execution_count": 15,
   "id": "a693a5cc",
   "metadata": {},
   "outputs": [],
   "source": [
    "# Plotting the grid search metrics\n",
    "def plot_search_results(grid, params):\n",
    "    \"\"\"\n",
    "    Parameters: \n",
    "        grid: A trained GridSearchCV object.\n",
    "        params: A dictionary of model attributes as keys and the values as the list of values the parameters \n",
    "                take for the grid search \n",
    "    \"\"\"\n",
    "    ## Results from grid search\n",
    "    results = grid.cv_results_\n",
    "    means_test = results['mean_test_score']\n",
    "    means_train = results['mean_train_score']\n",
    "\n",
    "    ## Getting indexes of values per hyper-parameter\n",
    "    masks=[]\n",
    "    masks_names= list(grid.best_params_.keys())\n",
    "    for p_k, p_v in grid.best_params_.items():\n",
    "        masks.append(list(results['param_'+p_k].data==p_v))\n",
    "    \n",
    "  \n",
    "    pram_preformace_in_best = {}\n",
    "    for i, p in enumerate(masks_names):\n",
    "        #print(p)\n",
    "        m = np.stack(masks[:i] + masks[i+1:])\n",
    "        pram_preformace_in_best\n",
    "        best_parms_mask = m.all(axis=0)\n",
    "        best_index = np.where(best_parms_mask)[0]\n",
    "        x = np.array(params[0][p])\n",
    "        y_1 = np.array(means_test[best_index])\n",
    "        y_2 = np.array(means_train[best_index])\n",
    "\n",
    "        plt.title('Mean score per parameter')\n",
    "        plt.ylabel('Mean accuracy score')\n",
    "        plt.plot(x, y_1, linestyle='--', marker='o', label='Test')\n",
    "        plt.plot(x, y_2, linestyle='-', marker='^',label='Train' )\n",
    "        plt.xlabel(p.upper())\n",
    "        plt.legend()\n",
    "        plt.show()"
   ]
  },
  {
   "cell_type": "markdown",
   "id": "e499db71",
   "metadata": {},
   "source": [
    "### Logistic regression"
   ]
  },
  {
   "cell_type": "code",
   "execution_count": 16,
   "id": "09296687",
   "metadata": {},
   "outputs": [
    {
     "name": "stderr",
     "output_type": "stream",
     "text": [
      "/opt/homebrew/Caskroom/miniforge/base/envs/tensorflow/lib/python3.9/site-packages/sklearn/svm/_base.py:1206: ConvergenceWarning: Liblinear failed to converge, increase the number of iterations.\n",
      "  warnings.warn(\n",
      "/opt/homebrew/Caskroom/miniforge/base/envs/tensorflow/lib/python3.9/site-packages/sklearn/svm/_base.py:1206: ConvergenceWarning: Liblinear failed to converge, increase the number of iterations.\n",
      "  warnings.warn(\n",
      "/opt/homebrew/Caskroom/miniforge/base/envs/tensorflow/lib/python3.9/site-packages/sklearn/svm/_base.py:1206: ConvergenceWarning: Liblinear failed to converge, increase the number of iterations.\n",
      "  warnings.warn(\n",
      "/opt/homebrew/Caskroom/miniforge/base/envs/tensorflow/lib/python3.9/site-packages/sklearn/svm/_base.py:1206: ConvergenceWarning: Liblinear failed to converge, increase the number of iterations.\n",
      "  warnings.warn(\n",
      "/opt/homebrew/Caskroom/miniforge/base/envs/tensorflow/lib/python3.9/site-packages/sklearn/svm/_base.py:1206: ConvergenceWarning: Liblinear failed to converge, increase the number of iterations.\n",
      "  warnings.warn(\n",
      "/opt/homebrew/Caskroom/miniforge/base/envs/tensorflow/lib/python3.9/site-packages/sklearn/svm/_base.py:1206: ConvergenceWarning: Liblinear failed to converge, increase the number of iterations.\n",
      "  warnings.warn(\n",
      "/opt/homebrew/Caskroom/miniforge/base/envs/tensorflow/lib/python3.9/site-packages/sklearn/svm/_base.py:1206: ConvergenceWarning: Liblinear failed to converge, increase the number of iterations.\n",
      "  warnings.warn(\n",
      "/opt/homebrew/Caskroom/miniforge/base/envs/tensorflow/lib/python3.9/site-packages/sklearn/svm/_base.py:1206: ConvergenceWarning: Liblinear failed to converge, increase the number of iterations.\n",
      "  warnings.warn(\n",
      "/opt/homebrew/Caskroom/miniforge/base/envs/tensorflow/lib/python3.9/site-packages/sklearn/linear_model/_logistic.py:814: ConvergenceWarning: lbfgs failed to converge (status=1):\n",
      "STOP: TOTAL NO. of ITERATIONS REACHED LIMIT.\n",
      "\n",
      "Increase the number of iterations (max_iter) or scale the data as shown in:\n",
      "    https://scikit-learn.org/stable/modules/preprocessing.html\n",
      "Please also refer to the documentation for alternative solver options:\n",
      "    https://scikit-learn.org/stable/modules/linear_model.html#logistic-regression\n",
      "  n_iter_i = _check_optimize_result(\n",
      "/opt/homebrew/Caskroom/miniforge/base/envs/tensorflow/lib/python3.9/site-packages/sklearn/linear_model/_logistic.py:814: ConvergenceWarning: lbfgs failed to converge (status=1):\n",
      "STOP: TOTAL NO. of ITERATIONS REACHED LIMIT.\n",
      "\n",
      "Increase the number of iterations (max_iter) or scale the data as shown in:\n",
      "    https://scikit-learn.org/stable/modules/preprocessing.html\n",
      "Please also refer to the documentation for alternative solver options:\n",
      "    https://scikit-learn.org/stable/modules/linear_model.html#logistic-regression\n",
      "  n_iter_i = _check_optimize_result(\n",
      "/opt/homebrew/Caskroom/miniforge/base/envs/tensorflow/lib/python3.9/site-packages/sklearn/linear_model/_logistic.py:814: ConvergenceWarning: lbfgs failed to converge (status=1):\n",
      "STOP: TOTAL NO. of ITERATIONS REACHED LIMIT.\n",
      "\n",
      "Increase the number of iterations (max_iter) or scale the data as shown in:\n",
      "    https://scikit-learn.org/stable/modules/preprocessing.html\n",
      "Please also refer to the documentation for alternative solver options:\n",
      "    https://scikit-learn.org/stable/modules/linear_model.html#logistic-regression\n",
      "  n_iter_i = _check_optimize_result(\n",
      "/opt/homebrew/Caskroom/miniforge/base/envs/tensorflow/lib/python3.9/site-packages/sklearn/linear_model/_logistic.py:814: ConvergenceWarning: lbfgs failed to converge (status=1):\n",
      "STOP: TOTAL NO. of ITERATIONS REACHED LIMIT.\n",
      "\n",
      "Increase the number of iterations (max_iter) or scale the data as shown in:\n",
      "    https://scikit-learn.org/stable/modules/preprocessing.html\n",
      "Please also refer to the documentation for alternative solver options:\n",
      "    https://scikit-learn.org/stable/modules/linear_model.html#logistic-regression\n",
      "  n_iter_i = _check_optimize_result(\n",
      "/opt/homebrew/Caskroom/miniforge/base/envs/tensorflow/lib/python3.9/site-packages/sklearn/linear_model/_logistic.py:814: ConvergenceWarning: lbfgs failed to converge (status=1):\n",
      "STOP: TOTAL NO. of ITERATIONS REACHED LIMIT.\n",
      "\n",
      "Increase the number of iterations (max_iter) or scale the data as shown in:\n",
      "    https://scikit-learn.org/stable/modules/preprocessing.html\n",
      "Please also refer to the documentation for alternative solver options:\n",
      "    https://scikit-learn.org/stable/modules/linear_model.html#logistic-regression\n",
      "  n_iter_i = _check_optimize_result(\n",
      "/opt/homebrew/Caskroom/miniforge/base/envs/tensorflow/lib/python3.9/site-packages/sklearn/linear_model/_logistic.py:814: ConvergenceWarning: lbfgs failed to converge (status=1):\n",
      "STOP: TOTAL NO. of ITERATIONS REACHED LIMIT.\n",
      "\n",
      "Increase the number of iterations (max_iter) or scale the data as shown in:\n",
      "    https://scikit-learn.org/stable/modules/preprocessing.html\n",
      "Please also refer to the documentation for alternative solver options:\n",
      "    https://scikit-learn.org/stable/modules/linear_model.html#logistic-regression\n",
      "  n_iter_i = _check_optimize_result(\n",
      "/opt/homebrew/Caskroom/miniforge/base/envs/tensorflow/lib/python3.9/site-packages/sklearn/linear_model/_logistic.py:814: ConvergenceWarning: lbfgs failed to converge (status=1):\n",
      "STOP: TOTAL NO. of ITERATIONS REACHED LIMIT.\n",
      "\n",
      "Increase the number of iterations (max_iter) or scale the data as shown in:\n",
      "    https://scikit-learn.org/stable/modules/preprocessing.html\n",
      "Please also refer to the documentation for alternative solver options:\n",
      "    https://scikit-learn.org/stable/modules/linear_model.html#logistic-regression\n",
      "  n_iter_i = _check_optimize_result(\n",
      "/opt/homebrew/Caskroom/miniforge/base/envs/tensorflow/lib/python3.9/site-packages/sklearn/linear_model/_logistic.py:814: ConvergenceWarning: lbfgs failed to converge (status=1):\n",
      "STOP: TOTAL NO. of ITERATIONS REACHED LIMIT.\n",
      "\n",
      "Increase the number of iterations (max_iter) or scale the data as shown in:\n",
      "    https://scikit-learn.org/stable/modules/preprocessing.html\n",
      "Please also refer to the documentation for alternative solver options:\n",
      "    https://scikit-learn.org/stable/modules/linear_model.html#logistic-regression\n",
      "  n_iter_i = _check_optimize_result(\n",
      "/opt/homebrew/Caskroom/miniforge/base/envs/tensorflow/lib/python3.9/site-packages/sklearn/linear_model/_logistic.py:814: ConvergenceWarning: lbfgs failed to converge (status=1):\n",
      "STOP: TOTAL NO. of ITERATIONS REACHED LIMIT.\n",
      "\n",
      "Increase the number of iterations (max_iter) or scale the data as shown in:\n",
      "    https://scikit-learn.org/stable/modules/preprocessing.html\n",
      "Please also refer to the documentation for alternative solver options:\n",
      "    https://scikit-learn.org/stable/modules/linear_model.html#logistic-regression\n",
      "  n_iter_i = _check_optimize_result(\n",
      "/opt/homebrew/Caskroom/miniforge/base/envs/tensorflow/lib/python3.9/site-packages/sklearn/linear_model/_logistic.py:814: ConvergenceWarning: lbfgs failed to converge (status=1):\n",
      "STOP: TOTAL NO. of ITERATIONS REACHED LIMIT.\n",
      "\n",
      "Increase the number of iterations (max_iter) or scale the data as shown in:\n",
      "    https://scikit-learn.org/stable/modules/preprocessing.html\n",
      "Please also refer to the documentation for alternative solver options:\n",
      "    https://scikit-learn.org/stable/modules/linear_model.html#logistic-regression\n",
      "  n_iter_i = _check_optimize_result(\n",
      "/opt/homebrew/Caskroom/miniforge/base/envs/tensorflow/lib/python3.9/site-packages/sklearn/linear_model/_logistic.py:814: ConvergenceWarning: lbfgs failed to converge (status=1):\n",
      "STOP: TOTAL NO. of ITERATIONS REACHED LIMIT.\n",
      "\n",
      "Increase the number of iterations (max_iter) or scale the data as shown in:\n",
      "    https://scikit-learn.org/stable/modules/preprocessing.html\n",
      "Please also refer to the documentation for alternative solver options:\n",
      "    https://scikit-learn.org/stable/modules/linear_model.html#logistic-regression\n",
      "  n_iter_i = _check_optimize_result(\n",
      "/opt/homebrew/Caskroom/miniforge/base/envs/tensorflow/lib/python3.9/site-packages/sklearn/linear_model/_logistic.py:814: ConvergenceWarning: lbfgs failed to converge (status=1):\n",
      "STOP: TOTAL NO. of ITERATIONS REACHED LIMIT.\n",
      "\n",
      "Increase the number of iterations (max_iter) or scale the data as shown in:\n",
      "    https://scikit-learn.org/stable/modules/preprocessing.html\n",
      "Please also refer to the documentation for alternative solver options:\n",
      "    https://scikit-learn.org/stable/modules/linear_model.html#logistic-regression\n",
      "  n_iter_i = _check_optimize_result(\n"
     ]
    },
    {
     "name": "stderr",
     "output_type": "stream",
     "text": [
      "/opt/homebrew/Caskroom/miniforge/base/envs/tensorflow/lib/python3.9/site-packages/sklearn/linear_model/_logistic.py:814: ConvergenceWarning: lbfgs failed to converge (status=1):\n",
      "STOP: TOTAL NO. of ITERATIONS REACHED LIMIT.\n",
      "\n",
      "Increase the number of iterations (max_iter) or scale the data as shown in:\n",
      "    https://scikit-learn.org/stable/modules/preprocessing.html\n",
      "Please also refer to the documentation for alternative solver options:\n",
      "    https://scikit-learn.org/stable/modules/linear_model.html#logistic-regression\n",
      "  n_iter_i = _check_optimize_result(\n",
      "/opt/homebrew/Caskroom/miniforge/base/envs/tensorflow/lib/python3.9/site-packages/sklearn/linear_model/_logistic.py:814: ConvergenceWarning: lbfgs failed to converge (status=1):\n",
      "STOP: TOTAL NO. of ITERATIONS REACHED LIMIT.\n",
      "\n",
      "Increase the number of iterations (max_iter) or scale the data as shown in:\n",
      "    https://scikit-learn.org/stable/modules/preprocessing.html\n",
      "Please also refer to the documentation for alternative solver options:\n",
      "    https://scikit-learn.org/stable/modules/linear_model.html#logistic-regression\n",
      "  n_iter_i = _check_optimize_result(\n",
      "/opt/homebrew/Caskroom/miniforge/base/envs/tensorflow/lib/python3.9/site-packages/sklearn/linear_model/_logistic.py:814: ConvergenceWarning: lbfgs failed to converge (status=1):\n",
      "STOP: TOTAL NO. of ITERATIONS REACHED LIMIT.\n",
      "\n",
      "Increase the number of iterations (max_iter) or scale the data as shown in:\n",
      "    https://scikit-learn.org/stable/modules/preprocessing.html\n",
      "Please also refer to the documentation for alternative solver options:\n",
      "    https://scikit-learn.org/stable/modules/linear_model.html#logistic-regression\n",
      "  n_iter_i = _check_optimize_result(\n",
      "/opt/homebrew/Caskroom/miniforge/base/envs/tensorflow/lib/python3.9/site-packages/sklearn/linear_model/_logistic.py:814: ConvergenceWarning: lbfgs failed to converge (status=1):\n",
      "STOP: TOTAL NO. of ITERATIONS REACHED LIMIT.\n",
      "\n",
      "Increase the number of iterations (max_iter) or scale the data as shown in:\n",
      "    https://scikit-learn.org/stable/modules/preprocessing.html\n",
      "Please also refer to the documentation for alternative solver options:\n",
      "    https://scikit-learn.org/stable/modules/linear_model.html#logistic-regression\n",
      "  n_iter_i = _check_optimize_result(\n",
      "/opt/homebrew/Caskroom/miniforge/base/envs/tensorflow/lib/python3.9/site-packages/sklearn/linear_model/_logistic.py:814: ConvergenceWarning: lbfgs failed to converge (status=1):\n",
      "STOP: TOTAL NO. of ITERATIONS REACHED LIMIT.\n",
      "\n",
      "Increase the number of iterations (max_iter) or scale the data as shown in:\n",
      "    https://scikit-learn.org/stable/modules/preprocessing.html\n",
      "Please also refer to the documentation for alternative solver options:\n",
      "    https://scikit-learn.org/stable/modules/linear_model.html#logistic-regression\n",
      "  n_iter_i = _check_optimize_result(\n",
      "/opt/homebrew/Caskroom/miniforge/base/envs/tensorflow/lib/python3.9/site-packages/sklearn/linear_model/_logistic.py:814: ConvergenceWarning: lbfgs failed to converge (status=1):\n",
      "STOP: TOTAL NO. of ITERATIONS REACHED LIMIT.\n",
      "\n",
      "Increase the number of iterations (max_iter) or scale the data as shown in:\n",
      "    https://scikit-learn.org/stable/modules/preprocessing.html\n",
      "Please also refer to the documentation for alternative solver options:\n",
      "    https://scikit-learn.org/stable/modules/linear_model.html#logistic-regression\n",
      "  n_iter_i = _check_optimize_result(\n",
      "/opt/homebrew/Caskroom/miniforge/base/envs/tensorflow/lib/python3.9/site-packages/sklearn/linear_model/_logistic.py:814: ConvergenceWarning: lbfgs failed to converge (status=1):\n",
      "STOP: TOTAL NO. of ITERATIONS REACHED LIMIT.\n",
      "\n",
      "Increase the number of iterations (max_iter) or scale the data as shown in:\n",
      "    https://scikit-learn.org/stable/modules/preprocessing.html\n",
      "Please also refer to the documentation for alternative solver options:\n",
      "    https://scikit-learn.org/stable/modules/linear_model.html#logistic-regression\n",
      "  n_iter_i = _check_optimize_result(\n",
      "/opt/homebrew/Caskroom/miniforge/base/envs/tensorflow/lib/python3.9/site-packages/sklearn/linear_model/_logistic.py:814: ConvergenceWarning: lbfgs failed to converge (status=1):\n",
      "STOP: TOTAL NO. of ITERATIONS REACHED LIMIT.\n",
      "\n",
      "Increase the number of iterations (max_iter) or scale the data as shown in:\n",
      "    https://scikit-learn.org/stable/modules/preprocessing.html\n",
      "Please also refer to the documentation for alternative solver options:\n",
      "    https://scikit-learn.org/stable/modules/linear_model.html#logistic-regression\n",
      "  n_iter_i = _check_optimize_result(\n",
      "/opt/homebrew/Caskroom/miniforge/base/envs/tensorflow/lib/python3.9/site-packages/sklearn/linear_model/_logistic.py:814: ConvergenceWarning: lbfgs failed to converge (status=1):\n",
      "STOP: TOTAL NO. of ITERATIONS REACHED LIMIT.\n",
      "\n",
      "Increase the number of iterations (max_iter) or scale the data as shown in:\n",
      "    https://scikit-learn.org/stable/modules/preprocessing.html\n",
      "Please also refer to the documentation for alternative solver options:\n",
      "    https://scikit-learn.org/stable/modules/linear_model.html#logistic-regression\n",
      "  n_iter_i = _check_optimize_result(\n",
      "/opt/homebrew/Caskroom/miniforge/base/envs/tensorflow/lib/python3.9/site-packages/sklearn/linear_model/_logistic.py:814: ConvergenceWarning: lbfgs failed to converge (status=1):\n",
      "STOP: TOTAL NO. of ITERATIONS REACHED LIMIT.\n",
      "\n",
      "Increase the number of iterations (max_iter) or scale the data as shown in:\n",
      "    https://scikit-learn.org/stable/modules/preprocessing.html\n",
      "Please also refer to the documentation for alternative solver options:\n",
      "    https://scikit-learn.org/stable/modules/linear_model.html#logistic-regression\n",
      "  n_iter_i = _check_optimize_result(\n",
      "/opt/homebrew/Caskroom/miniforge/base/envs/tensorflow/lib/python3.9/site-packages/sklearn/linear_model/_logistic.py:814: ConvergenceWarning: lbfgs failed to converge (status=1):\n",
      "STOP: TOTAL NO. of ITERATIONS REACHED LIMIT.\n",
      "\n",
      "Increase the number of iterations (max_iter) or scale the data as shown in:\n",
      "    https://scikit-learn.org/stable/modules/preprocessing.html\n",
      "Please also refer to the documentation for alternative solver options:\n",
      "    https://scikit-learn.org/stable/modules/linear_model.html#logistic-regression\n",
      "  n_iter_i = _check_optimize_result(\n",
      "/opt/homebrew/Caskroom/miniforge/base/envs/tensorflow/lib/python3.9/site-packages/sklearn/linear_model/_logistic.py:814: ConvergenceWarning: lbfgs failed to converge (status=1):\n",
      "STOP: TOTAL NO. of ITERATIONS REACHED LIMIT.\n",
      "\n",
      "Increase the number of iterations (max_iter) or scale the data as shown in:\n",
      "    https://scikit-learn.org/stable/modules/preprocessing.html\n",
      "Please also refer to the documentation for alternative solver options:\n",
      "    https://scikit-learn.org/stable/modules/linear_model.html#logistic-regression\n",
      "  n_iter_i = _check_optimize_result(\n",
      "/opt/homebrew/Caskroom/miniforge/base/envs/tensorflow/lib/python3.9/site-packages/sklearn/svm/_base.py:1206: ConvergenceWarning: Liblinear failed to converge, increase the number of iterations.\n",
      "  warnings.warn(\n"
     ]
    }
   ],
   "source": [
    "# Using grid search to tune hyper parametrers\n",
    "from sklearn.linear_model import LogisticRegression\n",
    "from sklearn.model_selection import GridSearchCV\n",
    "\n",
    "logistic_model = LogisticRegression()\n",
    "param_grid = [\n",
    "              {'solver' :['liblinear'], 'penalty' : ['l1', 'l2'], 'max_iter': [15,20, 30, 40]},\n",
    "              {'solver': ['lbfgs'], 'penalty': ['none', 'l2'], 'max_iter': [ 15, 20, 30, 40]}\n",
    "]\n",
    "\n",
    "model1_grid_search = GridSearchCV(logistic_model, param_grid, cv = 4,\n",
    "                                  scoring = 'accuracy',\n",
    "                                  return_train_score = True)\n",
    "grid1 = model1_grid_search.fit(X_train, y_train)"
   ]
  },
  {
   "cell_type": "code",
   "execution_count": 17,
   "id": "ebd085e3",
   "metadata": {},
   "outputs": [
    {
     "data": {
      "image/png": "[encoded data removed]",
      "text/plain": [
       "<Figure size 432x288 with 1 Axes>"
      ]
     },
     "metadata": {
      "needs_background": "light"
     },
     "output_type": "display_data"
    },
    {
     "data": {
      "image/png": "[encoded data removed]",
      "text/plain": [
       "<Figure size 432x288 with 1 Axes>"
      ]
     },
     "metadata": {
      "needs_background": "light"
     },
     "output_type": "display_data"
    },
    {
     "data": {
      "image/png": "[encoded data removed]",
      "text/plain": [
       "<Figure size 432x288 with 1 Axes>"
      ]
     },
     "metadata": {
      "needs_background": "light"
     },
     "output_type": "display_data"
    }
   ],
   "source": [
    "params = [{'solver': ['liblinear'], 'penalty': [ 'l1', 'l2'], 'max_iter': [ 15, 20, 30, 40]}]\n",
    "plot_search_results(grid1, params)\n"
   ]
  },
  {
   "cell_type": "markdown",
   "id": "05b50df5",
   "metadata": {},
   "source": [
    "We see that all values produce a training and validation accuracy of 100%"
   ]
  },
  {
   "cell_type": "markdown",
   "id": "861d5cf0",
   "metadata": {},
   "source": [
    "##### Training and testing the models based on the Hyperparameter tuning"
   ]
  },
  {
   "cell_type": "code",
   "execution_count": 18,
   "id": "a372c09a",
   "metadata": {},
   "outputs": [
    {
     "name": "stdout",
     "output_type": "stream",
     "text": [
      "Training accuracy:  1.0\n",
      "Average validation accuracy:  1.0\n",
      "[[120   0   0 ...   0   0   0]\n",
      " [  0 120   0 ...   0   0   0]\n",
      " [  0   0 120 ...   0   0   0]\n",
      " ...\n",
      " [  0   0   0 ... 120   0   0]\n",
      " [  0   0   0 ...   0 120   0]\n",
      " [  0   0   0 ...   0   0 120]]\n",
      "precision score:  1.0\n",
      "recall score:  1.0\n",
      "F1-score:  1.0\n"
     ]
    }
   ],
   "source": [
    "# Using logistic regression \n",
    "from sklearn.linear_model import LogisticRegression\n",
    "\n",
    "logistic_model = LogisticRegression(max_iter = 80, penalty = 'l2', solver = 'lbfgs')\n",
    "\n",
    "# Fitting the model to the training data\n",
    "logistic_model.fit(X_train, y_train)\n",
    "training_pred = logistic_model.predict(X_train)\n",
    "\n",
    "training_acc = np.count_nonzero(training_pred == y_train) / len(y_train)\n",
    "print('Training accuracy: ', training_acc)\n",
    "average_acc = np.mean(cross_val_score(logistic_model, X_train, y_train, cv = 10, scoring = 'accuracy'))\n",
    "print('Average validation accuracy: ', average_acc)\n",
    "\n",
    "# Confusion matrix for training data\n",
    "\n",
    "y_train_predict = cross_val_predict(logistic_model, X_train, y_train, cv = 10)\n",
    "\n",
    "\n",
    "print(confusion_matrix(y_train, y_train_predict))\n",
    "precision = precision_score(y_train, y_train_predict, average = 'micro')\n",
    "recall = recall_score(y_train, y_train_predict, average = 'micro')\n",
    "f1 = f1_score(y_train, y_train_predict, average = 'micro')\n",
    "print('precision score: ', precision)\n",
    "print('recall score: ', recall)\n",
    "print('F1-score: ', f1)"
   ]
  },
  {
   "cell_type": "code",
   "execution_count": 21,
   "id": "7c502b15",
   "metadata": {},
   "outputs": [
    {
     "name": "stdout",
     "output_type": "stream",
     "text": [
      "Test accuracy:  1.0\n",
      "[[1 0 0 ... 0 0 0]\n",
      " [0 1 0 ... 0 0 0]\n",
      " [0 0 1 ... 0 0 0]\n",
      " ...\n",
      " [0 0 0 ... 1 0 0]\n",
      " [0 0 0 ... 0 1 0]\n",
      " [0 0 0 ... 0 0 1]]\n",
      "precision score:  1.0\n",
      "recall score:  1.0\n",
      "F1-score:  1.0\n"
     ]
    }
   ],
   "source": [
    "# Test accuracy\n",
    "y_test_predictions = logistic_model.predict(X_test)\n",
    "\n",
    "acc = np.count_nonzero(y_test == y_test_predictions) / len(y_test)\n",
    "print('Test accuracy: ', acc)\n",
    "\n",
    "print(confusion_matrix(y_test, y_test_predictions))\n",
    "\n",
    "precision = precision_score(y_test, y_test_predictions, average = 'micro')\n",
    "recall = recall_score(y_test, y_test_predictions, average = 'micro')\n",
    "f1 = f1_score(y_test, y_test_predictions,average = 'micro')\n",
    "print('precision score: ', precision)\n",
    "print('recall score: ', recall)\n",
    "print('F1-score: ', f1)"
   ]
  },
  {
   "cell_type": "markdown",
   "id": "792b8be8",
   "metadata": {},
   "source": [
    "## Decision trees"
   ]
  },
  {
   "cell_type": "code",
   "execution_count": 22,
   "id": "b6d2eb6d",
   "metadata": {},
   "outputs": [],
   "source": [
    "from sklearn.tree import DecisionTreeClassifier\n",
    "\n",
    "# Inintializing the model\n",
    "Decision_tree_model = DecisionTreeClassifier()\n",
    "\n",
    "# Parameter Dictionary\n",
    "param_grid = [\n",
    "              {'criterion' :['gini', 'entropy'], 'splitter': ['best', 'random'], 'max_depth': [ 15, 20, 21, 22, 23], 'min_samples_split' : [2,3,4,5,6],\n",
    "               'min_samples_leaf': [1,2,3,4,5], 'max_features': [None, 'auto', 'sqrt', 'log2']}\n",
    "              \n",
    "]\n",
    "\n",
    "# Initializing the grid search object\n",
    "tree_grid_search = GridSearchCV(Decision_tree_model, param_grid, cv = 10,\n",
    "                                  scoring = 'accuracy',\n",
    "                                  return_train_score = True)\n",
    "# Fitting the data\n",
    "grid2 = tree_grid_search.fit(X_train, y_train)"
   ]
  },
  {
   "cell_type": "code",
   "execution_count": 23,
   "id": "77235305",
   "metadata": {},
   "outputs": [
    {
     "data": {
      "image/png": "[encoded data removed]",
      "text/plain": [
       "<Figure size 432x288 with 1 Axes>"
      ]
     },
     "metadata": {
      "needs_background": "light"
     },
     "output_type": "display_data"
    },
    {
     "data": {
      "image/png": "[encoded data removed]",
      "text/plain": [
       "<Figure size 432x288 with 1 Axes>"
      ]
     },
     "metadata": {
      "needs_background": "light"
     },
     "output_type": "display_data"
    },
    {
     "data": {
      "image/png": "[encoded data removed]",
      "text/plain": [
       "<Figure size 432x288 with 1 Axes>"
      ]
     },
     "metadata": {
      "needs_background": "light"
     },
     "output_type": "display_data"
    },
    {
     "data": {
      "image/png": "[encoded data removed]",
      "text/plain": [
       "<Figure size 432x288 with 1 Axes>"
      ]
     },
     "metadata": {
      "needs_background": "light"
     },
     "output_type": "display_data"
    },
    {
     "data": {
      "image/png": "[encoded data removed]",
      "text/plain": [
       "<Figure size 432x288 with 1 Axes>"
      ]
     },
     "metadata": {
      "needs_background": "light"
     },
     "output_type": "display_data"
    },
    {
     "data": {
      "image/png": "[encoded data removed]",
      "text/plain": [
       "<Figure size 432x288 with 1 Axes>"
      ]
     },
     "metadata": {
      "needs_background": "light"
     },
     "output_type": "display_data"
    }
   ],
   "source": [
    "params = [\n",
    "              {'criterion' :['gini', 'entropy'], 'splitter': ['best', 'random'], 'max_depth': [ 15, 20, 21, 22, 23], 'min_samples_split' : [2,3,4,5,6],\n",
    "               'min_samples_leaf': [1,2,3,4,5], 'max_features': ['None', 'auto', 'sqrt', 'log2']}\n",
    "              \n",
    "]\n",
    "\n",
    "plot_search_results(grid2, params)"
   ]
  },
  {
   "cell_type": "markdown",
   "id": "b95f95c1",
   "metadata": {},
   "source": [
    "##### Training and testing the model based on the Hyperparameter tuning"
   ]
  },
  {
   "cell_type": "code",
   "execution_count": 24,
   "id": "9a672310",
   "metadata": {},
   "outputs": [
    {
     "name": "stdout",
     "output_type": "stream",
     "text": [
      "Training accuracy:  1.0\n",
      "Average validation accuracy:  0.9967479674796748\n",
      "[[120   0   0 ...   0   0   0]\n",
      " [  0 120   0 ...   0   0   0]\n",
      " [  0   0 120 ...   0   0   0]\n",
      " ...\n",
      " [  0   0   0 ... 120   0   0]\n",
      " [  0   0   0 ...   0 117   0]\n",
      " [  0   0   0 ...   0   0 120]]\n",
      "precision score:  0.9975609756097561\n",
      "recall score:  0.9975609756097561\n",
      "F1-score:  0.9975609756097561\n"
     ]
    }
   ],
   "source": [
    "# Using Decision Trees\n",
    "tree_model = DecisionTreeClassifier(criterion = 'entropy',\n",
    "                                   max_depth = 23,\n",
    "                                   max_features = None,\n",
    "                                   min_samples_leaf = 1,\n",
    "                                   min_samples_split = 2,\n",
    "                                   splitter = 'random')\n",
    "\n",
    "# Fitting the model to the training data\n",
    "tree_model.fit(X_train, y_train)\n",
    "training_pred = tree_model.predict(X_train)\n",
    "\n",
    "training_acc = np.count_nonzero(training_pred == y_train) / len(y_train)\n",
    "print('Training accuracy: ', training_acc)\n",
    "\n",
    "average_acc = np.mean(cross_val_score(tree_model, X_train, y_train, cv = 10, scoring = 'accuracy'))\n",
    "print('Average validation accuracy: ', average_acc)\n",
    "\n",
    "# Confusion matrix for training data\n",
    "\n",
    "y_train_predict = cross_val_predict(tree_model, X_train, y_train, cv = 10)\n",
    "\n",
    "\n",
    "print(confusion_matrix(y_train, y_train_predict))\n",
    "precision = precision_score(y_train, y_train_predict, average = 'micro')\n",
    "recall = recall_score(y_train, y_train_predict, average = 'micro')\n",
    "f1 = f1_score(y_train, y_train_predict, average = 'micro')\n",
    "print('precision score: ', precision)\n",
    "print('recall score: ', recall)\n",
    "print('F1-score: ', f1)"
   ]
  },
  {
   "cell_type": "code",
   "execution_count": 25,
   "id": "5e610cab",
   "metadata": {},
   "outputs": [
    {
     "name": "stdout",
     "output_type": "stream",
     "text": [
      "Test accuracy:  1.0\n",
      "[[1 0 0 ... 0 0 0]\n",
      " [0 1 0 ... 0 0 0]\n",
      " [0 0 1 ... 0 0 0]\n",
      " ...\n",
      " [0 0 0 ... 1 0 0]\n",
      " [0 0 0 ... 0 1 0]\n",
      " [0 0 0 ... 0 0 1]]\n",
      "precision score:  1.0\n",
      "recall score:  1.0\n",
      "F1-score:  1.0\n"
     ]
    }
   ],
   "source": [
    "# Test accuracy\n",
    "y_test_predictions = tree_model.predict(X_test)\n",
    "\n",
    "acc = np.count_nonzero(y_test == y_test_predictions) / len(y_test)\n",
    "print('Test accuracy: ', acc)\n",
    "\n",
    "print(confusion_matrix(y_test, y_test_predictions))\n",
    "\n",
    "precision = precision_score(y_test, y_test_predictions, average = 'micro')\n",
    "recall = recall_score(y_test, y_test_predictions, average = 'micro')\n",
    "f1 = f1_score(y_test, y_test_predictions,average = 'micro')\n",
    "print('precision score: ', precision)\n",
    "print('recall score: ', recall)\n",
    "print('F1-score: ', f1)"
   ]
  },
  {
   "cell_type": "markdown",
   "id": "40237071",
   "metadata": {},
   "source": [
    "## Knn"
   ]
  },
  {
   "cell_type": "code",
   "execution_count": 26,
   "id": "00ee954b",
   "metadata": {},
   "outputs": [
    {
     "data": {
      "image/png": "[encoded data removed]",
      "text/plain": [
       "<Figure size 432x288 with 1 Axes>"
      ]
     },
     "metadata": {
      "needs_background": "light"
     },
     "output_type": "display_data"
    },
    {
     "data": {
      "image/png": "[encoded data removed]",
      "text/plain": [
       "<Figure size 432x288 with 1 Axes>"
      ]
     },
     "metadata": {
      "needs_background": "light"
     },
     "output_type": "display_data"
    },
    {
     "data": {
      "image/png": "[encoded data removed]",
      "text/plain": [
       "<Figure size 432x288 with 1 Axes>"
      ]
     },
     "metadata": {
      "needs_background": "light"
     },
     "output_type": "display_data"
    }
   ],
   "source": [
    "# Using grid search to tune hyper parametrers\n",
    "from sklearn.neighbors import KNeighborsClassifier\n",
    "\n",
    "knn_model = KNeighborsClassifier()\n",
    "param_grid1 = [\n",
    "             {'n_neighbors': [1,2,3,4,5], #21, 22, 23, 24, 25, 26, 27, 28, 29, 30, 31, 32, 33, 34], \n",
    "              'algorithm': ['auto', 'ball_tree', 'kd_tree', 'brute'],\n",
    "             'weights': ['uniform', 'distance']}\n",
    "]\n",
    "\n",
    "knn_grid_search = GridSearchCV(knn_model, param_grid1, cv = 10,\n",
    "                                  scoring = 'accuracy',\n",
    "                                  return_train_score = True)\n",
    "\n",
    "grid3 = knn_grid_search.fit(X_train, y_train)\n",
    "\n",
    "\n",
    "plot_search_results(grid3, param_grid1)"
   ]
  },
  {
   "cell_type": "code",
   "execution_count": 27,
   "id": "53be608f",
   "metadata": {},
   "outputs": [],
   "source": [
    "# Ecoding the labels to number labels\n",
    "from sklearn import preprocessing\n",
    "le = preprocessing.LabelEncoder()\n",
    "le.fit(list(y_train))\n",
    "y_train1 = le.transform(list(y_train))"
   ]
  },
  {
   "cell_type": "code",
   "execution_count": 30,
   "id": "6d8be562",
   "metadata": {},
   "outputs": [],
   "source": [
    "le = preprocessing.LabelEncoder()\n",
    "le.fit(list(y_test))\n",
    "y_test1 = le.transform(list(y_test))"
   ]
  },
  {
   "cell_type": "markdown",
   "id": "ebb56b95",
   "metadata": {},
   "source": [
    "##### Training and testing the models based pn Hyperparameter tuning"
   ]
  },
  {
   "cell_type": "code",
   "execution_count": 28,
   "id": "50d1b757",
   "metadata": {},
   "outputs": [
    {
     "name": "stdout",
     "output_type": "stream",
     "text": [
      "Training accuracy:  1.0\n",
      "Average validation accuracy:  1.0\n",
      "[[120   0   0 ...   0   0   0]\n",
      " [  0 120   0 ...   0   0   0]\n",
      " [  0   0 120 ...   0   0   0]\n",
      " ...\n",
      " [  0   0   0 ... 120   0   0]\n",
      " [  0   0   0 ...   0 120   0]\n",
      " [  0   0   0 ...   0   0 120]]\n",
      "precision score:  1.0\n",
      "recall score:  1.0\n",
      "F1-score:  1.0\n"
     ]
    }
   ],
   "source": [
    "\n",
    "knn_model = KNeighborsClassifier(algorithm = 'auto', n_neighbors = 5 , weights = 'uniform')\n",
    "\n",
    "# Fitting the model to the training data\n",
    "knn_model.fit(X_train, y_train1)\n",
    "training_pred = knn_model.predict(X_train)\n",
    "\n",
    "training_acc = np.count_nonzero(training_pred == y_train1) / len(y_train1)\n",
    "print('Training accuracy: ', training_acc)\n",
    "\n",
    "average_acc = np.mean(cross_val_score(knn_model, X_train, y_train1, cv = 10, scoring = 'accuracy'))\n",
    "print('Average validation accuracy: ', average_acc)\n",
    "\n",
    "# Confusion matrix for training data\n",
    "\n",
    "y_train_predict = cross_val_predict(knn_model, X_train, y_train1, cv = 10)\n",
    "\n",
    "\n",
    "print(confusion_matrix(y_train1, y_train_predict))\n",
    "precision = precision_score(y_train1, y_train_predict, average = 'micro')\n",
    "recall = recall_score(y_train1, y_train_predict, average = 'micro')\n",
    "f1 = f1_score(y_train1, y_train_predict, average = 'micro')\n",
    "print('precision score: ', precision)\n",
    "print('recall score: ', recall)\n",
    "print('F1-score: ', f1)"
   ]
  },
  {
   "cell_type": "code",
   "execution_count": 32,
   "id": "ba6ce425",
   "metadata": {},
   "outputs": [
    {
     "name": "stdout",
     "output_type": "stream",
     "text": [
      "Test accuracy:  1.0\n",
      "[[1 0 0 ... 0 0 0]\n",
      " [0 1 0 ... 0 0 0]\n",
      " [0 0 1 ... 0 0 0]\n",
      " ...\n",
      " [0 0 0 ... 1 0 0]\n",
      " [0 0 0 ... 0 1 0]\n",
      " [0 0 0 ... 0 0 1]]\n",
      "precision score:  1.0\n",
      "recall score:  1.0\n",
      "F1-score:  1.0\n"
     ]
    }
   ],
   "source": [
    "# Test accuracy\n",
    "y_test_predictions = knn_model.predict(X_test)\n",
    "\n",
    "acc = np.count_nonzero(y_test1 == y_test_predictions) / len(y_test1)\n",
    "print('Test accuracy: ', acc)\n",
    "\n",
    "print(confusion_matrix(y_test1, y_test_predictions))\n",
    "\n",
    "precision = precision_score(y_test1, y_test_predictions, average = 'micro')\n",
    "recall = recall_score(y_test1, y_test_predictions, average = 'micro')\n",
    "f1 = f1_score(y_test1, y_test_predictions, average = 'micro')\n",
    "print('precision score: ', precision)\n",
    "print('recall score: ', recall)\n",
    "print('F1-score: ', f1)"
   ]
  },
  {
   "cell_type": "markdown",
   "id": "9296ac8b",
   "metadata": {},
   "source": [
    "### Naive Bayes"
   ]
  },
  {
   "cell_type": "code",
   "execution_count": 33,
   "id": "6217262d",
   "metadata": {},
   "outputs": [
    {
     "name": "stdout",
     "output_type": "stream",
     "text": [
      "Training accuracy:  1.0\n",
      "Average validation accuracy:  1.0\n",
      "[[120   0   0 ...   0   0   0]\n",
      " [  0 120   0 ...   0   0   0]\n",
      " [  0   0 120 ...   0   0   0]\n",
      " ...\n",
      " [  0   0   0 ... 120   0   0]\n",
      " [  0   0   0 ...   0 120   0]\n",
      " [  0   0   0 ...   0   0 120]]\n",
      "precision score:  1.0\n",
      "recall score:  1.0\n",
      "F1-score:  1.0\n"
     ]
    }
   ],
   "source": [
    "from sklearn.naive_bayes import GaussianNB\n",
    "\n",
    "# Inintializing the model\n",
    "nb_model = GaussianNB()\n",
    "\n",
    "# Fitting the model to the training data\n",
    "nb_model.fit(X_train, y_train1)\n",
    "training_pred = nb_model.predict(X_train)\n",
    "\n",
    "training_acc = np.count_nonzero(training_pred == y_train1) / len(y_train1)\n",
    "print('Training accuracy: ', training_acc)\n",
    "\n",
    "average_acc = np.mean(cross_val_score(nb_model, X_train, y_train1, cv = 10, scoring = 'accuracy'))\n",
    "print('Average validation accuracy: ', average_acc)\n",
    "\n",
    "# Confusion matrix for training data\n",
    "\n",
    "y_train_predict = cross_val_predict(nb_model, X_train, y_train1, cv = 10)\n",
    "\n",
    "\n",
    "print(confusion_matrix(y_train1, y_train_predict))\n",
    "precision = precision_score(y_train1, y_train_predict, average = 'micro')\n",
    "recall = recall_score(y_train1, y_train_predict, average = 'micro')\n",
    "f1 = f1_score(y_train1, y_train_predict, average = 'micro')\n",
    "print('precision score: ', precision)\n",
    "print('recall score: ', recall)\n",
    "print('F1-score: ', f1)"
   ]
  },
  {
   "cell_type": "code",
   "execution_count": 48,
   "id": "718b49a1",
   "metadata": {},
   "outputs": [
    {
     "name": "stdout",
     "output_type": "stream",
     "text": [
      "Test accuracy:  1.0\n",
      "[[1 0 0 ... 0 0 0]\n",
      " [0 1 0 ... 0 0 0]\n",
      " [0 0 1 ... 0 0 0]\n",
      " ...\n",
      " [0 0 0 ... 1 0 0]\n",
      " [0 0 0 ... 0 1 0]\n",
      " [0 0 0 ... 0 0 1]]\n",
      "precision score:  1.0\n",
      "recall score:  1.0\n",
      "F1-score:  1.0\n"
     ]
    }
   ],
   "source": [
    "# Test accuracy\n",
    "y_test_predictions = nb_model.predict(X_test)\n",
    "\n",
    "acc = np.count_nonzero(y_test1 == y_test_predictions) / len(y_test1)\n",
    "print('Test accuracy: ', acc)\n",
    "\n",
    "print(confusion_matrix(y_test1, y_test_predictions))\n",
    "\n",
    "precision = precision_score(y_test1, y_test_predictions, average = 'micro')\n",
    "recall = recall_score(y_test1, y_test_predictions, average = 'micro')\n",
    "f1 = f1_score(y_test1, y_test_predictions, average = 'micro')\n",
    "print('precision score: ', precision)\n",
    "print('recall score: ', recall)\n",
    "print('F1-score: ', f1)"
   ]
  },
  {
   "cell_type": "markdown",
   "id": "11381526",
   "metadata": {},
   "source": [
    "## Neural networks"
   ]
  },
  {
   "cell_type": "code",
   "execution_count": 49,
   "id": "7fc31020",
   "metadata": {},
   "outputs": [],
   "source": [
    "# Dividing the data into the predictors and labels\n",
    "X1 = X_train\n",
    "y1 = y_train1\n",
    "\n",
    "# Dividing the training data again to obtain the vaidation data for using thcall backs\n",
    "X_train_final, X_valid, y_train_final, y_valid = train_test_split(X1,\n",
    "                                                                  y1,\n",
    "                                                                  test_size = 0.2,\n",
    "                                                                  random_state = 42)"
   ]
  },
  {
   "cell_type": "code",
   "execution_count": 50,
   "id": "1c2e5cc1",
   "metadata": {},
   "outputs": [
    {
     "data": {
      "text/plain": [
       "(3936, 130)"
      ]
     },
     "execution_count": 50,
     "metadata": {},
     "output_type": "execute_result"
    }
   ],
   "source": [
    "X_train_final.shape"
   ]
  },
  {
   "cell_type": "code",
   "execution_count": 51,
   "id": "7b1c7a76",
   "metadata": {},
   "outputs": [],
   "source": [
    "def build_model(n_hidden = 1, n_neurons=80, learning_rate = 0.01, input_shape = [130], activation_func = 'relu', loss_func = 'sparse_categorical_crossentropy', optimizer = 'Adam'):\n",
    "  model = keras.models.Sequential()\n",
    "  model.add(keras.layers.InputLayer(input_shape = input_shape))\n",
    "  \n",
    "  for layer in range(n_hidden):\n",
    "\n",
    "    # We add a batch normalization layer for all layers with activations function other than\n",
    "    # selu as selu is self normalizing\n",
    "    if activation_func != 'selu':\n",
    "      \n",
    "      # Setting the initializer strategy as he_normal in case of relu and its variants\n",
    "      if (activation_func in [ tf.keras.layers.PReLU(), tf.keras.layers.LeakyReLU(), 'relu', 'elu']):\n",
    "        init = 'he_normal'\n",
    "      \n",
    "      # Glorot uniforn in case of tanh and sigmoid\n",
    "      else:\n",
    "        init = tf.keras.initializers.GlorotUniform()\n",
    "      \n",
    "      # Adding a batch normalization layer\n",
    "      model.add(keras.layers.BatchNormalization())\n",
    "    \n",
    "    else:\n",
    "      # LeCun initializer works well with selu activation function\n",
    "      init = tf.keras.initializers.LecunUniform()\n",
    "\n",
    "    model.add(keras.layers.Dense(n_neurons, activation = activation_func, kernel_initializer= init))  \n",
    "  # Adding the output neuron\n",
    "  model.add(keras.layers.Dense(41, activation = 'softmax'))\n",
    "  \n",
    "  # Compiling the model\n",
    "  optimizer = optimizer\n",
    "  model.compile(loss = loss_func, optimizer = optimizer)\n",
    "  return model"
   ]
  },
  {
   "cell_type": "code",
   "execution_count": 52,
   "id": "ff1c6139",
   "metadata": {},
   "outputs": [
    {
     "name": "stderr",
     "output_type": "stream",
     "text": [
      "/var/folders/1v/blpk8hh14l91h36fpz2t0c6c0000gn/T/ipykernel_49316/2643125751.py:2: DeprecationWarning: KerasClassifier is deprecated, use Sci-Keras (https://github.com/adriangb/scikeras) instead. See https://www.adriangb.com/scikeras/stable/migration.html for help migrating.\n",
      "  reg_model = keras.wrappers.scikit_learn.KerasClassifier(build_model, batch_size = 32, epochs = 15)\n"
     ]
    }
   ],
   "source": [
    "# Using the sklearn wrapper for cross validation\n",
    "reg_model = keras.wrappers.scikit_learn.KerasClassifier(build_model, batch_size = 32, epochs = 15)"
   ]
  },
  {
   "cell_type": "code",
   "execution_count": 53,
   "id": "4d6f57b4",
   "metadata": {},
   "outputs": [],
   "source": [
    "# Function for plotting the results of the random search\n",
    "def plot_random_search(cv_results, parameter_name, display_name):\n",
    "    # Get the mean train and test scores\n",
    "    y_1 = cv_results['mean_test_score']\n",
    "    y_2 = cv_results['mean_train_score']\n",
    "\n",
    "    # Plot random search scores\n",
    "    x = []\n",
    "    for i in range(len(results.cv_results_['params'])):\n",
    "        x.append(str(results.cv_results_['params'][i][parameter_name]))\n",
    "    plt.title('Mean score per parameter')\n",
    "    plt.ylabel('Mean score')\n",
    "    plt.plot(x, y_1, linestyle='--', marker='o', label='Validation')\n",
    "    plt.plot(x, y_2, linestyle='-', marker='^',label='Train' )\n",
    "    plt.xlabel(display_name)\n",
    "    plt.legend()\n",
    "    plt.show()"
   ]
  },
  {
   "cell_type": "markdown",
   "id": "5948a90f",
   "metadata": {},
   "source": [
    "##### Activation functions"
   ]
  },
  {
   "cell_type": "code",
   "execution_count": 54,
   "id": "91112e04",
   "metadata": {},
   "outputs": [
    {
     "name": "stderr",
     "output_type": "stream",
     "text": [
      "2022-08-27 12:41:55.573266: I tensorflow/core/grappler/optimizers/custom_graph_optimizer_registry.cc:113] Plugin optimizer for device_type GPU is enabled.\n",
      "2022-08-27 12:42:00.831019: I tensorflow/core/grappler/optimizers/custom_graph_optimizer_registry.cc:113] Plugin optimizer for device_type GPU is enabled.\n",
      "2022-08-27 12:42:01.267891: I tensorflow/core/grappler/optimizers/custom_graph_optimizer_registry.cc:113] Plugin optimizer for device_type GPU is enabled.\n",
      "2022-08-27 12:42:06.071561: I tensorflow/core/grappler/optimizers/custom_graph_optimizer_registry.cc:113] Plugin optimizer for device_type GPU is enabled.\n",
      "2022-08-27 12:42:06.484409: I tensorflow/core/grappler/optimizers/custom_graph_optimizer_registry.cc:113] Plugin optimizer for device_type GPU is enabled.\n",
      "2022-08-27 12:42:11.324508: I tensorflow/core/grappler/optimizers/custom_graph_optimizer_registry.cc:113] Plugin optimizer for device_type GPU is enabled.\n",
      "2022-08-27 12:42:11.790311: I tensorflow/core/grappler/optimizers/custom_graph_optimizer_registry.cc:113] Plugin optimizer for device_type GPU is enabled.\n",
      "2022-08-27 12:42:16.495725: I tensorflow/core/grappler/optimizers/custom_graph_optimizer_registry.cc:113] Plugin optimizer for device_type GPU is enabled.\n",
      "2022-08-27 12:42:16.912547: I tensorflow/core/grappler/optimizers/custom_graph_optimizer_registry.cc:113] Plugin optimizer for device_type GPU is enabled.\n",
      "2022-08-27 12:42:21.321334: I tensorflow/core/grappler/optimizers/custom_graph_optimizer_registry.cc:113] Plugin optimizer for device_type GPU is enabled.\n",
      "2022-08-27 12:42:21.960870: I tensorflow/core/grappler/optimizers/custom_graph_optimizer_registry.cc:113] Plugin optimizer for device_type GPU is enabled.\n",
      "2022-08-27 12:42:26.132751: I tensorflow/core/grappler/optimizers/custom_graph_optimizer_registry.cc:113] Plugin optimizer for device_type GPU is enabled.\n",
      "2022-08-27 12:42:26.511755: I tensorflow/core/grappler/optimizers/custom_graph_optimizer_registry.cc:113] Plugin optimizer for device_type GPU is enabled.\n",
      "2022-08-27 12:42:32.428289: I tensorflow/core/grappler/optimizers/custom_graph_optimizer_registry.cc:113] Plugin optimizer for device_type GPU is enabled.\n",
      "2022-08-27 12:42:32.873506: I tensorflow/core/grappler/optimizers/custom_graph_optimizer_registry.cc:113] Plugin optimizer for device_type GPU is enabled.\n",
      "2022-08-27 12:42:38.717069: I tensorflow/core/grappler/optimizers/custom_graph_optimizer_registry.cc:113] Plugin optimizer for device_type GPU is enabled.\n",
      "2022-08-27 12:42:39.165132: I tensorflow/core/grappler/optimizers/custom_graph_optimizer_registry.cc:113] Plugin optimizer for device_type GPU is enabled.\n",
      "2022-08-27 12:42:45.184609: I tensorflow/core/grappler/optimizers/custom_graph_optimizer_registry.cc:113] Plugin optimizer for device_type GPU is enabled.\n",
      "2022-08-27 12:42:45.651800: I tensorflow/core/grappler/optimizers/custom_graph_optimizer_registry.cc:113] Plugin optimizer for device_type GPU is enabled.\n",
      "2022-08-27 12:42:49.924135: I tensorflow/core/grappler/optimizers/custom_graph_optimizer_registry.cc:113] Plugin optimizer for device_type GPU is enabled.\n",
      "2022-08-27 12:42:50.301799: I tensorflow/core/grappler/optimizers/custom_graph_optimizer_registry.cc:113] Plugin optimizer for device_type GPU is enabled.\n",
      "2022-08-27 12:42:54.435853: I tensorflow/core/grappler/optimizers/custom_graph_optimizer_registry.cc:113] Plugin optimizer for device_type GPU is enabled.\n",
      "2022-08-27 12:42:54.811199: I tensorflow/core/grappler/optimizers/custom_graph_optimizer_registry.cc:113] Plugin optimizer for device_type GPU is enabled.\n",
      "2022-08-27 12:42:58.862248: I tensorflow/core/grappler/optimizers/custom_graph_optimizer_registry.cc:113] Plugin optimizer for device_type GPU is enabled.\n",
      "2022-08-27 12:42:59.478940: I tensorflow/core/grappler/optimizers/custom_graph_optimizer_registry.cc:113] Plugin optimizer for device_type GPU is enabled.\n"
     ]
    },
    {
     "name": "stdout",
     "output_type": "stream",
     "text": [
      "The best value is:  {'activation_func': <keras.layers.advanced_activations.PReLU object at 0x292d13130>}\n"
     ]
    },
    {
     "data": {
      "image/png": "[encoded data removed]",
      "text/plain": [
       "<Figure size 432x288 with 1 Axes>"
      ]
     },
     "metadata": {
      "needs_background": "light"
     },
     "output_type": "display_data"
    }
   ],
   "source": [
    "param_distribs = {\n",
    "    'activation_func': [ tf.keras.layers.PReLU(), tf.keras.layers.LeakyReLU(),'sigmoid', 'tanh', 'relu', 'elu', 'selu']\n",
    "}\n",
    "\n",
    "random_search = RandomizedSearchCV(reg_model, \n",
    "                                   param_distribs, \n",
    "                                   cv = 3, \n",
    "                                   scoring = 'accuracy',\n",
    "                                   error_score = 'raise', \n",
    "                                   n_iter = 4,\n",
    "                                   return_train_score = True,\n",
    "                                   random_state = 42)\n",
    "\n",
    "results = random_search.fit(X_train_final, y_train_final, verbose = 0)\n",
    "\n",
    "# Printing the best parameter\n",
    "print('The best value is: ', random_search.best_params_)\n",
    "\n",
    "plot_random_search(results.cv_results_, 'activation_func', 'Activation functions')"
   ]
  },
  {
   "cell_type": "markdown",
   "id": "5cc8332d",
   "metadata": {},
   "source": [
    "##### Hidden layers"
   ]
  },
  {
   "cell_type": "code",
   "execution_count": 55,
   "id": "596975d9",
   "metadata": {},
   "outputs": [
    {
     "name": "stderr",
     "output_type": "stream",
     "text": [
      "2022-08-27 12:43:07.144062: I tensorflow/core/grappler/optimizers/custom_graph_optimizer_registry.cc:113] Plugin optimizer for device_type GPU is enabled.\n",
      "2022-08-27 12:43:26.062166: I tensorflow/core/grappler/optimizers/custom_graph_optimizer_registry.cc:113] Plugin optimizer for device_type GPU is enabled.\n",
      "2022-08-27 12:43:27.418188: I tensorflow/core/grappler/optimizers/custom_graph_optimizer_registry.cc:113] Plugin optimizer for device_type GPU is enabled.\n",
      "2022-08-27 12:43:46.846367: I tensorflow/core/grappler/optimizers/custom_graph_optimizer_registry.cc:113] Plugin optimizer for device_type GPU is enabled.\n",
      "2022-08-27 12:43:48.224701: I tensorflow/core/grappler/optimizers/custom_graph_optimizer_registry.cc:113] Plugin optimizer for device_type GPU is enabled.\n",
      "2022-08-27 12:44:06.896411: I tensorflow/core/grappler/optimizers/custom_graph_optimizer_registry.cc:113] Plugin optimizer for device_type GPU is enabled.\n",
      "2022-08-27 12:44:07.802040: I tensorflow/core/grappler/optimizers/custom_graph_optimizer_registry.cc:113] Plugin optimizer for device_type GPU is enabled.\n",
      "2022-08-27 12:44:13.815728: I tensorflow/core/grappler/optimizers/custom_graph_optimizer_registry.cc:113] Plugin optimizer for device_type GPU is enabled.\n",
      "2022-08-27 12:44:14.647456: I tensorflow/core/grappler/optimizers/custom_graph_optimizer_registry.cc:113] Plugin optimizer for device_type GPU is enabled.\n",
      "2022-08-27 12:44:20.882681: I tensorflow/core/grappler/optimizers/custom_graph_optimizer_registry.cc:113] Plugin optimizer for device_type GPU is enabled.\n",
      "2022-08-27 12:44:21.364616: I tensorflow/core/grappler/optimizers/custom_graph_optimizer_registry.cc:113] Plugin optimizer for device_type GPU is enabled.\n",
      "2022-08-27 12:44:27.524234: I tensorflow/core/grappler/optimizers/custom_graph_optimizer_registry.cc:113] Plugin optimizer for device_type GPU is enabled.\n",
      "2022-08-27 12:44:28.331305: I tensorflow/core/grappler/optimizers/custom_graph_optimizer_registry.cc:113] Plugin optimizer for device_type GPU is enabled.\n",
      "2022-08-27 12:44:41.318370: I tensorflow/core/grappler/optimizers/custom_graph_optimizer_registry.cc:113] Plugin optimizer for device_type GPU is enabled.\n",
      "2022-08-27 12:44:42.448716: I tensorflow/core/grappler/optimizers/custom_graph_optimizer_registry.cc:113] Plugin optimizer for device_type GPU is enabled.\n",
      "2022-08-27 12:44:55.751872: I tensorflow/core/grappler/optimizers/custom_graph_optimizer_registry.cc:113] Plugin optimizer for device_type GPU is enabled.\n",
      "2022-08-27 12:44:56.667127: I tensorflow/core/grappler/optimizers/custom_graph_optimizer_registry.cc:113] Plugin optimizer for device_type GPU is enabled.\n",
      "2022-08-27 12:45:10.505947: I tensorflow/core/grappler/optimizers/custom_graph_optimizer_registry.cc:113] Plugin optimizer for device_type GPU is enabled.\n",
      "2022-08-27 12:45:11.121266: I tensorflow/core/grappler/optimizers/custom_graph_optimizer_registry.cc:113] Plugin optimizer for device_type GPU is enabled.\n",
      "2022-08-27 12:45:15.168331: I tensorflow/core/grappler/optimizers/custom_graph_optimizer_registry.cc:113] Plugin optimizer for device_type GPU is enabled.\n",
      "2022-08-27 12:45:15.591685: I tensorflow/core/grappler/optimizers/custom_graph_optimizer_registry.cc:113] Plugin optimizer for device_type GPU is enabled.\n",
      "2022-08-27 12:45:19.845516: I tensorflow/core/grappler/optimizers/custom_graph_optimizer_registry.cc:113] Plugin optimizer for device_type GPU is enabled.\n",
      "2022-08-27 12:45:20.240077: I tensorflow/core/grappler/optimizers/custom_graph_optimizer_registry.cc:113] Plugin optimizer for device_type GPU is enabled.\n",
      "2022-08-27 12:45:24.337603: I tensorflow/core/grappler/optimizers/custom_graph_optimizer_registry.cc:113] Plugin optimizer for device_type GPU is enabled.\n",
      "2022-08-27 12:45:25.485228: I tensorflow/core/grappler/optimizers/custom_graph_optimizer_registry.cc:113] Plugin optimizer for device_type GPU is enabled.\n"
     ]
    },
    {
     "name": "stdout",
     "output_type": "stream",
     "text": [
      "The best value is:  {'n_hidden': 9, 'activation_func': 'sigmoid'}\n"
     ]
    },
    {
     "data": {
      "image/png": "[encoded data removed]",
      "text/plain": [
       "<Figure size 432x288 with 1 Axes>"
      ]
     },
     "metadata": {
      "needs_background": "light"
     },
     "output_type": "display_data"
    }
   ],
   "source": [
    "param_distribs = {\n",
    "    'activation_func' : ['sigmoid'],\n",
    "    'n_hidden': [1, 2, 3, 4, 5, 6, 7, 8, 9, 10]\n",
    "}\n",
    "\n",
    "random_search = RandomizedSearchCV(reg_model, \n",
    "                                   param_distribs, \n",
    "                                   cv = 3, \n",
    "                                   scoring = 'accuracy',\n",
    "                                   error_score = 'raise', \n",
    "                                   n_iter = 4,\n",
    "                                   return_train_score = True,\n",
    "                                   random_state = 42)\n",
    "\n",
    "results = random_search.fit(X_train_final, y_train_final, verbose = 0)\n",
    "\n",
    "# Printing the best parameter\n",
    "print('The best value is: ', random_search.best_params_)\n",
    "\n",
    "plot_random_search(results.cv_results_, 'n_hidden', 'Number of hidden layers')"
   ]
  },
  {
   "cell_type": "markdown",
   "id": "15b0ac2a",
   "metadata": {},
   "source": [
    "##### Neurons per layer"
   ]
  },
  {
   "cell_type": "code",
   "execution_count": 56,
   "id": "e76dc3d9",
   "metadata": {},
   "outputs": [
    {
     "name": "stderr",
     "output_type": "stream",
     "text": [
      "2022-08-27 12:45:53.461500: I tensorflow/core/grappler/optimizers/custom_graph_optimizer_registry.cc:113] Plugin optimizer for device_type GPU is enabled.\n",
      "2022-08-27 12:45:57.559566: I tensorflow/core/grappler/optimizers/custom_graph_optimizer_registry.cc:113] Plugin optimizer for device_type GPU is enabled.\n",
      "2022-08-27 12:45:57.944171: I tensorflow/core/grappler/optimizers/custom_graph_optimizer_registry.cc:113] Plugin optimizer for device_type GPU is enabled.\n",
      "2022-08-27 12:46:01.890031: I tensorflow/core/grappler/optimizers/custom_graph_optimizer_registry.cc:113] Plugin optimizer for device_type GPU is enabled.\n",
      "2022-08-27 12:46:02.272417: I tensorflow/core/grappler/optimizers/custom_graph_optimizer_registry.cc:113] Plugin optimizer for device_type GPU is enabled.\n",
      "2022-08-27 12:46:06.708387: I tensorflow/core/grappler/optimizers/custom_graph_optimizer_registry.cc:113] Plugin optimizer for device_type GPU is enabled.\n",
      "2022-08-27 12:46:07.122756: I tensorflow/core/grappler/optimizers/custom_graph_optimizer_registry.cc:113] Plugin optimizer for device_type GPU is enabled.\n",
      "2022-08-27 12:46:11.298133: I tensorflow/core/grappler/optimizers/custom_graph_optimizer_registry.cc:113] Plugin optimizer for device_type GPU is enabled.\n",
      "2022-08-27 12:46:11.696772: I tensorflow/core/grappler/optimizers/custom_graph_optimizer_registry.cc:113] Plugin optimizer for device_type GPU is enabled.\n",
      "2022-08-27 12:46:15.805462: I tensorflow/core/grappler/optimizers/custom_graph_optimizer_registry.cc:113] Plugin optimizer for device_type GPU is enabled.\n",
      "2022-08-27 12:46:16.395686: I tensorflow/core/grappler/optimizers/custom_graph_optimizer_registry.cc:113] Plugin optimizer for device_type GPU is enabled.\n",
      "2022-08-27 12:46:20.460324: I tensorflow/core/grappler/optimizers/custom_graph_optimizer_registry.cc:113] Plugin optimizer for device_type GPU is enabled.\n",
      "2022-08-27 12:46:20.863868: I tensorflow/core/grappler/optimizers/custom_graph_optimizer_registry.cc:113] Plugin optimizer for device_type GPU is enabled.\n",
      "2022-08-27 12:46:25.411496: I tensorflow/core/grappler/optimizers/custom_graph_optimizer_registry.cc:113] Plugin optimizer for device_type GPU is enabled.\n",
      "2022-08-27 12:46:25.812226: I tensorflow/core/grappler/optimizers/custom_graph_optimizer_registry.cc:113] Plugin optimizer for device_type GPU is enabled.\n",
      "2022-08-27 12:46:29.991774: I tensorflow/core/grappler/optimizers/custom_graph_optimizer_registry.cc:113] Plugin optimizer for device_type GPU is enabled.\n",
      "2022-08-27 12:46:30.390552: I tensorflow/core/grappler/optimizers/custom_graph_optimizer_registry.cc:113] Plugin optimizer for device_type GPU is enabled.\n",
      "2022-08-27 12:46:34.477667: I tensorflow/core/grappler/optimizers/custom_graph_optimizer_registry.cc:113] Plugin optimizer for device_type GPU is enabled.\n",
      "2022-08-27 12:46:34.898107: I tensorflow/core/grappler/optimizers/custom_graph_optimizer_registry.cc:113] Plugin optimizer for device_type GPU is enabled.\n",
      "2022-08-27 12:46:39.130140: I tensorflow/core/grappler/optimizers/custom_graph_optimizer_registry.cc:113] Plugin optimizer for device_type GPU is enabled.\n",
      "2022-08-27 12:46:39.523030: I tensorflow/core/grappler/optimizers/custom_graph_optimizer_registry.cc:113] Plugin optimizer for device_type GPU is enabled.\n",
      "2022-08-27 12:46:43.604441: I tensorflow/core/grappler/optimizers/custom_graph_optimizer_registry.cc:113] Plugin optimizer for device_type GPU is enabled.\n",
      "2022-08-27 12:46:43.997803: I tensorflow/core/grappler/optimizers/custom_graph_optimizer_registry.cc:113] Plugin optimizer for device_type GPU is enabled.\n",
      "2022-08-27 12:46:47.989471: I tensorflow/core/grappler/optimizers/custom_graph_optimizer_registry.cc:113] Plugin optimizer for device_type GPU is enabled.\n",
      "2022-08-27 12:46:48.586175: I tensorflow/core/grappler/optimizers/custom_graph_optimizer_registry.cc:113] Plugin optimizer for device_type GPU is enabled.\n"
     ]
    },
    {
     "name": "stdout",
     "output_type": "stream",
     "text": [
      "The best value is:  {'n_neurons': 20, 'n_hidden': 1, 'activation_func': 'sigmoid'}\n"
     ]
    },
    {
     "data": {
      "image/png": "[encoded data removed]",
      "text/plain": [
       "<Figure size 432x288 with 1 Axes>"
      ]
     },
     "metadata": {
      "needs_background": "light"
     },
     "output_type": "display_data"
    }
   ],
   "source": [
    "param_distribs = {\n",
    "    'activation_func' : ['sigmoid'],\n",
    "    'n_hidden': [1],\n",
    "    'n_neurons': [10, 20, 40, 60, 79, 85, 90, 95]\n",
    "\n",
    "}\n",
    "\n",
    "random_search = RandomizedSearchCV(reg_model, \n",
    "                                   param_distribs, \n",
    "                                   cv = 3, \n",
    "                                   scoring = 'accuracy',\n",
    "                                   error_score = 'raise', \n",
    "                                   n_iter = 4,\n",
    "                                   return_train_score = True,\n",
    "                                   random_state = 42)\n",
    "\n",
    "results = random_search.fit(X_train_final, y_train_final, verbose = 0)\n",
    "\n",
    "# Printing the best parameter\n",
    "print('The best value is: ', random_search.best_params_)\n",
    "plot_random_search(results.cv_results_, 'n_neurons', 'Number of neurons per layer')"
   ]
  },
  {
   "cell_type": "markdown",
   "id": "c6f9d762",
   "metadata": {},
   "source": [
    "##### Optimizer"
   ]
  },
  {
   "cell_type": "code",
   "execution_count": 57,
   "id": "428539f0",
   "metadata": {},
   "outputs": [
    {
     "name": "stderr",
     "output_type": "stream",
     "text": [
      "2022-08-27 12:46:54.623892: I tensorflow/core/grappler/optimizers/custom_graph_optimizer_registry.cc:113] Plugin optimizer for device_type GPU is enabled.\n",
      "2022-08-27 12:46:58.573571: I tensorflow/core/grappler/optimizers/custom_graph_optimizer_registry.cc:113] Plugin optimizer for device_type GPU is enabled.\n",
      "2022-08-27 12:46:58.959785: I tensorflow/core/grappler/optimizers/custom_graph_optimizer_registry.cc:113] Plugin optimizer for device_type GPU is enabled.\n",
      "2022-08-27 12:47:02.963953: I tensorflow/core/grappler/optimizers/custom_graph_optimizer_registry.cc:113] Plugin optimizer for device_type GPU is enabled.\n",
      "2022-08-27 12:47:03.352024: I tensorflow/core/grappler/optimizers/custom_graph_optimizer_registry.cc:113] Plugin optimizer for device_type GPU is enabled.\n",
      "2022-08-27 12:47:07.334036: I tensorflow/core/grappler/optimizers/custom_graph_optimizer_registry.cc:113] Plugin optimizer for device_type GPU is enabled.\n",
      "2022-08-27 12:47:07.750516: I tensorflow/core/grappler/optimizers/custom_graph_optimizer_registry.cc:113] Plugin optimizer for device_type GPU is enabled.\n",
      "2022-08-27 12:47:12.669304: I tensorflow/core/grappler/optimizers/custom_graph_optimizer_registry.cc:113] Plugin optimizer for device_type GPU is enabled.\n",
      "2022-08-27 12:47:13.089663: I tensorflow/core/grappler/optimizers/custom_graph_optimizer_registry.cc:113] Plugin optimizer for device_type GPU is enabled.\n",
      "2022-08-27 12:47:18.151134: I tensorflow/core/grappler/optimizers/custom_graph_optimizer_registry.cc:113] Plugin optimizer for device_type GPU is enabled.\n",
      "2022-08-27 12:47:18.577426: I tensorflow/core/grappler/optimizers/custom_graph_optimizer_registry.cc:113] Plugin optimizer for device_type GPU is enabled.\n",
      "2022-08-27 12:47:23.377209: I tensorflow/core/grappler/optimizers/custom_graph_optimizer_registry.cc:113] Plugin optimizer for device_type GPU is enabled.\n",
      "2022-08-27 12:47:24.203950: I tensorflow/core/grappler/optimizers/custom_graph_optimizer_registry.cc:113] Plugin optimizer for device_type GPU is enabled.\n",
      "2022-08-27 12:47:32.190489: I tensorflow/core/grappler/optimizers/custom_graph_optimizer_registry.cc:113] Plugin optimizer for device_type GPU is enabled.\n",
      "2022-08-27 12:47:32.664594: I tensorflow/core/grappler/optimizers/custom_graph_optimizer_registry.cc:113] Plugin optimizer for device_type GPU is enabled.\n",
      "2022-08-27 12:47:40.772201: I tensorflow/core/grappler/optimizers/custom_graph_optimizer_registry.cc:113] Plugin optimizer for device_type GPU is enabled.\n",
      "2022-08-27 12:47:41.253118: I tensorflow/core/grappler/optimizers/custom_graph_optimizer_registry.cc:113] Plugin optimizer for device_type GPU is enabled.\n",
      "2022-08-27 12:47:49.824855: I tensorflow/core/grappler/optimizers/custom_graph_optimizer_registry.cc:113] Plugin optimizer for device_type GPU is enabled.\n",
      "2022-08-27 12:47:50.246802: I tensorflow/core/grappler/optimizers/custom_graph_optimizer_registry.cc:113] Plugin optimizer for device_type GPU is enabled.\n",
      "2022-08-27 12:47:53.850336: I tensorflow/core/grappler/optimizers/custom_graph_optimizer_registry.cc:113] Plugin optimizer for device_type GPU is enabled.\n",
      "2022-08-27 12:47:54.245427: I tensorflow/core/grappler/optimizers/custom_graph_optimizer_registry.cc:113] Plugin optimizer for device_type GPU is enabled.\n",
      "2022-08-27 12:47:57.737707: I tensorflow/core/grappler/optimizers/custom_graph_optimizer_registry.cc:113] Plugin optimizer for device_type GPU is enabled.\n",
      "2022-08-27 12:47:58.113915: I tensorflow/core/grappler/optimizers/custom_graph_optimizer_registry.cc:113] Plugin optimizer for device_type GPU is enabled.\n",
      "2022-08-27 12:48:01.576788: I tensorflow/core/grappler/optimizers/custom_graph_optimizer_registry.cc:113] Plugin optimizer for device_type GPU is enabled.\n",
      "2022-08-27 12:48:01.969455: I tensorflow/core/grappler/optimizers/custom_graph_optimizer_registry.cc:113] Plugin optimizer for device_type GPU is enabled.\n"
     ]
    },
    {
     "name": "stdout",
     "output_type": "stream",
     "text": [
      "The best value is:  {'optimizer': 'Adam', 'n_neurons': 20, 'n_hidden': 1, 'activation_func': 'sigmoid'}\n"
     ]
    },
    {
     "data": {
      "image/png": "[encoded data removed]",
      "text/plain": [
       "<Figure size 432x288 with 1 Axes>"
      ]
     },
     "metadata": {
      "needs_background": "light"
     },
     "output_type": "display_data"
    }
   ],
   "source": [
    "param_distribs = {\n",
    "    'n_hidden' : [1],\n",
    "    'n_neurons': [20],\n",
    "    'activation_func': ['sigmoid'],\n",
    "    'optimizer': ['Adam','RMSprop', 'Adagrad', 'Adadelta', 'Adamax', 'Nadam']\n",
    "}\n",
    "\n",
    "random_search = RandomizedSearchCV(reg_model, \n",
    "                                   param_distribs, \n",
    "                                   cv = 3, \n",
    "                                   scoring = 'accuracy',\n",
    "                                   error_score = 'raise', \n",
    "                                   n_iter = 4,\n",
    "                                   return_train_score = True,\n",
    "                                   random_state = 42)\n",
    "\n",
    "results = random_search.fit(X_train_final, y_train_final, verbose = 0)\n",
    "\n",
    "# Printing the best parameter\n",
    "print('The best value is: ', random_search.best_params_)\n",
    "\n",
    "plot_random_search(results.cv_results_, 'optimizer', 'Optimizer')"
   ]
  },
  {
   "cell_type": "markdown",
   "id": "b33a1a7d",
   "metadata": {},
   "source": [
    "##### Loss function"
   ]
  },
  {
   "cell_type": "code",
   "execution_count": 58,
   "id": "6078af20",
   "metadata": {},
   "outputs": [
    {
     "name": "stderr",
     "output_type": "stream",
     "text": [
      "/opt/homebrew/Caskroom/miniforge/base/envs/tensorflow/lib/python3.9/site-packages/sklearn/model_selection/_search.py:292: UserWarning: The total space of parameters 1 is smaller than n_iter=3. Running 1 iterations. For exhaustive searches, use GridSearchCV.\n",
      "  warnings.warn(\n",
      "2022-08-27 12:48:08.441133: I tensorflow/core/grappler/optimizers/custom_graph_optimizer_registry.cc:113] Plugin optimizer for device_type GPU is enabled.\n",
      "2022-08-27 12:48:12.558120: I tensorflow/core/grappler/optimizers/custom_graph_optimizer_registry.cc:113] Plugin optimizer for device_type GPU is enabled.\n",
      "2022-08-27 12:48:12.952615: I tensorflow/core/grappler/optimizers/custom_graph_optimizer_registry.cc:113] Plugin optimizer for device_type GPU is enabled.\n",
      "2022-08-27 12:48:17.042636: I tensorflow/core/grappler/optimizers/custom_graph_optimizer_registry.cc:113] Plugin optimizer for device_type GPU is enabled.\n",
      "2022-08-27 12:48:17.436841: I tensorflow/core/grappler/optimizers/custom_graph_optimizer_registry.cc:113] Plugin optimizer for device_type GPU is enabled.\n",
      "2022-08-27 12:48:21.452346: I tensorflow/core/grappler/optimizers/custom_graph_optimizer_registry.cc:113] Plugin optimizer for device_type GPU is enabled.\n",
      "2022-08-27 12:48:21.844212: I tensorflow/core/grappler/optimizers/custom_graph_optimizer_registry.cc:113] Plugin optimizer for device_type GPU is enabled.\n"
     ]
    },
    {
     "name": "stdout",
     "output_type": "stream",
     "text": [
      "The best value is:  {'optimizer': 'Adam', 'n_neurons': 20, 'n_hidden': 1, 'loss_func': 'sparse_categorical_crossentropy', 'activation_func': 'sigmoid'}\n"
     ]
    },
    {
     "data": {
      "image/png": "[encoded data removed]",
      "text/plain": [
       "<Figure size 432x288 with 1 Axes>"
      ]
     },
     "metadata": {
      "needs_background": "light"
     },
     "output_type": "display_data"
    }
   ],
   "source": [
    "param_distribs = {\n",
    "    'n_hidden' : [1],\n",
    "    'n_neurons': [20],\n",
    "    'activation_func': ['sigmoid'],\n",
    "    'optimizer': ['Adam'],\n",
    "    'loss_func' : ['sparse_categorical_crossentropy']\n",
    "\n",
    "}\n",
    "\n",
    "random_search = RandomizedSearchCV(reg_model, \n",
    "                                   param_distribs, \n",
    "                                   cv = 3, \n",
    "                                   scoring = 'accuracy',\n",
    "                                   error_score = 'raise', \n",
    "                                   n_iter = 3,\n",
    "                                   return_train_score = True,\n",
    "                                   random_state = 42)\n",
    "\n",
    "results = random_search.fit(X_train_final, y_train_final, verbose = 0)\n",
    "\n",
    "# Printing the best parameter\n",
    "print('The best value is: ', random_search.best_params_)\n",
    "\n",
    "plot_random_search(results.cv_results_, 'loss_func', 'Loss Function')"
   ]
  },
  {
   "cell_type": "markdown",
   "id": "e9de1966",
   "metadata": {},
   "source": [
    "##### Batch size"
   ]
  },
  {
   "cell_type": "code",
   "execution_count": 59,
   "id": "2bf3eca0",
   "metadata": {},
   "outputs": [
    {
     "name": "stderr",
     "output_type": "stream",
     "text": [
      "2022-08-27 12:48:28.118503: I tensorflow/core/grappler/optimizers/custom_graph_optimizer_registry.cc:113] Plugin optimizer for device_type GPU is enabled.\n",
      "2022-08-27 12:49:01.378995: I tensorflow/core/grappler/optimizers/custom_graph_optimizer_registry.cc:113] Plugin optimizer for device_type GPU is enabled.\n",
      "2022-08-27 12:49:01.771846: I tensorflow/core/grappler/optimizers/custom_graph_optimizer_registry.cc:113] Plugin optimizer for device_type GPU is enabled.\n",
      "2022-08-27 12:49:34.145872: I tensorflow/core/grappler/optimizers/custom_graph_optimizer_registry.cc:113] Plugin optimizer for device_type GPU is enabled.\n",
      "2022-08-27 12:49:34.549531: I tensorflow/core/grappler/optimizers/custom_graph_optimizer_registry.cc:113] Plugin optimizer for device_type GPU is enabled.\n",
      "2022-08-27 12:50:06.156253: I tensorflow/core/grappler/optimizers/custom_graph_optimizer_registry.cc:113] Plugin optimizer for device_type GPU is enabled.\n",
      "2022-08-27 12:50:06.747591: I tensorflow/core/grappler/optimizers/custom_graph_optimizer_registry.cc:113] Plugin optimizer for device_type GPU is enabled.\n",
      "2022-08-27 12:50:23.318381: I tensorflow/core/grappler/optimizers/custom_graph_optimizer_registry.cc:113] Plugin optimizer for device_type GPU is enabled.\n",
      "2022-08-27 12:50:23.700629: I tensorflow/core/grappler/optimizers/custom_graph_optimizer_registry.cc:113] Plugin optimizer for device_type GPU is enabled.\n",
      "2022-08-27 12:50:39.880183: I tensorflow/core/grappler/optimizers/custom_graph_optimizer_registry.cc:113] Plugin optimizer for device_type GPU is enabled.\n",
      "2022-08-27 12:50:40.275644: I tensorflow/core/grappler/optimizers/custom_graph_optimizer_registry.cc:113] Plugin optimizer for device_type GPU is enabled.\n",
      "2022-08-27 12:50:55.827666: I tensorflow/core/grappler/optimizers/custom_graph_optimizer_registry.cc:113] Plugin optimizer for device_type GPU is enabled.\n",
      "2022-08-27 12:50:56.215856: I tensorflow/core/grappler/optimizers/custom_graph_optimizer_registry.cc:113] Plugin optimizer for device_type GPU is enabled.\n",
      "2022-08-27 12:50:59.741084: I tensorflow/core/grappler/optimizers/custom_graph_optimizer_registry.cc:113] Plugin optimizer for device_type GPU is enabled.\n",
      "2022-08-27 12:51:00.131407: I tensorflow/core/grappler/optimizers/custom_graph_optimizer_registry.cc:113] Plugin optimizer for device_type GPU is enabled.\n",
      "2022-08-27 12:51:03.467790: I tensorflow/core/grappler/optimizers/custom_graph_optimizer_registry.cc:113] Plugin optimizer for device_type GPU is enabled.\n",
      "2022-08-27 12:51:03.859156: I tensorflow/core/grappler/optimizers/custom_graph_optimizer_registry.cc:113] Plugin optimizer for device_type GPU is enabled.\n",
      "2022-08-27 12:51:07.166127: I tensorflow/core/grappler/optimizers/custom_graph_optimizer_registry.cc:113] Plugin optimizer for device_type GPU is enabled.\n",
      "2022-08-27 12:51:07.557882: I tensorflow/core/grappler/optimizers/custom_graph_optimizer_registry.cc:113] Plugin optimizer for device_type GPU is enabled.\n",
      "2022-08-27 12:51:15.841078: I tensorflow/core/grappler/optimizers/custom_graph_optimizer_registry.cc:113] Plugin optimizer for device_type GPU is enabled.\n",
      "2022-08-27 12:51:16.436987: I tensorflow/core/grappler/optimizers/custom_graph_optimizer_registry.cc:113] Plugin optimizer for device_type GPU is enabled.\n",
      "2022-08-27 12:51:24.282788: I tensorflow/core/grappler/optimizers/custom_graph_optimizer_registry.cc:113] Plugin optimizer for device_type GPU is enabled.\n",
      "2022-08-27 12:51:24.684894: I tensorflow/core/grappler/optimizers/custom_graph_optimizer_registry.cc:113] Plugin optimizer for device_type GPU is enabled.\n",
      "2022-08-27 12:51:32.925884: I tensorflow/core/grappler/optimizers/custom_graph_optimizer_registry.cc:113] Plugin optimizer for device_type GPU is enabled.\n",
      "2022-08-27 12:51:33.313744: I tensorflow/core/grappler/optimizers/custom_graph_optimizer_registry.cc:113] Plugin optimizer for device_type GPU is enabled.\n"
     ]
    },
    {
     "name": "stdout",
     "output_type": "stream",
     "text": [
      "The best value is:  {'optimizer': 'Adam', 'n_neurons': 20, 'n_hidden': 1, 'loss_func': 'sparse_categorical_crossentropy', 'batch_size': 5, 'activation_func': 'sigmoid'}\n"
     ]
    },
    {
     "data": {
      "image/png": "[encoded data removed]",
      "text/plain": [
       "<Figure size 432x288 with 1 Axes>"
      ]
     },
     "metadata": {
      "needs_background": "light"
     },
     "output_type": "display_data"
    }
   ],
   "source": [
    "param_distribs = {\n",
    "    'n_hidden' : [1],\n",
    "    'n_neurons': [20],\n",
    "    'activation_func': ['sigmoid'],\n",
    "    'optimizer': ['Adam'],\n",
    "    'loss_func' : ['sparse_categorical_crossentropy'],\n",
    "    'batch_size': [5, 10, 20, 32, 40, 50, 60]\n",
    "\n",
    "\n",
    "}\n",
    "\n",
    "random_search = RandomizedSearchCV(reg_model, \n",
    "                                   param_distribs, \n",
    "                                   cv = 3, \n",
    "                                   scoring = 'accuracy',\n",
    "                                   error_score = 'raise', \n",
    "                                   n_iter = 4,\n",
    "                                   return_train_score = True,\n",
    "                                   random_state = 42)\n",
    "\n",
    "results = random_search.fit(X_train_final, y_train_final, verbose = 0)\n",
    "\n",
    "# Printing the best parameter\n",
    "print('The best value is: ', random_search.best_params_)\n",
    "\n",
    "plot_random_search(results.cv_results_, 'batch_size', 'Batch size')"
   ]
  },
  {
   "cell_type": "markdown",
   "id": "80625b9f",
   "metadata": {},
   "source": [
    "##### Initial learning rate"
   ]
  },
  {
   "cell_type": "code",
   "execution_count": 60,
   "id": "c45ae93f",
   "metadata": {},
   "outputs": [
    {
     "name": "stderr",
     "output_type": "stream",
     "text": [
      "2022-08-27 12:52:23.321400: I tensorflow/core/grappler/optimizers/custom_graph_optimizer_registry.cc:113] Plugin optimizer for device_type GPU is enabled.\n",
      "2022-08-27 12:52:27.981283: I tensorflow/core/grappler/optimizers/custom_graph_optimizer_registry.cc:113] Plugin optimizer for device_type GPU is enabled.\n",
      "2022-08-27 12:52:28.394786: I tensorflow/core/grappler/optimizers/custom_graph_optimizer_registry.cc:113] Plugin optimizer for device_type GPU is enabled.\n",
      "2022-08-27 12:52:32.858335: I tensorflow/core/grappler/optimizers/custom_graph_optimizer_registry.cc:113] Plugin optimizer for device_type GPU is enabled.\n",
      "2022-08-27 12:52:33.306600: I tensorflow/core/grappler/optimizers/custom_graph_optimizer_registry.cc:113] Plugin optimizer for device_type GPU is enabled.\n",
      "2022-08-27 12:52:37.393142: I tensorflow/core/grappler/optimizers/custom_graph_optimizer_registry.cc:113] Plugin optimizer for device_type GPU is enabled.\n",
      "2022-08-27 12:52:37.779889: I tensorflow/core/grappler/optimizers/custom_graph_optimizer_registry.cc:113] Plugin optimizer for device_type GPU is enabled.\n",
      "2022-08-27 12:52:41.908575: I tensorflow/core/grappler/optimizers/custom_graph_optimizer_registry.cc:113] Plugin optimizer for device_type GPU is enabled.\n",
      "2022-08-27 12:52:42.537861: I tensorflow/core/grappler/optimizers/custom_graph_optimizer_registry.cc:113] Plugin optimizer for device_type GPU is enabled.\n",
      "2022-08-27 12:52:46.667344: I tensorflow/core/grappler/optimizers/custom_graph_optimizer_registry.cc:113] Plugin optimizer for device_type GPU is enabled.\n",
      "2022-08-27 12:52:47.050059: I tensorflow/core/grappler/optimizers/custom_graph_optimizer_registry.cc:113] Plugin optimizer for device_type GPU is enabled.\n",
      "2022-08-27 12:52:51.168247: I tensorflow/core/grappler/optimizers/custom_graph_optimizer_registry.cc:113] Plugin optimizer for device_type GPU is enabled.\n",
      "2022-08-27 12:52:51.563530: I tensorflow/core/grappler/optimizers/custom_graph_optimizer_registry.cc:113] Plugin optimizer for device_type GPU is enabled.\n",
      "2022-08-27 12:52:55.794558: I tensorflow/core/grappler/optimizers/custom_graph_optimizer_registry.cc:113] Plugin optimizer for device_type GPU is enabled.\n",
      "2022-08-27 12:52:56.176626: I tensorflow/core/grappler/optimizers/custom_graph_optimizer_registry.cc:113] Plugin optimizer for device_type GPU is enabled.\n",
      "2022-08-27 12:53:00.269229: I tensorflow/core/grappler/optimizers/custom_graph_optimizer_registry.cc:113] Plugin optimizer for device_type GPU is enabled.\n",
      "2022-08-27 12:53:00.653048: I tensorflow/core/grappler/optimizers/custom_graph_optimizer_registry.cc:113] Plugin optimizer for device_type GPU is enabled.\n",
      "2022-08-27 12:53:04.761400: I tensorflow/core/grappler/optimizers/custom_graph_optimizer_registry.cc:113] Plugin optimizer for device_type GPU is enabled.\n",
      "2022-08-27 12:53:05.158139: I tensorflow/core/grappler/optimizers/custom_graph_optimizer_registry.cc:113] Plugin optimizer for device_type GPU is enabled.\n"
     ]
    },
    {
     "name": "stdout",
     "output_type": "stream",
     "text": [
      "The best value is:  {'optimizer': 'Adam', 'n_neurons': 20, 'n_hidden': 1, 'loss_func': 'sparse_categorical_crossentropy', 'learning_rate': 0.01, 'batch_size': 32, 'activation_func': 'sigmoid'}\n"
     ]
    },
    {
     "data": {
      "image/png": "[encoded data removed]",
      "text/plain": [
       "<Figure size 432x288 with 1 Axes>"
      ]
     },
     "metadata": {
      "needs_background": "light"
     },
     "output_type": "display_data"
    }
   ],
   "source": [
    "param_distribs = {\n",
    "    'n_hidden' : [1],\n",
    "    'n_neurons': [20],\n",
    "    'activation_func': ['sigmoid'],\n",
    "    'optimizer': ['Adam'],\n",
    "    'loss_func' : ['sparse_categorical_crossentropy'],\n",
    "    'batch_size': [32],\n",
    "    'learning_rate' : [0.1, 0.01, 0.001, 0.0001]\n",
    "\n",
    "\n",
    "}\n",
    "\n",
    "random_search = RandomizedSearchCV(reg_model, \n",
    "                                   param_distribs, \n",
    "                                   cv = 3, \n",
    "                                   scoring = 'accuracy',\n",
    "                                   error_score = 'raise', \n",
    "                                   n_iter = 3,\n",
    "                                   return_train_score = True,\n",
    "                                   random_state = 42)\n",
    "\n",
    "results = random_search.fit(X_train_final, y_train_final, verbose = 0)\n",
    "\n",
    "# Printing the best parameter\n",
    "print('The best value is: ', random_search.best_params_)\n",
    "\n",
    "plot_random_search(results.cv_results_, 'learning_rate', 'Learning Rate')"
   ]
  },
  {
   "cell_type": "markdown",
   "id": "7d36ddf9",
   "metadata": {},
   "source": [
    "##### Final model function"
   ]
  },
  {
   "cell_type": "code",
   "execution_count": 61,
   "id": "49b6eae7",
   "metadata": {},
   "outputs": [],
   "source": [
    "def final_model(n_hidden = 1, n_neurons=80, learning_rate = 0.01, input_shape = [130], activation_func = 'relu', loss_func = 'mae', optimizer = tf.keras.optimizers.Adam()):\n",
    "    model = keras.models.Sequential()\n",
    "    model.add(keras.layers.InputLayer(input_shape = input_shape))\n",
    "\n",
    "    for layer in range(n_hidden):\n",
    "        model.add(keras.layers.BatchNormalization())\n",
    "        model.add(keras.layers.Dense(n_neurons, \n",
    "                                     activation = activation_func,\n",
    "                                     kernel_initializer = tf.keras.initializers.GlorotNormal(seed=42))                                 )  \n",
    "    # Adding the output neuron\n",
    "    model.add(keras.layers.Dense(41, activation = 'softmax'))\n",
    "\n",
    "    # Compiling the model\n",
    "    optimizer = optimizer\n",
    "    optimizer.learning_rate = learning_rate\n",
    "    model.compile(loss = loss_func, optimizer = optimizer)\n",
    "\n",
    "    return model"
   ]
  },
  {
   "cell_type": "markdown",
   "id": "2291560d",
   "metadata": {},
   "source": [
    "##### Final model implementation"
   ]
  },
  {
   "cell_type": "code",
   "execution_count": 62,
   "id": "afdf073e",
   "metadata": {},
   "outputs": [
    {
     "name": "stdout",
     "output_type": "stream",
     "text": [
      "Epoch 1/150\n",
      "10/79 [==>...........................] - ETA: 0s - loss: 3.4178 "
     ]
    },
    {
     "name": "stderr",
     "output_type": "stream",
     "text": [
      "2022-08-27 12:53:11.491387: I tensorflow/core/grappler/optimizers/custom_graph_optimizer_registry.cc:113] Plugin optimizer for device_type GPU is enabled.\n"
     ]
    },
    {
     "name": "stdout",
     "output_type": "stream",
     "text": [
      "79/79 [==============================] - 1s 8ms/step - loss: 1.7368 - val_loss: 0.9662 - lr: 0.0100\n",
      "Epoch 2/150\n",
      "13/79 [===>..........................] - ETA: 0s - loss: 0.4289"
     ]
    },
    {
     "name": "stderr",
     "output_type": "stream",
     "text": [
      "2022-08-27 12:53:12.143229: I tensorflow/core/grappler/optimizers/custom_graph_optimizer_registry.cc:113] Plugin optimizer for device_type GPU is enabled.\n"
     ]
    },
    {
     "name": "stdout",
     "output_type": "stream",
     "text": [
      "79/79 [==============================] - 0s 5ms/step - loss: 0.2540 - val_loss: 0.1860 - lr: 0.0100\n",
      "Epoch 3/150\n",
      "79/79 [==============================] - 0s 5ms/step - loss: 0.0879 - val_loss: 0.0683 - lr: 0.0100\n",
      "Epoch 4/150\n",
      "79/79 [==============================] - 0s 5ms/step - loss: 0.0481 - val_loss: 0.0379 - lr: 0.0100\n",
      "Epoch 5/150\n",
      "79/79 [==============================] - 0s 6ms/step - loss: 0.0314 - val_loss: 0.0255 - lr: 0.0100\n",
      "Epoch 6/150\n",
      "79/79 [==============================] - 0s 5ms/step - loss: 0.0230 - val_loss: 0.0189 - lr: 0.0100\n",
      "Epoch 7/150\n",
      "79/79 [==============================] - 0s 5ms/step - loss: 0.0174 - val_loss: 0.0147 - lr: 0.0100\n",
      "Epoch 8/150\n",
      "79/79 [==============================] - 0s 5ms/step - loss: 0.0139 - val_loss: 0.0119 - lr: 0.0100\n",
      "Epoch 9/150\n",
      "79/79 [==============================] - 0s 5ms/step - loss: 0.0112 - val_loss: 0.0098 - lr: 0.0100\n",
      "Epoch 10/150\n",
      "79/79 [==============================] - 0s 5ms/step - loss: 0.0094 - val_loss: 0.0083 - lr: 0.0100\n",
      "Epoch 11/150\n",
      "79/79 [==============================] - 0s 5ms/step - loss: 0.0080 - val_loss: 0.0071 - lr: 0.0100\n",
      "Epoch 12/150\n",
      "79/79 [==============================] - 0s 6ms/step - loss: 0.0069 - val_loss: 0.0061 - lr: 0.0100\n",
      "Epoch 13/150\n",
      "79/79 [==============================] - 0s 5ms/step - loss: 0.0061 - val_loss: 0.0054 - lr: 0.0100\n",
      "Epoch 14/150\n",
      "79/79 [==============================] - 0s 5ms/step - loss: 0.0053 - val_loss: 0.0048 - lr: 0.0100\n",
      "Epoch 15/150\n",
      "79/79 [==============================] - 0s 5ms/step - loss: 0.0047 - val_loss: 0.0042 - lr: 0.0100\n",
      "Epoch 16/150\n",
      "79/79 [==============================] - 0s 6ms/step - loss: 0.0042 - val_loss: 0.0038 - lr: 0.0100\n",
      "Epoch 17/150\n",
      "79/79 [==============================] - 0s 5ms/step - loss: 0.0037 - val_loss: 0.0034 - lr: 0.0100\n",
      "Epoch 18/150\n",
      "79/79 [==============================] - 0s 5ms/step - loss: 0.0034 - val_loss: 0.0031 - lr: 0.0100\n",
      "Epoch 19/150\n",
      "79/79 [==============================] - 0s 5ms/step - loss: 0.0031 - val_loss: 0.0028 - lr: 0.0100\n",
      "Epoch 20/150\n",
      "79/79 [==============================] - 0s 5ms/step - loss: 0.0028 - val_loss: 0.0026 - lr: 0.0100\n",
      "Epoch 21/150\n",
      "79/79 [==============================] - 0s 6ms/step - loss: 0.0026 - val_loss: 0.0024 - lr: 0.0100\n",
      "Epoch 22/150\n",
      "79/79 [==============================] - 0s 5ms/step - loss: 0.0024 - val_loss: 0.0022 - lr: 0.0100\n",
      "Epoch 23/150\n",
      "79/79 [==============================] - 0s 6ms/step - loss: 0.0022 - val_loss: 0.0020 - lr: 0.0100\n",
      "Epoch 24/150\n",
      "79/79 [==============================] - 0s 5ms/step - loss: 0.0020 - val_loss: 0.0019 - lr: 0.0100\n",
      "Epoch 25/150\n",
      "79/79 [==============================] - 0s 5ms/step - loss: 0.0019 - val_loss: 0.0017 - lr: 0.0100\n",
      "Epoch 26/150\n",
      "79/79 [==============================] - 0s 5ms/step - loss: 0.0017 - val_loss: 0.0016 - lr: 0.0100\n",
      "Epoch 27/150\n",
      "79/79 [==============================] - 0s 6ms/step - loss: 0.0016 - val_loss: 0.0015 - lr: 0.0100\n",
      "Epoch 28/150\n",
      "79/79 [==============================] - 0s 6ms/step - loss: 0.0015 - val_loss: 0.0014 - lr: 0.0100\n",
      "Epoch 29/150\n",
      "79/79 [==============================] - 0s 5ms/step - loss: 0.0014 - val_loss: 0.0013 - lr: 0.0100\n",
      "Epoch 30/150\n",
      "79/79 [==============================] - 0s 5ms/step - loss: 0.0013 - val_loss: 0.0012 - lr: 0.0100\n",
      "Epoch 31/150\n",
      "79/79 [==============================] - 0s 5ms/step - loss: 0.0012 - val_loss: 0.0011 - lr: 0.0100\n",
      "Epoch 32/150\n",
      "79/79 [==============================] - 0s 6ms/step - loss: 0.0011 - val_loss: 0.0011 - lr: 0.0100\n",
      "Epoch 33/150\n",
      "79/79 [==============================] - 0s 5ms/step - loss: 0.0011 - val_loss: 0.0010 - lr: 0.0100\n",
      "Epoch 34/150\n",
      "79/79 [==============================] - 0s 5ms/step - loss: 0.0010 - val_loss: 9.5035e-04 - lr: 0.0100\n",
      "Epoch 35/150\n",
      "79/79 [==============================] - 0s 5ms/step - loss: 9.6278e-04 - val_loss: 8.9548e-04 - lr: 0.0100\n",
      "Epoch 36/150\n",
      "79/79 [==============================] - 0s 5ms/step - loss: 9.0173e-04 - val_loss: 8.4425e-04 - lr: 0.0100\n",
      "Epoch 37/150\n",
      "79/79 [==============================] - 0s 5ms/step - loss: 8.4623e-04 - val_loss: 7.9749e-04 - lr: 0.0100\n",
      "Epoch 38/150\n",
      "79/79 [==============================] - 0s 5ms/step - loss: 8.3953e-04 - val_loss: 7.5403e-04 - lr: 0.0100\n",
      "Epoch 39/150\n",
      "79/79 [==============================] - 0s 5ms/step - loss: 7.6509e-04 - val_loss: 7.1172e-04 - lr: 0.0100\n",
      "Epoch 40/150\n",
      "79/79 [==============================] - 0s 5ms/step - loss: 7.1582e-04 - val_loss: 6.7396e-04 - lr: 0.0100\n",
      "Epoch 41/150\n",
      "79/79 [==============================] - 0s 5ms/step - loss: 6.8550e-04 - val_loss: 6.3853e-04 - lr: 0.0100\n",
      "Epoch 42/150\n",
      "79/79 [==============================] - 0s 5ms/step - loss: 6.5203e-04 - val_loss: 6.0476e-04 - lr: 0.0100\n",
      "Epoch 43/150\n",
      "79/79 [==============================] - 0s 5ms/step - loss: 6.1244e-04 - val_loss: 5.7336e-04 - lr: 0.0100\n",
      "Epoch 44/150\n",
      "79/79 [==============================] - 0s 5ms/step - loss: 5.7685e-04 - val_loss: 5.4484e-04 - lr: 0.0100\n",
      "Epoch 45/150\n",
      "79/79 [==============================] - 0s 5ms/step - loss: 5.5431e-04 - val_loss: 5.1714e-04 - lr: 0.0100\n",
      "Epoch 46/150\n",
      "79/79 [==============================] - 0s 5ms/step - loss: 5.2159e-04 - val_loss: 4.9155e-04 - lr: 0.0100\n",
      "Epoch 47/150\n",
      "79/79 [==============================] - 0s 5ms/step - loss: 4.9385e-04 - val_loss: 4.6789e-04 - lr: 0.0100\n",
      "Epoch 48/150\n",
      "79/79 [==============================] - 0s 5ms/step - loss: 4.8184e-04 - val_loss: 4.4467e-04 - lr: 0.0100\n",
      "Epoch 49/150\n",
      "79/79 [==============================] - 0s 5ms/step - loss: 4.5043e-04 - val_loss: 4.2305e-04 - lr: 0.0100\n",
      "Epoch 50/150\n",
      "79/79 [==============================] - 0s 5ms/step - loss: 4.2735e-04 - val_loss: 4.0282e-04 - lr: 0.0100\n",
      "Epoch 51/150\n",
      "79/79 [==============================] - 0s 5ms/step - loss: 4.0900e-04 - val_loss: 3.8383e-04 - lr: 0.0100\n",
      "Epoch 52/150\n",
      "79/79 [==============================] - 0s 5ms/step - loss: 3.8723e-04 - val_loss: 3.6595e-04 - lr: 0.0100\n",
      "Epoch 53/150\n",
      "79/79 [==============================] - 0s 5ms/step - loss: 3.6938e-04 - val_loss: 3.4873e-04 - lr: 0.0100\n",
      "Epoch 54/150\n",
      "79/79 [==============================] - 0s 5ms/step - loss: 3.5466e-04 - val_loss: 3.3243e-04 - lr: 0.0100\n",
      "Epoch 55/150\n",
      "79/79 [==============================] - 0s 5ms/step - loss: 3.3879e-04 - val_loss: 3.1714e-04 - lr: 0.0100\n",
      "Epoch 56/150\n",
      "79/79 [==============================] - 0s 5ms/step - loss: 3.2347e-04 - val_loss: 3.0991e-04 - lr: 0.0050\n",
      "Epoch 57/150\n",
      "79/79 [==============================] - 0s 5ms/step - loss: 3.1669e-04 - val_loss: 3.0260e-04 - lr: 0.0050\n",
      "Epoch 58/150\n",
      "79/79 [==============================] - 0s 5ms/step - loss: 3.1077e-04 - val_loss: 2.9532e-04 - lr: 0.0050\n",
      "Epoch 59/150\n",
      "79/79 [==============================] - 0s 5ms/step - loss: 2.9921e-04 - val_loss: 2.8816e-04 - lr: 0.0050\n",
      "Epoch 60/150\n",
      "79/79 [==============================] - 0s 5ms/step - loss: 2.9294e-04 - val_loss: 2.8119e-04 - lr: 0.0050\n",
      "Epoch 61/150\n",
      "79/79 [==============================] - 0s 6ms/step - loss: 2.8515e-04 - val_loss: 2.7425e-04 - lr: 0.0050\n",
      "Epoch 62/150\n",
      "79/79 [==============================] - 0s 6ms/step - loss: 2.8804e-04 - val_loss: 2.6875e-04 - lr: 0.0050\n",
      "Epoch 63/150\n",
      "79/79 [==============================] - 0s 5ms/step - loss: 2.7454e-04 - val_loss: 2.6502e-04 - lr: 0.0025\n",
      "Epoch 64/150\n",
      "79/79 [==============================] - 0s 5ms/step - loss: 2.7292e-04 - val_loss: 2.6104e-04 - lr: 0.0025\n",
      "Epoch 65/150\n",
      "79/79 [==============================] - 0s 5ms/step - loss: 2.6830e-04 - val_loss: 2.5725e-04 - lr: 0.0025\n",
      "Epoch 66/150\n",
      "79/79 [==============================] - 0s 5ms/step - loss: 2.6488e-04 - val_loss: 2.5330e-04 - lr: 0.0025\n",
      "Epoch 67/150\n",
      "79/79 [==============================] - 0s 5ms/step - loss: 2.6045e-04 - val_loss: 2.4960e-04 - lr: 0.0025\n",
      "Epoch 68/150\n",
      "79/79 [==============================] - 0s 5ms/step - loss: 2.5925e-04 - val_loss: 2.4775e-04 - lr: 0.0012\n",
      "Epoch 69/150\n",
      "79/79 [==============================] - 0s 5ms/step - loss: 2.5480e-04 - val_loss: 2.4576e-04 - lr: 0.0012\n",
      "Epoch 70/150\n",
      "79/79 [==============================] - 0s 5ms/step - loss: 2.5384e-04 - val_loss: 2.4378e-04 - lr: 0.0012\n",
      "Epoch 71/150\n",
      "79/79 [==============================] - 0s 5ms/step - loss: 2.5214e-04 - val_loss: 2.4177e-04 - lr: 0.0012\n",
      "Epoch 72/150\n"
     ]
    },
    {
     "name": "stdout",
     "output_type": "stream",
     "text": [
      "79/79 [==============================] - 0s 5ms/step - loss: 2.4819e-04 - val_loss: 2.3966e-04 - lr: 0.0012\n",
      "Epoch 73/150\n",
      "79/79 [==============================] - 0s 5ms/step - loss: 2.4829e-04 - val_loss: 2.3862e-04 - lr: 6.2500e-04\n",
      "Epoch 74/150\n",
      "79/79 [==============================] - 0s 5ms/step - loss: 2.4708e-04 - val_loss: 2.3754e-04 - lr: 6.2500e-04\n",
      "Epoch 75/150\n",
      "79/79 [==============================] - 0s 5ms/step - loss: 2.4399e-04 - val_loss: 2.3644e-04 - lr: 6.2500e-04\n",
      "Epoch 76/150\n",
      "79/79 [==============================] - 0s 5ms/step - loss: 2.4306e-04 - val_loss: 2.3521e-04 - lr: 6.2500e-04\n",
      "Epoch 77/150\n",
      "79/79 [==============================] - 0s 5ms/step - loss: 2.4474e-04 - val_loss: 2.3404e-04 - lr: 6.2500e-04\n",
      "Epoch 78/150\n",
      "79/79 [==============================] - 0s 6ms/step - loss: 2.4062e-04 - val_loss: 2.3342e-04 - lr: 3.1250e-04\n",
      "Epoch 79/150\n",
      "79/79 [==============================] - 0s 5ms/step - loss: 2.4020e-04 - val_loss: 2.3279e-04 - lr: 3.1250e-04\n",
      "Epoch 80/150\n",
      "79/79 [==============================] - 0s 6ms/step - loss: 2.4003e-04 - val_loss: 2.3213e-04 - lr: 3.1250e-04\n",
      "Epoch 81/150\n",
      "79/79 [==============================] - 0s 5ms/step - loss: 2.3946e-04 - val_loss: 2.3146e-04 - lr: 3.1250e-04\n",
      "Epoch 82/150\n",
      "79/79 [==============================] - 0s 6ms/step - loss: 2.3874e-04 - val_loss: 2.3080e-04 - lr: 3.1250e-04\n",
      "Epoch 83/150\n",
      "79/79 [==============================] - 0s 6ms/step - loss: 2.3893e-04 - val_loss: 2.3040e-04 - lr: 1.5625e-04\n",
      "Epoch 84/150\n",
      "79/79 [==============================] - 0s 5ms/step - loss: 2.3993e-04 - val_loss: 2.3001e-04 - lr: 1.5625e-04\n",
      "Epoch 85/150\n",
      "79/79 [==============================] - 0s 5ms/step - loss: 2.3843e-04 - val_loss: 2.2966e-04 - lr: 1.5625e-04\n",
      "Epoch 86/150\n",
      "79/79 [==============================] - 0s 5ms/step - loss: 2.3894e-04 - val_loss: 2.2925e-04 - lr: 1.5625e-04\n",
      "Epoch 87/150\n",
      "79/79 [==============================] - 0s 5ms/step - loss: 2.3696e-04 - val_loss: 2.2884e-04 - lr: 1.5625e-04\n",
      "Epoch 88/150\n",
      "79/79 [==============================] - 0s 5ms/step - loss: 2.3712e-04 - val_loss: 2.2860e-04 - lr: 7.8125e-05\n",
      "Epoch 89/150\n",
      "79/79 [==============================] - 0s 6ms/step - loss: 2.3504e-04 - val_loss: 2.2837e-04 - lr: 7.8125e-05\n",
      "Epoch 90/150\n",
      "79/79 [==============================] - 0s 5ms/step - loss: 2.3840e-04 - val_loss: 2.2813e-04 - lr: 7.8125e-05\n",
      "Epoch 91/150\n",
      "79/79 [==============================] - 0s 6ms/step - loss: 2.3534e-04 - val_loss: 2.2786e-04 - lr: 7.8125e-05\n",
      "Epoch 92/150\n",
      "79/79 [==============================] - 0s 6ms/step - loss: 2.3488e-04 - val_loss: 2.2764e-04 - lr: 7.8125e-05\n",
      "Epoch 93/150\n",
      "79/79 [==============================] - 0s 5ms/step - loss: 2.3478e-04 - val_loss: 2.2752e-04 - lr: 3.9062e-05\n",
      "Epoch 94/150\n",
      "79/79 [==============================] - 0s 6ms/step - loss: 2.3547e-04 - val_loss: 2.2742e-04 - lr: 3.9062e-05\n",
      "Epoch 95/150\n",
      "79/79 [==============================] - 0s 5ms/step - loss: 2.3659e-04 - val_loss: 2.2727e-04 - lr: 3.9062e-05\n",
      "Epoch 96/150\n",
      "79/79 [==============================] - 0s 5ms/step - loss: 2.3520e-04 - val_loss: 2.2705e-04 - lr: 3.9062e-05\n",
      "Epoch 97/150\n",
      "79/79 [==============================] - 0s 6ms/step - loss: 2.3544e-04 - val_loss: 2.2694e-04 - lr: 3.9062e-05\n",
      "Epoch 98/150\n",
      "79/79 [==============================] - 0s 5ms/step - loss: 2.3693e-04 - val_loss: 2.2687e-04 - lr: 1.9531e-05\n",
      "Epoch 99/150\n",
      "79/79 [==============================] - 0s 5ms/step - loss: 2.3290e-04 - val_loss: 2.2679e-04 - lr: 1.9531e-05\n",
      "Epoch 100/150\n",
      "79/79 [==============================] - 0s 5ms/step - loss: 2.3446e-04 - val_loss: 2.2672e-04 - lr: 1.9531e-05\n",
      "Epoch 101/150\n",
      "79/79 [==============================] - 0s 5ms/step - loss: 2.3351e-04 - val_loss: 2.2661e-04 - lr: 1.9531e-05\n",
      "Epoch 102/150\n",
      "79/79 [==============================] - 0s 5ms/step - loss: 2.3332e-04 - val_loss: 2.2652e-04 - lr: 1.9531e-05\n",
      "Epoch 103/150\n",
      "79/79 [==============================] - 0s 5ms/step - loss: 2.3613e-04 - val_loss: 2.2645e-04 - lr: 9.7656e-06\n",
      "Epoch 104/150\n",
      "79/79 [==============================] - 0s 5ms/step - loss: 2.3409e-04 - val_loss: 2.2642e-04 - lr: 9.7656e-06\n",
      "Epoch 105/150\n",
      "79/79 [==============================] - 0s 5ms/step - loss: 2.3454e-04 - val_loss: 2.2635e-04 - lr: 9.7656e-06\n",
      "Epoch 106/150\n",
      "79/79 [==============================] - 0s 5ms/step - loss: 2.3402e-04 - val_loss: 2.2632e-04 - lr: 9.7656e-06\n",
      "Epoch 107/150\n",
      "79/79 [==============================] - 0s 5ms/step - loss: 2.3400e-04 - val_loss: 2.2624e-04 - lr: 9.7656e-06\n",
      "Epoch 108/150\n",
      "79/79 [==============================] - 0s 5ms/step - loss: 2.3277e-04 - val_loss: 2.2621e-04 - lr: 4.8828e-06\n",
      "Epoch 109/150\n",
      "79/79 [==============================] - 0s 5ms/step - loss: 2.3496e-04 - val_loss: 2.2620e-04 - lr: 4.8828e-06\n",
      "Epoch 110/150\n",
      "79/79 [==============================] - 0s 5ms/step - loss: 2.3327e-04 - val_loss: 2.2616e-04 - lr: 4.8828e-06\n",
      "Epoch 111/150\n",
      "79/79 [==============================] - 0s 5ms/step - loss: 2.3485e-04 - val_loss: 2.2612e-04 - lr: 4.8828e-06\n",
      "Epoch 112/150\n",
      "79/79 [==============================] - 0s 5ms/step - loss: 2.3315e-04 - val_loss: 2.2609e-04 - lr: 4.8828e-06\n",
      "Epoch 113/150\n",
      "79/79 [==============================] - 0s 5ms/step - loss: 2.3377e-04 - val_loss: 2.2605e-04 - lr: 2.4414e-06\n",
      "Epoch 114/150\n",
      "79/79 [==============================] - 0s 5ms/step - loss: 2.3697e-04 - val_loss: 2.2603e-04 - lr: 2.4414e-06\n",
      "Epoch 115/150\n",
      "79/79 [==============================] - 0s 5ms/step - loss: 2.3223e-04 - val_loss: 2.2601e-04 - lr: 2.4414e-06\n",
      "Epoch 116/150\n",
      "79/79 [==============================] - 0s 5ms/step - loss: 2.3223e-04 - val_loss: 2.2599e-04 - lr: 2.4414e-06\n",
      "Epoch 117/150\n",
      "79/79 [==============================] - 0s 5ms/step - loss: 2.3765e-04 - val_loss: 2.2596e-04 - lr: 2.4414e-06\n",
      "Epoch 118/150\n",
      "79/79 [==============================] - 0s 5ms/step - loss: 2.3326e-04 - val_loss: 2.2597e-04 - lr: 1.2207e-06\n",
      "Epoch 119/150\n",
      "79/79 [==============================] - 0s 5ms/step - loss: 2.3322e-04 - val_loss: 2.2598e-04 - lr: 1.2207e-06\n",
      "Epoch 120/150\n",
      "79/79 [==============================] - 0s 5ms/step - loss: 2.3451e-04 - val_loss: 2.2598e-04 - lr: 1.2207e-06\n",
      "Epoch 121/150\n",
      "79/79 [==============================] - 0s 5ms/step - loss: 2.3309e-04 - val_loss: 2.2594e-04 - lr: 1.2207e-06\n",
      "Epoch 122/150\n",
      "79/79 [==============================] - 0s 5ms/step - loss: 2.3312e-04 - val_loss: 2.2595e-04 - lr: 1.2207e-06\n",
      "Epoch 123/150\n",
      "79/79 [==============================] - 0s 5ms/step - loss: 2.3348e-04 - val_loss: 2.2592e-04 - lr: 6.1035e-07\n",
      "Epoch 124/150\n",
      "79/79 [==============================] - 0s 5ms/step - loss: 2.3434e-04 - val_loss: 2.2592e-04 - lr: 6.1035e-07\n",
      "Epoch 125/150\n",
      "79/79 [==============================] - 0s 5ms/step - loss: 2.3218e-04 - val_loss: 2.2589e-04 - lr: 6.1035e-07\n",
      "Epoch 126/150\n",
      "79/79 [==============================] - 0s 5ms/step - loss: 2.3451e-04 - val_loss: 2.2590e-04 - lr: 6.1035e-07\n",
      "Epoch 127/150\n",
      "79/79 [==============================] - 0s 5ms/step - loss: 2.3607e-04 - val_loss: 2.2592e-04 - lr: 6.1035e-07\n",
      "Epoch 128/150\n",
      "79/79 [==============================] - 0s 5ms/step - loss: 2.3397e-04 - val_loss: 2.2591e-04 - lr: 3.0518e-07\n",
      "Epoch 129/150\n",
      "79/79 [==============================] - 0s 5ms/step - loss: 2.3412e-04 - val_loss: 2.2591e-04 - lr: 3.0518e-07\n",
      "Epoch 130/150\n",
      "79/79 [==============================] - 0s 5ms/step - loss: 2.3691e-04 - val_loss: 2.2590e-04 - lr: 3.0518e-07\n",
      "Epoch 131/150\n",
      "79/79 [==============================] - 0s 5ms/step - loss: 2.3377e-04 - val_loss: 2.2589e-04 - lr: 3.0518e-07\n",
      "Epoch 132/150\n",
      "79/79 [==============================] - 0s 5ms/step - loss: 2.3451e-04 - val_loss: 2.2590e-04 - lr: 3.0518e-07\n",
      "Epoch 133/150\n",
      "79/79 [==============================] - 0s 5ms/step - loss: 2.3335e-04 - val_loss: 2.2590e-04 - lr: 1.5259e-07\n",
      "Epoch 134/150\n",
      "79/79 [==============================] - 0s 5ms/step - loss: 2.3461e-04 - val_loss: 2.2590e-04 - lr: 1.5259e-07\n",
      "Epoch 135/150\n",
      "79/79 [==============================] - 0s 5ms/step - loss: 2.3410e-04 - val_loss: 2.2591e-04 - lr: 1.5259e-07\n"
     ]
    }
   ],
   "source": [
    "# Defining and compiling the model\n",
    "neural_network = final_model(n_hidden = 1,\n",
    "                            n_neurons = 20,\n",
    "                            activation_func = 'sigmoid',\n",
    "                            optimizer = tf.keras.optimizers.Adam(),\n",
    "                            loss_func = 'sparse_categorical_crossentropy',\n",
    "                            learning_rate = 0.01)\n",
    "\n",
    "# Callbacks for better epoch tuning and implementing learning rate scheduling\n",
    "early_stop = tf.keras.callbacks.EarlyStopping(patience = 10, \n",
    "                                              restore_best_weights = True,\n",
    "                                              monitor = 'val_loss')\n",
    "\n",
    "# lr scheduling\n",
    "lr_scheduler = tf.keras.callbacks.ReduceLROnPlateau(factor = 0.5, patience = 5)\n",
    "\n",
    "\n",
    "\n",
    "# Fitting the model\n",
    "history = neural_network.fit(X_train_final, y_train_final, epochs = 150, batch_size = 50,\n",
    "                             validation_data = (X_valid, y_valid),\n",
    "                             callbacks = [\n",
    "                                          early_stop, \n",
    "                                          lr_scheduler\n",
    "                                          \n",
    "                                          ]\n",
    "                             )"
   ]
  },
  {
   "cell_type": "code",
   "execution_count": 63,
   "id": "70f3eb54",
   "metadata": {},
   "outputs": [],
   "source": [
    "le = preprocessing.LabelEncoder()\n",
    "le.fit(list(y_test))\n",
    "y_test1 = le.transform(list(y_test))"
   ]
  },
  {
   "cell_type": "markdown",
   "id": "7a964350",
   "metadata": {},
   "source": [
    "##### Evaluation"
   ]
  },
  {
   "cell_type": "code",
   "execution_count": 64,
   "id": "dbc563f8",
   "metadata": {},
   "outputs": [
    {
     "name": "stdout",
     "output_type": "stream",
     "text": [
      "2/2 [==============================] - 0s 13ms/step - loss: 2.2201e-04\n"
     ]
    },
    {
     "data": {
      "text/plain": [
       "0.00022200959210749716"
      ]
     },
     "execution_count": 64,
     "metadata": {},
     "output_type": "execute_result"
    }
   ],
   "source": [
    "# Predictions using the trained model\n",
    "neural_network.evaluate(X_test, y_test1)"
   ]
  },
  {
   "cell_type": "code",
   "execution_count": 65,
   "id": "547ee5e3",
   "metadata": {},
   "outputs": [
    {
     "name": "stderr",
     "output_type": "stream",
     "text": [
      "/var/folders/1v/blpk8hh14l91h36fpz2t0c6c0000gn/T/ipykernel_49316/1128352146.py:1: DeprecationWarning: KerasClassifier is deprecated, use Sci-Keras (https://github.com/adriangb/scikeras) instead. See https://www.adriangb.com/scikeras/stable/migration.html for help migrating.\n",
      "  l = keras.wrappers.scikit_learn.KerasClassifier(neural_network)\n",
      "2022-08-27 12:54:07.752878: I tensorflow/core/grappler/optimizers/custom_graph_optimizer_registry.cc:113] Plugin optimizer for device_type GPU is enabled.\n"
     ]
    },
    {
     "name": "stdout",
     "output_type": "stream",
     "text": [
      "[[90  0  0 ...  0  0  0]\n",
      " [ 0 93  0 ...  0  0  0]\n",
      " [ 0  0 95 ...  0  0  0]\n",
      " ...\n",
      " [ 0  0  0 ... 95  0  0]\n",
      " [ 0  0  0 ...  0 92  0]\n",
      " [ 0  0  0 ...  0  0 95]]\n",
      "precision score:  1.0\n",
      "recall score:  1.0\n",
      "F1-score:  1.0\n"
     ]
    }
   ],
   "source": [
    "l = keras.wrappers.scikit_learn.KerasClassifier(neural_network)\n",
    "y_train_predict = neural_network.predict(X_train_final)\n",
    "y_train_predict = np.argmax(y_train_predict, axis = 1)\n",
    "\n",
    "print(confusion_matrix(y_train_final, y_train_predict))\n",
    "precision = precision_score(y_train_final, y_train_predict, average = 'micro')\n",
    "recall = recall_score(y_train_final, y_train_predict, average = 'micro')\n",
    "f1 = f1_score(y_train_final, y_train_predict, average = 'micro')\n",
    "print('precision score: ', precision)\n",
    "print('recall score: ', recall)\n",
    "print('F1-score: ', f1)"
   ]
  },
  {
   "cell_type": "code",
   "execution_count": 74,
   "id": "1f3d5b42",
   "metadata": {},
   "outputs": [
    {
     "name": "stdout",
     "output_type": "stream",
     "text": [
      "Test accuracy:  1.0\n",
      "[[1 0 0 ... 0 0 0]\n",
      " [0 1 0 ... 0 0 0]\n",
      " [0 0 1 ... 0 0 0]\n",
      " ...\n",
      " [0 0 0 ... 1 0 0]\n",
      " [0 0 0 ... 0 1 0]\n",
      " [0 0 0 ... 0 0 1]]\n",
      "precision score:  1.0\n",
      "recall score:  1.0\n",
      "F1-score:  1.0\n"
     ]
    }
   ],
   "source": [
    "# Test accuracy\n",
    "y_test_predictions = neural_network.predict(X_test)\n",
    "y_test_predictions = np.argmax(y_test_predictions, axis = 1)\n",
    "\n",
    "acc = np.count_nonzero(y_test1 == y_test_predictions) / len(y_test)\n",
    "print('Test accuracy: ', acc)\n",
    "\n",
    "print(confusion_matrix(y_test1, y_test_predictions))\n",
    "\n",
    "precision = precision_score(y_test1, y_test_predictions, average = 'micro')\n",
    "recall = recall_score(y_test1, y_test_predictions, average = 'micro')\n",
    "f1 = f1_score(y_test1, y_test_predictions, average = 'micro')\n",
    "print('precision score: ', precision)\n",
    "print('recall score: ', recall)\n",
    "print('F1-score: ', f1)"
   ]
  },
  {
   "cell_type": "markdown",
   "id": "6ffe783d",
   "metadata": {},
   "source": [
    "# All the models provide a 100% training, validation and testing accuracy hence we select the Logistic regression model as it is the most simplest model"
   ]
  }
 ],
 "metadata": {
  "kernelspec": {
   "display_name": "Python 3.9 (tensorflow)",
   "language": "python",
   "name": "tensorflow"
  },
  "language_info": {
   "codemirror_mode": {
    "name": "ipython",
    "version": 3
   },
   "file_extension": ".py",
   "mimetype": "text/x-python",
   "name": "python",
   "nbconvert_exporter": "python",
   "pygments_lexer": "ipython3",
   "version": "3.9.12"
  }
 },
 "nbformat": 4,
 "nbformat_minor": 5
}
