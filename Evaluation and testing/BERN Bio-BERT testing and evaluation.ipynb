{
 "cells": [
  {
   "cell_type": "code",
   "execution_count": 5,
   "id": "57d9840f",
   "metadata": {},
   "outputs": [],
   "source": [
    "import requests"
   ]
  },
  {
   "cell_type": "code",
   "execution_count": 6,
   "id": "81be8f32",
   "metadata": {},
   "outputs": [],
   "source": [
    "def term_extraction(text,out,type):\n",
    "\n",
    "  denotations=out['denotations']\n",
    "  relavent_terms=[]\n",
    "  \n",
    "  if type=='drug':\n",
    "    drug_terms=[]\n",
    "    for i in denotations:\n",
    "      if i['obj']== 'drug':\n",
    "        drug_terms.append((i['span']['begin'],i['span']['end']))\n",
    "   \n",
    "    for i in drug_terms:\n",
    "      start=i[0]\n",
    "      end=i[1]\n",
    "      relavent_terms.append(text[start:end])\n",
    "\n",
    "  if type=='disease':\n",
    "    species_terms=[]\n",
    "    for i in denotations:\n",
    "      if i['obj']== 'disease':\n",
    "        species_terms.append((i['span']['begin'],i['span']['end']))\n",
    "    \n",
    "    for i in species_terms:\n",
    "      start=i[0]\n",
    "      end=i[1]\n",
    "      relavent_terms.append(text[start:end])\n",
    "\n",
    "\n",
    "  if type=='species':\n",
    "    species_terms=[]\n",
    "    for i in denotations:\n",
    "      if i['obj']== 'species':\n",
    "        species_terms.append((i['span']['begin'],i['span']['end']))\n",
    "    \n",
    "    for i in species_terms:\n",
    "      start=i[0]\n",
    "      end=i[1]\n",
    "      relavent_terms.append(text[start:end])\n",
    "\n",
    "  return(relavent_terms)"
   ]
  },
  {
   "cell_type": "code",
   "execution_count": 9,
   "id": "4d609ca4",
   "metadata": {},
   "outputs": [],
   "source": [
    "def query_raw(text, url=\"https://bern.korea.ac.kr/plain\"):\n",
    "  return requests.post(url,verify = False, data={'sample_text': text}).json()"
   ]
  },
  {
   "cell_type": "markdown",
   "id": "81f258df",
   "metadata": {},
   "source": [
    "### Case 1\n",
    "A 48-year-old man presents for evaluation of burning epigastric and substernal pain that has recurred almost daily for the past 4 months. He says that these symptoms seem to be worse when he lies down and after meals. He denies difficulty swallowing or weight loss. The patient has been taking a proton pump inhibitor (PPI) regularly over the past 12 weeks with partial resolution of his symptoms. His past medical history is significant for frequent early morning wheezing and hoarseness that have been present for the past few months. The patient has no other known medical problems, and he has had no prior surgeries. He consumes alcohol occasionally but does not use tobacco. On examination, he is moderately obese. No abnormalities are identified on the cardiopulmonary or abdominal examination.\n",
    "\n",
    "https://doctorlib.info/surgery/case-files-surgery/7.html\n"
   ]
  },
  {
   "cell_type": "markdown",
   "id": "380e86ac",
   "metadata": {},
   "source": [
    "##### Actual symptoms: \n",
    "Burning epigastric and substernal pain\n",
    "\n",
    "difficulty swallowing\n",
    "\n",
    "weight loss\n",
    "\n",
    "wheezing\n",
    "\n",
    "hoarseness\n",
    "\n",
    "obese\n",
    "\n",
    "##### Accuracy = 0.83"
   ]
  },
  {
   "cell_type": "code",
   "execution_count": 10,
   "id": "c517b93f",
   "metadata": {
    "scrolled": true
   },
   "outputs": [
    {
     "name": "stderr",
     "output_type": "stream",
     "text": [
      "/opt/homebrew/Caskroom/miniforge/base/envs/tensorflow/lib/python3.9/site-packages/urllib3/connectionpool.py:1043: InsecureRequestWarning: Unverified HTTPS request is being made to host 'bern.korea.ac.kr'. Adding certificate verification is strongly advised. See: https://urllib3.readthedocs.io/en/1.26.x/advanced-usage.html#ssl-warnings\n",
      "  warnings.warn(\n"
     ]
    },
    {
     "name": "stdout",
     "output_type": "stream",
     "text": [
      "['difficulty swallowing', 'weight loss', 'wheezing', 'hoarseness', 'obese']\n"
     ]
    }
   ],
   "source": [
    "text3 = 'A 48-year-old man presents for evaluation of burning epigastric and substernal pain that has recurred almost daily for the past 4 months. He says that these symptoms seem to be worse when he lies down and after meals. He denies difficulty swallowing or weight loss. The patient has been taking a proton pump inhibitor (PPI) regularly over the past 12 weeks with partial resolution of his symptoms. His past medical history is significant for frequent early morning wheezing and hoarseness that have been present for the past few months. The patient has no other known medical problems, and he has had no prior surgeries. He consumes alcohol occasionally but does not use tobacco. On examination, he is moderately obese. No abnormalities are identified on the cardiopulmonary or abdominal examination.'\n",
    "out=query_raw(text3)\n",
    "print(term_extraction(text3,out,'disease'))"
   ]
  },
  {
   "cell_type": "markdown",
   "id": "25438e00",
   "metadata": {},
   "source": [
    "### Case 2\n",
    "The patient is a 45 year old male with a history of eight weeks complaint of heart burn that worsens with lying down after dinner. The patient states that the pain lasts thirty minutes to two hours, and that it wakes him at night. Patient reports taking Maalox and Rolaids up to five times daily, however these only help for a short time.'\n",
    "\n",
    "https://nursinganswers.net/essays/study-patient-heart-burn-2440.php"
   ]
  },
  {
   "cell_type": "markdown",
   "id": "49606bc5",
   "metadata": {},
   "source": [
    "##### Actual symptoms\n",
    "heart burn\n",
    "\n",
    "##### Accuracy = 1.0"
   ]
  },
  {
   "cell_type": "code",
   "execution_count": 7,
   "id": "af3814f4",
   "metadata": {},
   "outputs": [
    {
     "name": "stderr",
     "output_type": "stream",
     "text": [
      "/opt/homebrew/Caskroom/miniforge/base/envs/tensorflow/lib/python3.9/site-packages/urllib3/connectionpool.py:1043: InsecureRequestWarning: Unverified HTTPS request is being made to host 'bern.korea.ac.kr'. Adding certificate verification is strongly advised. See: https://urllib3.readthedocs.io/en/1.26.x/advanced-usage.html#ssl-warnings\n",
      "  warnings.warn(\n"
     ]
    },
    {
     "name": "stdout",
     "output_type": "stream",
     "text": [
      "['heart burn']\n"
     ]
    }
   ],
   "source": [
    "text3 = 'The patient is a 45 year old male with a history of eight weeks complaint of heart burn that worsens with lying down after dinner. The patient states that the pain lasts thirty minutes to two hours, and that it wakes him at night. Patient reports taking Maalox and Rolaids up to five times daily, however these only help for a short time.'\n",
    "out=query_raw(text3)\n",
    "print(term_extraction(text3,out,'disease'))"
   ]
  },
  {
   "cell_type": "markdown",
   "id": "905a6228",
   "metadata": {},
   "source": [
    "### Case 3\n",
    "Mr L – a 53-year-old – attends his GP surgery complaining of severe heartburn. He is overweight and a heavy smoker with a history of recurrent epigastric pain from acid reflux. Mr L explains that the pain struck suddenly last night and was intense and radiating to his back. The GP – Dr P – examines the patient and finds his chest clear with normal heart and breath sounds and normal blood pressure. There is no chest wall tenderness and when Mr L is asked to point out the locus of the pain he indicates the stomach area. Dr P records moderate to severe localised epigastric pain with no rebound or guarding. He diagnoses heartburn and prescribes 15mg lansoprazole twice daily until the pain resolves and then reduced to one daily. The patient is told to return if the pain persists.'\n",
    "\n",
    "https://www.mddus.com/resources/publications-library/fyi/issue-15/case-study-just-heartburn"
   ]
  },
  {
   "cell_type": "markdown",
   "id": "571af62b",
   "metadata": {},
   "source": [
    "##### Actual symptoms\n",
    "heartburn\n",
    "\n",
    "overweight\n",
    "\n",
    "epigastric pain\n",
    "\n",
    "chest wall tenderness\n",
    "\n",
    "epigastric pain\n",
    "\n",
    "stomach pain\n",
    "\n",
    "heartburn\n",
    "\n",
    "##### Accuracy = 0.83"
   ]
  },
  {
   "cell_type": "code",
   "execution_count": 8,
   "id": "03e1cad1",
   "metadata": {},
   "outputs": [
    {
     "name": "stderr",
     "output_type": "stream",
     "text": [
      "/opt/homebrew/Caskroom/miniforge/base/envs/tensorflow/lib/python3.9/site-packages/urllib3/connectionpool.py:1043: InsecureRequestWarning: Unverified HTTPS request is being made to host 'bern.korea.ac.kr'. Adding certificate verification is strongly advised. See: https://urllib3.readthedocs.io/en/1.26.x/advanced-usage.html#ssl-warnings\n",
      "  warnings.warn(\n"
     ]
    },
    {
     "name": "stdout",
     "output_type": "stream",
     "text": [
      "['heartburn', 'epigastric pain', 'chest wall tenderness', 'epigastric pain', 'heartburn']\n"
     ]
    }
   ],
   "source": [
    "text3 = 'Mr L – a 53-year-old – attends his GP surgery complaining of severe heartburn. He is overweight and a heavy smoker with a history of recurrent epigastric pain from acid reflux. Mr L explains that the pain struck suddenly last night and was intense and radiating to his back. The GP – Dr P – examines the patient and finds his chest clear with normal heart and breath sounds and normal blood pressure. There is no chest wall tenderness and when Mr L is asked to point out the locus of the pain he indicates the stomach area. Dr P records moderate to severe localised epigastric pain with no rebound or guarding. He diagnoses heartburn and prescribes 15mg lansoprazole twice daily until the pain resolves and then reduced to one daily. The patient is told to return if the pain persists.'\n",
    "out=query_raw(text3)\n",
    "print(term_extraction(text3,out,'disease'))"
   ]
  },
  {
   "cell_type": "markdown",
   "id": "05ae3381",
   "metadata": {},
   "source": [
    "### Case 4\n",
    "Mr Thomas, a 67 year old retired Quantity Surveyor, presented to the clinic with a six month history of pain in his neck. This was accompanied with stiffness and restriction. There was no history of any injury or event. His symptoms started gradually becoming more intense 4 weeks before presenting at the clinic. In addition he noticed that he was having difficulty looking over his shoulder. Particularly on staggered junctions or reversing the car. He found that lying down eased his symptoms.\n",
    "\n",
    "https://www.scribd.com/document/542802552/Quiz-2"
   ]
  },
  {
   "cell_type": "markdown",
   "id": "d1014baa",
   "metadata": {},
   "source": [
    "##### Actual symptoms\n",
    "pain in his neck\n",
    "\n",
    "stiffness\n",
    "\n",
    "restriction\n",
    "\n",
    "##### Accuracy = 0"
   ]
  },
  {
   "cell_type": "code",
   "execution_count": 14,
   "id": "e9fc1597",
   "metadata": {},
   "outputs": [
    {
     "name": "stderr",
     "output_type": "stream",
     "text": [
      "/opt/homebrew/Caskroom/miniforge/base/envs/tensorflow/lib/python3.9/site-packages/urllib3/connectionpool.py:1043: InsecureRequestWarning: Unverified HTTPS request is being made to host 'bern.korea.ac.kr'. Adding certificate verification is strongly advised. See: https://urllib3.readthedocs.io/en/1.26.x/advanced-usage.html#ssl-warnings\n",
      "  warnings.warn(\n"
     ]
    },
    {
     "name": "stdout",
     "output_type": "stream",
     "text": [
      "['pain in']\n"
     ]
    }
   ],
   "source": [
    "text3 = 'Mr Thomas, a 67 year old retired Quantity Surveyor, presented to the clinic with a six month history of pain in his neck. This was accompanied with stiffness and restriction. There was no history of any injury or event. His symptoms started gradually becoming more intense 4 weeks before presenting at the clinic. In addition he noticed that he was having difficulty looking over his shoulder. Particularly on staggered junctions or reversing the car. He found that lying down eased his symptoms.'\n",
    "out=query_raw(text3)\n",
    "print(term_extraction(text3,out,'disease'))"
   ]
  },
  {
   "cell_type": "markdown",
   "id": "dbba7ee2",
   "metadata": {},
   "source": [
    "### Case 5\n",
    "I.H. is an 82-year-old white woman who presented to her primary care physician with a 10-year history of episodic confusion and somnolence. The episodes occurred about twice a year, typically in the morning, just after waking. They lasted minutes and were relieved when she ate her breakfast or had juice. Over the 8–10 months before presentation, the patient noted that the episodes were increasing in frequency as well as occurring throughout the day.\n",
    "\n",
    "https://diabetesjournals.org/clinical/article/22/2/102/939/Case-Study-An-82-Year-Old-Woman-Presents-With"
   ]
  },
  {
   "cell_type": "markdown",
   "id": "e689a8d4",
   "metadata": {},
   "source": [
    "##### Actual symptoms\n",
    "episodic confusion\n",
    "\n",
    "somnolence\n",
    "\n",
    "##### Accuracy = 0.5"
   ]
  },
  {
   "cell_type": "code",
   "execution_count": 15,
   "id": "92e7b841",
   "metadata": {},
   "outputs": [
    {
     "name": "stderr",
     "output_type": "stream",
     "text": [
      "/opt/homebrew/Caskroom/miniforge/base/envs/tensorflow/lib/python3.9/site-packages/urllib3/connectionpool.py:1043: InsecureRequestWarning: Unverified HTTPS request is being made to host 'bern.korea.ac.kr'. Adding certificate verification is strongly advised. See: https://urllib3.readthedocs.io/en/1.26.x/advanced-usage.html#ssl-warnings\n",
      "  warnings.warn(\n"
     ]
    },
    {
     "name": "stdout",
     "output_type": "stream",
     "text": [
      "['episodic confusion']\n"
     ]
    }
   ],
   "source": [
    "text3 = 'I.H. is an 82-year-old white woman who presented to her primary care physician with a 10-year history of episodic confusion and somnolence. The episodes occurred about twice a year, typically in the morning, just after waking. They lasted minutes and were relieved when she ate her breakfast or had juice. Over the 8–10 months before presentation, the patient noted that the episodes were increasing in frequency as well as occurring throughout the day.'\n",
    "out=query_raw(text3)\n",
    "print(term_extraction(text3,out,'disease'))"
   ]
  },
  {
   "cell_type": "markdown",
   "id": "9f44d255",
   "metadata": {},
   "source": [
    "### Case 6\n",
    "A 4.5-month-old baby girl presented to hospital with a 2-day history of watery diarrhea and fever. Rehydration and electrolytic balance were restored with intravenous fluid therapy followed by oral rehydration solution but diarrhea did not improve by the fourth day of hospitalization despite treatment with a probiotic. The patient was next treated with gelatin tannate, a medical device recently marketed in Europe to control and reduce the symptoms of diarrhea in infants, children, and adults. The child’s diarrhea improved considerably within the first twelve hours and resolved completely within three days. Gelatin tannate might be considered as a useful treatment complementary to oral rehydration solution for the treatment of diarrhea in infants with rotavirus gastroenteritis.\n",
    "\n",
    "https://pubmed.ncbi.nlm.nih.gov/22606438/"
   ]
  },
  {
   "cell_type": "markdown",
   "id": "86a28fda",
   "metadata": {},
   "source": [
    "##### Actual symptoms\n",
    "watery diarrhea\n",
    "\n",
    "fever\n",
    "\n",
    "diarrhea\n",
    "\n",
    "diarrhea\n",
    "\n",
    "diarrhea\n",
    "\n",
    "diarrhea\n",
    "\n",
    "rotavirus gastroenteritis\n",
    "\n",
    "##### Accuracy = 1.0\n"
   ]
  },
  {
   "cell_type": "code",
   "execution_count": 16,
   "id": "7c790ca1",
   "metadata": {},
   "outputs": [
    {
     "name": "stderr",
     "output_type": "stream",
     "text": [
      "/opt/homebrew/Caskroom/miniforge/base/envs/tensorflow/lib/python3.9/site-packages/urllib3/connectionpool.py:1043: InsecureRequestWarning: Unverified HTTPS request is being made to host 'bern.korea.ac.kr'. Adding certificate verification is strongly advised. See: https://urllib3.readthedocs.io/en/1.26.x/advanced-usage.html#ssl-warnings\n",
      "  warnings.warn(\n"
     ]
    },
    {
     "name": "stdout",
     "output_type": "stream",
     "text": [
      "['watery diarrhea', 'fever', 'diarrhea', 'diarrhea', 'diarrhea', 'diarrhea', 'rotavirus gastroenteritis']\n"
     ]
    }
   ],
   "source": [
    "text3 = 'A 4.5-month-old baby girl presented to hospital with a 2-day history of watery diarrhea and fever. Rehydration and electrolytic balance were restored with intravenous fluid therapy followed by oral rehydration solution but diarrhea did not improve by the fourth day of hospitalization despite treatment with a probiotic. The patient was next treated with gelatin tannate, a medical device recently marketed in Europe to control and reduce the symptoms of diarrhea in infants, children, and adults. The child’s diarrhea improved considerably within the first twelve hours and resolved completely within three days. Gelatin tannate might be considered as a useful treatment complementary to oral rehydration solution for the treatment of diarrhea in infants with rotavirus gastroenteritis.'\n",
    "out=query_raw(text3)\n",
    "print(term_extraction(text3,out,'disease'))"
   ]
  },
  {
   "cell_type": "markdown",
   "id": "8805cc06",
   "metadata": {},
   "source": [
    "### Case 7\n",
    "A 24-year-old white male with no known medical history presented to the hospital with chief complaints of 2 weeks of progressively worsening pain and swelling of his right wrist and left ankle joints. He did not report any fevers, chills, night sweats, weight loss or rash. He was employed as a fireman. He denied alcohol use disorder, smoking cigarettes, or any recreational drugs. Family history was significant for hypertension in father and ovarian cancer in the mother. His vital signs were within normal limits on presentation. On physical examination, the patient had significant swelling of multiple joints including the right wrist, right elbow, and left ankle. The joints were erythematous and tender to touch. Due to severe pain, he had limited range in the involved joints.\n",
    "\n",
    "https://pubmed.ncbi.nlm.nih.gov/29489225/"
   ]
  },
  {
   "cell_type": "markdown",
   "id": "70bc149f",
   "metadata": {},
   "source": [
    "##### Actual symptoms\n",
    "swelling of right wrist and left ankle joint\n",
    "\n",
    "fevers\n",
    "\n",
    "chills\n",
    "\n",
    "night sweats\n",
    "\n",
    "weight loss\n",
    "\n",
    "rash\n",
    "\n",
    "hypertension\n",
    "\n",
    "ovarian cancer\n",
    "\n",
    "swelling of multiple joints\n",
    "\n",
    "erythematous\n",
    "\n",
    "tender joints\n",
    "\n",
    "##### Accuracy = 0.90"
   ]
  },
  {
   "cell_type": "code",
   "execution_count": 17,
   "id": "7d532f04",
   "metadata": {},
   "outputs": [
    {
     "name": "stderr",
     "output_type": "stream",
     "text": [
      "/opt/homebrew/Caskroom/miniforge/base/envs/tensorflow/lib/python3.9/site-packages/urllib3/connectionpool.py:1043: InsecureRequestWarning: Unverified HTTPS request is being made to host 'bern.korea.ac.kr'. Adding certificate verification is strongly advised. See: https://urllib3.readthedocs.io/en/1.26.x/advanced-usage.html#ssl-warnings\n",
      "  warnings.warn(\n"
     ]
    },
    {
     "name": "stdout",
     "output_type": "stream",
     "text": [
      "['fevers', 'chills', 'night sweats', 'weight loss', 'rash', 'alcohol use disorder', 'hypertension', 'ovarian cancer', 'swelling of multiple joints', 'erythematous']\n"
     ]
    }
   ],
   "source": [
    "text3 = 'A 24-year-old white male with no known medical history presented to the hospital with chief complaints of 2 weeks of progressively worsening pain and swelling of his right wrist and left ankle joints. He did not report any fevers, chills, night sweats, weight loss or rash. He was employed as a fireman. He denied alcohol use disorder, smoking cigarettes, or any recreational drugs. Family history was significant for hypertension in father and ovarian cancer in the mother. His vital signs were within normal limits on presentation. On physical examination, the patient had significant swelling of multiple joints including the right wrist, right elbow, and left ankle. The joints were erythematous and tender to touch. Due to severe pain, he had limited range in the involved joints.'\n",
    "out=query_raw(text3)\n",
    "print(term_extraction(text3,out,'disease'))"
   ]
  },
  {
   "cell_type": "markdown",
   "id": "68cc96c1",
   "metadata": {},
   "source": [
    "### Case 8\n",
    " 23-year-old female patient who has several thick scaly, well defined erythematous plagues, silver in color. They cover her elbows, thighs, part of the scalp, about 15% of the body surface area total. She mentions having rashes in the past but nothing severe. She was started on apremilast but complained of gastrointestinal symptoms: nausea and diarrhea.\n",
    " \n",
    "https://www.hcplive.com/view/case-study-of-a-23-year-old-female-with-plaque-psoriasis"
   ]
  },
  {
   "cell_type": "markdown",
   "id": "c5057d75",
   "metadata": {},
   "source": [
    "##### Actual symptoms\n",
    "erythematous plagues\n",
    "\n",
    "rashes\n",
    "\n",
    "gastrointestinal symptoms\n",
    "\n",
    "nausea\n",
    "\n",
    "diahrrhea\n",
    "\n",
    "##### Accuracy = 1.0"
   ]
  },
  {
   "cell_type": "code",
   "execution_count": 20,
   "id": "42956bfb",
   "metadata": {},
   "outputs": [
    {
     "name": "stderr",
     "output_type": "stream",
     "text": [
      "/opt/homebrew/Caskroom/miniforge/base/envs/tensorflow/lib/python3.9/site-packages/urllib3/connectionpool.py:1043: InsecureRequestWarning: Unverified HTTPS request is being made to host 'bern.korea.ac.kr'. Adding certificate verification is strongly advised. See: https://urllib3.readthedocs.io/en/1.26.x/advanced-usage.html#ssl-warnings\n",
      "  warnings.warn(\n"
     ]
    },
    {
     "name": "stdout",
     "output_type": "stream",
     "text": [
      "['erythematous plagues', 'rashes', 'gastrointestinal symptoms', 'nausea', 'diarrhea']\n"
     ]
    }
   ],
   "source": [
    "text3 = '23-year-old female patient who has several thick scaly, well defined erythematous plagues, silver in color. They cover her elbows, thighs, part of the scalp, about 15% of the body surface area total. She mentions having rashes in the past but nothing severe. She was started on apremilast but complained of gastrointestinal symptoms: nausea and diarrhea.'\n",
    "out=query_raw(text3)\n",
    "print(term_extraction(text3,out,'disease'))"
   ]
  },
  {
   "cell_type": "markdown",
   "id": "00a9da21",
   "metadata": {},
   "source": [
    "### Case 9\n",
    "A 22 years old pregnant woman had just completed a two-week course of ampicillin for the treatment of E coli pyelonephritis. She then started experiencing perivaginal pruritus, dysuria, and burning in the vulvar region, and noted thick curd like vaginal discharge. On examination the vulvar and labial region was mildly erythematous; tiny papulopustular lesions were seen on the perineum. Shallow linear ulcerations were noted on the posterior part of the introitus. A thick whitish discharge was noted, there was no foul odor.\n",
    "\n",
    "http://www.meddean.luc.edu/lumen/meded/mech/cases/case19/Caseqa_f.htm"
   ]
  },
  {
   "cell_type": "markdown",
   "id": "f8b8a87f",
   "metadata": {},
   "source": [
    "##### Actual symptoms\n",
    "E coli pyelonephritis\n",
    "\n",
    "perivaginal pruritus\n",
    "\n",
    "dysuria\n",
    "\n",
    "burning in the vulvar region\n",
    "\n",
    "curd like vaginal discharge\n",
    "\n",
    "erythematous\n",
    "\n",
    "papulopustular lesions\n",
    "\n",
    "Shallow linear ulcerations\n",
    "\n",
    "thick whitish discharge\n",
    "\n",
    "##### Accuracy = 0.66"
   ]
  },
  {
   "cell_type": "code",
   "execution_count": 21,
   "id": "bd1789a2",
   "metadata": {},
   "outputs": [
    {
     "name": "stderr",
     "output_type": "stream",
     "text": [
      "/opt/homebrew/Caskroom/miniforge/base/envs/tensorflow/lib/python3.9/site-packages/urllib3/connectionpool.py:1043: InsecureRequestWarning: Unverified HTTPS request is being made to host 'bern.korea.ac.kr'. Adding certificate verification is strongly advised. See: https://urllib3.readthedocs.io/en/1.26.x/advanced-usage.html#ssl-warnings\n",
      "  warnings.warn(\n"
     ]
    },
    {
     "name": "stdout",
     "output_type": "stream",
     "text": [
      "['E coli pyelonephritis', 'perivaginal pruritus', 'dysuria', 'erythematous', 'papulopustular lesions', 'Shallow linear ulcerations']\n"
     ]
    }
   ],
   "source": [
    "text3 = 'A 22 years old pregnant woman had just completed a two-week course of ampicillin for the treatment of E coli pyelonephritis. She then started experiencing perivaginal pruritus, dysuria, and burning in the vulvar region, and noted thick curd like vaginal discharge. On examination the vulvar and labial region was mildly erythematous; tiny papulopustular lesions were seen on the perineum. Shallow linear ulcerations were noted on the posterior part of the introitus. A thick whitish discharge was noted, there was no foul odor.'\n",
    "out=query_raw(text3)\n",
    "print(term_extraction(text3,out,'disease'))"
   ]
  },
  {
   "cell_type": "markdown",
   "id": "f08d2457",
   "metadata": {},
   "source": [
    "### Case 10\n",
    "A 12-year-old girl with a history of asthma presented to the emergency department with a three-day history of increased work of breathing, cough and wheezing. She reported no clear trigger for her respiratory symptoms, although she had noted some symptoms of a mild upper respiratory tract infection. With this episode, the patient had been using a short-acting bronchodilator more frequently than she had in the past, without the expected resolution of symptoms.\n",
    "\n",
    "https://academic.oup.com/pch/article/19/2/69/2647164"
   ]
  },
  {
   "cell_type": "markdown",
   "id": "d1b61545",
   "metadata": {},
   "source": [
    "##### Actual symptoms\n",
    "asthma\n",
    "\n",
    "increased work breathing\n",
    "\n",
    "cough\n",
    "\n",
    "wheezing\n",
    "\n",
    " respiratory tract infection\n",
    "\n",
    "##### Accuracy = 0.83"
   ]
  },
  {
   "cell_type": "code",
   "execution_count": 22,
   "id": "c4162959",
   "metadata": {},
   "outputs": [
    {
     "name": "stderr",
     "output_type": "stream",
     "text": [
      "/opt/homebrew/Caskroom/miniforge/base/envs/tensorflow/lib/python3.9/site-packages/urllib3/connectionpool.py:1043: InsecureRequestWarning: Unverified HTTPS request is being made to host 'bern.korea.ac.kr'. Adding certificate verification is strongly advised. See: https://urllib3.readthedocs.io/en/1.26.x/advanced-usage.html#ssl-warnings\n",
      "  warnings.warn(\n"
     ]
    },
    {
     "name": "stdout",
     "output_type": "stream",
     "text": [
      "['asthma', 'wheezing', 'respiratory', 'upper respiratory tract infection']\n"
     ]
    }
   ],
   "source": [
    "text3 = 'A 12-year-old girl with a history of asthma presented to the emergency department with a three-day history of increased work of breathing, cough and wheezing. She reported no clear trigger for her respiratory symptoms, although she had noted some symptoms of a mild upper respiratory tract infection. With this episode, the patient had been using a short-acting bronchodilator more frequently than she had in the past, without the expected resolution of symptoms.'\n",
    "out=query_raw(text3)\n",
    "print(term_extraction(text3,out,'disease'))"
   ]
  },
  {
   "cell_type": "markdown",
   "id": "b5e8740a",
   "metadata": {},
   "source": [
    "### Case 11\n",
    "CD is a 28-year-old woman who was seen in my office with acne primarily located on her cheeks, chin, and forehead. She had more than 10 papules or pustules on each of these areas, which I consider severe acne. She had open comedones on her nose and chin and closed comedones primarily on her cheeks, chin, and forehead. In addition, she experienced painful red cysts on her cheeks and chin. She had pale skin with red undertones.\n",
    "\n",
    "https://ndnr.com/dermatology/case-study-follow-up-28-year-old-woman-acne-vulgaris/"
   ]
  },
  {
   "cell_type": "markdown",
   "id": "5a777f92",
   "metadata": {},
   "source": [
    "##### Actual symptoms\n",
    "acne\n",
    "\n",
    "acne\n",
    "\n",
    "pustules\n",
    "\n",
    "red cysts\n",
    "\n",
    "pale skin with red undertones.\n",
    "\n",
    "##### Accuracy = 0.8"
   ]
  },
  {
   "cell_type": "code",
   "execution_count": 23,
   "id": "c29e1df1",
   "metadata": {},
   "outputs": [
    {
     "name": "stderr",
     "output_type": "stream",
     "text": [
      "/opt/homebrew/Caskroom/miniforge/base/envs/tensorflow/lib/python3.9/site-packages/urllib3/connectionpool.py:1043: InsecureRequestWarning: Unverified HTTPS request is being made to host 'bern.korea.ac.kr'. Adding certificate verification is strongly advised. See: https://urllib3.readthedocs.io/en/1.26.x/advanced-usage.html#ssl-warnings\n",
      "  warnings.warn(\n"
     ]
    },
    {
     "name": "stdout",
     "output_type": "stream",
     "text": [
      "['CD', 'acne', 'pustules', 'acne', 'painful', 'red cysts']\n"
     ]
    }
   ],
   "source": [
    "text3 = 'CD is a 28-year-old woman who was seen in my office with acne primarily located on her cheeks, chin, and forehead. She had more than 10 papules or pustules on each of these areas, which I consider severe acne. She had open comedones on her nose and chin and closed comedones primarily on her cheeks, chin, and forehead. In addition, she experienced painful red cysts on her cheeks and chin. She had pale skin with red undertones.'\n",
    "out=query_raw(text3)\n",
    "print(term_extraction(text3,out,'disease'))"
   ]
  },
  {
   "cell_type": "markdown",
   "id": "6bcc0e2f",
   "metadata": {},
   "source": [
    "### Case 12\n",
    "A 61-year-old American woman was referred to a Gastroenterology Clinic from primary care provider due to consistent discomfort and significant weight loss. She looked for a PCP’s advice as she had a tarry stool in the early morning which she had never experienced before.  She presented with a 2-month history of burning pain in the epigastric abdomen and chest which radiated toward her back. Her pain worsened after taking aspirin and drinking coffee, and was relieved after taking antacids. She had previously lost 10 pounds in 2 months due to decreased intake caused by the feeling of bloating, early fullness and stomachaches between meals. She also reported nausea and vomiting. She expressed concern especially because the food appeared undigested when she vomited. She also reported doubling her NSAID intake due to increased knee pain. She looked pale and exhausted when she entered the clinic.\n",
    "\n",
    "https://u.osu.edu/pepticulcercasestudy/patient-case-presentation/"
   ]
  },
  {
   "cell_type": "markdown",
   "id": "1956b222",
   "metadata": {},
   "source": [
    "##### Actual symptoms\n",
    "weight loss\n",
    "\n",
    "tarry stool\n",
    "\n",
    "burning pain in the epigastric abdomen and chest\n",
    "\n",
    "bloating\n",
    "\n",
    "stomachaches\n",
    "\n",
    "nausea\n",
    "\n",
    "vomiting\n",
    "\n",
    "knee pain\n",
    "\n",
    "##### Accuracy = 0.62"
   ]
  },
  {
   "cell_type": "code",
   "execution_count": 4,
   "id": "2fdf03a5",
   "metadata": {},
   "outputs": [
    {
     "name": "stderr",
     "output_type": "stream",
     "text": [
      "/opt/homebrew/Caskroom/miniforge/base/envs/tensorflow/lib/python3.9/site-packages/urllib3/connectionpool.py:1043: InsecureRequestWarning: Unverified HTTPS request is being made to host 'bern.korea.ac.kr'. Adding certificate verification is strongly advised. See: https://urllib3.readthedocs.io/en/1.26.x/advanced-usage.html#ssl-warnings\n",
      "  warnings.warn(\n"
     ]
    },
    {
     "name": "stdout",
     "output_type": "stream",
     "text": [
      "['burning pain in the epigastric abdomen and chest', 'stomachaches', 'nausea', 'vomiting', 'knee pain']\n"
     ]
    }
   ],
   "source": [
    "text3 = 'A 61-year-old American woman was referred to a Gastroenterology Clinic from primary care provider due to consistent discomfort and significant weight loss. She looked for a PCP’s advice as she had a tarry stool in the early morning which she had never experienced before. She presented with a 2-month history of burning pain in the epigastric abdomen and chest which radiated toward her back. Her pain worsened after taking aspirin and drinking coffee, and was relieved after taking antacids. She had previously lost 10 pounds in 2 months due to decreased intake caused by the feeling of bloating, early fullness and stomachaches between meals. She also reported nausea and vomiting. She expressed concern especially because the food appeared undigested when she vomited. She also reported doubling her NSAID intake due to increased knee pain. She looked pale and exhausted when she entered the clinic.'\n",
    "out=query_raw(text3)\n",
    "print(term_extraction(text3,out,'disease'))"
   ]
  },
  {
   "cell_type": "markdown",
   "id": "91c4cd6a",
   "metadata": {},
   "source": [
    "### Case 13\n",
    "A 45-year-old man presents with a 2-month history of epigastric abdominal pain. He describes the pain as burning and says that it occurs at night or early in the morning. The patient has found that eating food generally improves these symptoms. The patient admits to having had similar symptoms intermittently during the past several years, and over-the-counter H2 antagonists have always resolved his symptoms. He denies any weight loss, vomiting, or melena. He has no family history of significant medical problems. The patient’s physical examination reveals a normal head and neck, and cardiopulmonary examinations show no abnormalities. The abdomen is nondistended, minimally tender in the epigastrium, and without masses. A rectal examination reveals Hemoccult-negative stool. Laboratory studies reveal normal values for the white blood cell (WBC) count, hemoglobin and hematocrit levels, platelet count, electrolyte levels, serum amylase level, and liver function tests.\n",
    "\n",
    "https://doctorlib.info/surgery/case-files-surgery/44.html"
   ]
  },
  {
   "cell_type": "markdown",
   "id": "0810a6b3",
   "metadata": {},
   "source": [
    "##### Actual symptoms\n",
    "epigastric abdominal pain\n",
    "\n",
    "weight loss\n",
    "\n",
    "vomiting\n",
    "\n",
    "melena\n",
    "\n",
    "##### Accuracy = 1.0"
   ]
  },
  {
   "cell_type": "code",
   "execution_count": 5,
   "id": "78edc59f",
   "metadata": {},
   "outputs": [
    {
     "name": "stderr",
     "output_type": "stream",
     "text": [
      "/opt/homebrew/Caskroom/miniforge/base/envs/tensorflow/lib/python3.9/site-packages/urllib3/connectionpool.py:1043: InsecureRequestWarning: Unverified HTTPS request is being made to host 'bern.korea.ac.kr'. Adding certificate verification is strongly advised. See: https://urllib3.readthedocs.io/en/1.26.x/advanced-usage.html#ssl-warnings\n",
      "  warnings.warn(\n"
     ]
    },
    {
     "name": "stdout",
     "output_type": "stream",
     "text": [
      "['epigastric abdominal pain', 'weight loss', 'vomiting', 'melena']\n"
     ]
    }
   ],
   "source": [
    "text3 = 'A 45-year-old man presents with a 2-month history of epigastric abdominal pain. He describes the pain as burning and says that it occurs at night or early in the morning. The patient has found that eating food generally improves these symptoms. The patient admits to having had similar symptoms intermittently during the past several years, and over-the-counter H2 antagonists have always resolved his symptoms. He denies any weight loss, vomiting, or melena. He has no family history of significant medical problems. The patient’s physical examination reveals a normal head and neck, and cardiopulmonary examinations show no abnormalities. The abdomen is nondistended, minimally tender in the epigastrium, and without masses. A rectal examination reveals Hemoccult-negative stool. Laboratory studies reveal normal values for the white blood cell (WBC) count, hemoglobin and hematocrit levels, platelet count, electrolyte levels, serum amylase level, and liver function tests.'\n",
    "out=query_raw(text3)\n",
    "print(term_extraction(text3,out,'disease'))"
   ]
  },
  {
   "cell_type": "markdown",
   "id": "279c0f1e",
   "metadata": {},
   "source": [
    "### Case 14\n",
    "A 31-yr-old woman comes to the emergency department because of a severe headache in the occipital region. She says the headache began suddenly about 1 h ago, and she describes it as \"the worst headache of my life.\" She says the pain is constant and is accompanied by nausea but not vomiting. She denies visual symptoms, focal weakness, and problems with gait and balance.\n",
    "\n",
    "https://www.msdmanuals.com/-/media/manual/case-studies/case015/hpi.html"
   ]
  },
  {
   "cell_type": "markdown",
   "id": "e9994779",
   "metadata": {},
   "source": [
    "##### Actual symptoms\n",
    "headache\n",
    "\n",
    "headache\n",
    "\n",
    "headache\n",
    "\n",
    "nausea\n",
    "\n",
    "vomiting\n",
    "\n",
    "visual symptoms\n",
    "\n",
    "focal weakness\n",
    "\n",
    "problems with gait and balance\n",
    "\n",
    "##### Accuracy = 1.0"
   ]
  },
  {
   "cell_type": "code",
   "execution_count": 6,
   "id": "8ef98929",
   "metadata": {},
   "outputs": [
    {
     "name": "stderr",
     "output_type": "stream",
     "text": [
      "/opt/homebrew/Caskroom/miniforge/base/envs/tensorflow/lib/python3.9/site-packages/urllib3/connectionpool.py:1043: InsecureRequestWarning: Unverified HTTPS request is being made to host 'bern.korea.ac.kr'. Adding certificate verification is strongly advised. See: https://urllib3.readthedocs.io/en/1.26.x/advanced-usage.html#ssl-warnings\n",
      "  warnings.warn(\n"
     ]
    },
    {
     "name": "stdout",
     "output_type": "stream",
     "text": [
      "['headache', 'headache', 'headache', 'nausea', 'vomiting', 'visual symptoms', 'focal weakness', 'problems with gait and balance']\n"
     ]
    }
   ],
   "source": [
    "text3 = 'A 31-yr-old woman comes to the emergency department because of a severe headache in the occipital region. She says the headache began suddenly about 1 h ago, and she describes it as \"the worst headache of my life.\" She says the pain is constant and is accompanied by nausea but not vomiting. She denies visual symptoms, focal weakness, and problems with gait and balance.'\n",
    "out=query_raw(text3)\n",
    "print(term_extraction(text3,out,'disease'))"
   ]
  },
  {
   "cell_type": "markdown",
   "id": "18be643d",
   "metadata": {},
   "source": [
    "### Case 15\n",
    "Heather is a 24-year-old hairdresser with migraines since age 12, which have been slowly increasing. In the last 3 years, she has endured daily headaches. Her mother and sister also have migraines. Her usual daily headache is an aching, throbbing moderate headache with photophobia. About 6 times per month, Heather has a moderate to severe migraine with nausea and lasting one day. She has been diagnosed with chronic migraine (CM). Triggers for her more severe migraines include weather changes, stress, and menstruation (1 day prior to her menses).\n",
    "\n",
    "https://www.practicalpainmanagement.com/pain/headache/migraine/case-history-chronic-migraine-update-2015"
   ]
  },
  {
   "cell_type": "markdown",
   "id": "e37c2580",
   "metadata": {},
   "source": [
    "##### Actual symptoms\n",
    "migraines\n",
    "\n",
    "headaches\n",
    "\n",
    "migraines\n",
    "\n",
    "photophobia\n",
    "\n",
    "migraine\n",
    "\n",
    "nausea\n",
    "\n",
    "chronic migraine\n",
    "\n",
    "migraines\n",
    "\n",
    "##### Accuracy = 1.0"
   ]
  },
  {
   "cell_type": "code",
   "execution_count": 7,
   "id": "87f01e8a",
   "metadata": {},
   "outputs": [
    {
     "name": "stderr",
     "output_type": "stream",
     "text": [
      "/opt/homebrew/Caskroom/miniforge/base/envs/tensorflow/lib/python3.9/site-packages/urllib3/connectionpool.py:1043: InsecureRequestWarning: Unverified HTTPS request is being made to host 'bern.korea.ac.kr'. Adding certificate verification is strongly advised. See: https://urllib3.readthedocs.io/en/1.26.x/advanced-usage.html#ssl-warnings\n",
      "  warnings.warn(\n"
     ]
    },
    {
     "name": "stdout",
     "output_type": "stream",
     "text": [
      "['migraines', 'daily headaches', 'migraines', 'photophobia', 'migraine', 'nausea', 'chronic migraine', 'CM', 'migraines']\n"
     ]
    }
   ],
   "source": [
    "text3 = 'Heather is a 24-year-old hairdresser with migraines since age 12, which have been slowly increasing. In the last 3 years, she has endured daily headaches. Her mother and sister also have migraines. Her usual daily headache is an aching, throbbing moderate headache with photophobia. About 6 times per month, Heather has a moderate to severe migraine with nausea and lasting one day. She has been diagnosed with chronic migraine (CM). Triggers for her more severe migraines include weather changes, stress, and menstruation (1 day prior to her menses).'\n",
    "out=query_raw(text3)\n",
    "print(term_extraction(text3,out,'disease'))"
   ]
  },
  {
   "cell_type": "markdown",
   "id": "cf2748f7",
   "metadata": {},
   "source": [
    "### Case 16\n",
    "A 19-year-old Asian male with no notable medical history presented to the emergency department with a 12-h history of acute abdominal pain. The patient's condition was diagnosed as acute appendicitis, and he underwent an emergent laparoscopic appendectomy. A 1-mg dose of vecuronium followed by 120 mg of succinylcholine was administered to induce paralysis and facilitate endotracheal intubation.\n",
    "\n",
    "https://www.aacc.org/science-and-research/clinical-chemistry/clinical-case-studies/2012/a-patient-with-prolonged-paralysis"
   ]
  },
  {
   "cell_type": "markdown",
   "id": "37246ee6",
   "metadata": {},
   "source": [
    "##### Actual symptoms\n",
    "\n",
    "abdominal pain\n",
    "\n",
    "acute appendicitis\n",
    "\n",
    "paralysis\n",
    "\n",
    "##### Accuracy = 1.0"
   ]
  },
  {
   "cell_type": "code",
   "execution_count": 10,
   "id": "cc89c6db",
   "metadata": {},
   "outputs": [
    {
     "name": "stderr",
     "output_type": "stream",
     "text": [
      "/opt/homebrew/Caskroom/miniforge/base/envs/tensorflow/lib/python3.9/site-packages/urllib3/connectionpool.py:1043: InsecureRequestWarning: Unverified HTTPS request is being made to host 'bern.korea.ac.kr'. Adding certificate verification is strongly advised. See: https://urllib3.readthedocs.io/en/1.26.x/advanced-usage.html#ssl-warnings\n",
      "  warnings.warn(\n"
     ]
    },
    {
     "name": "stdout",
     "output_type": "stream",
     "text": [
      "['abdominal pain', 'acute appendicitis', 'paralysis']\n"
     ]
    }
   ],
   "source": [
    "text3 = \"A 19-year-old Asian male with no notable medical history presented to the emergency department with a 12-h history of acute abdominal pain. The patient's condition was diagnosed as acute appendicitis, and he underwent an emergent laparoscopic appendectomy. A 1-mg dose of vecuronium followed by 120 mg of succinylcholine was administered to induce paralysis and facilitate endotracheal intubation.\"\n",
    "out=query_raw(text3)\n",
    "print(term_extraction(text3,out,'disease'))"
   ]
  },
  {
   "cell_type": "markdown",
   "id": "f1589c98",
   "metadata": {},
   "source": [
    "### Case 17\n",
    "A 60-year-old man presents with jaundice, 20-pound weight loss, intermittent nausea, and decreased appetite over the last month. He has a history of hypertension, hyperlipidemia, and diabetes. There is no past surgical history. He takes hydrochlorothiazide, simvastatin, and metformin. His BP, cholesterol, and diabetes are under good control. He has drunk three beers each day and smoked half a pack of cigarettes per day for the last 40 years. He has no abdominal pain, but he has noticed that his stools have become lighter in color and his urine has become tea-colored. He presents in the outpatient office accompanied by his wife and three of his children, who have urged him to seek medical attention.\n",
    "\n",
    "https://musculoskeletalkey.com/jaundice-case-25/"
   ]
  },
  {
   "cell_type": "markdown",
   "id": "27850b72",
   "metadata": {},
   "source": [
    "##### Actual symptoms\n",
    "jaundice\n",
    "\n",
    "weight loss\n",
    "\n",
    "nausea\n",
    "\n",
    "decreased apetite\n",
    "\n",
    "hypertension\n",
    "\n",
    "hyperlipidemia\n",
    "\n",
    "diabetes\n",
    "\n",
    "diabetes\n",
    "\n",
    "abdominal pain\n",
    "\n",
    "light coloured stool \n",
    "\n",
    "tea coloured urine\n",
    "\n",
    "##### Accuracy = 0.81"
   ]
  },
  {
   "cell_type": "code",
   "execution_count": 11,
   "id": "0653633c",
   "metadata": {},
   "outputs": [
    {
     "name": "stderr",
     "output_type": "stream",
     "text": [
      "/opt/homebrew/Caskroom/miniforge/base/envs/tensorflow/lib/python3.9/site-packages/urllib3/connectionpool.py:1043: InsecureRequestWarning: Unverified HTTPS request is being made to host 'bern.korea.ac.kr'. Adding certificate verification is strongly advised. See: https://urllib3.readthedocs.io/en/1.26.x/advanced-usage.html#ssl-warnings\n",
      "  warnings.warn(\n"
     ]
    },
    {
     "name": "stdout",
     "output_type": "stream",
     "text": [
      "['jaundice', 'weight loss', 'nausea', 'decreased appetite', 'hypertension', 'hyperlipidemia', 'diabetes', 'diabetes', 'abdominal pain']\n"
     ]
    }
   ],
   "source": [
    "text3 = 'A 60-year-old man presents with jaundice, 20-pound weight loss, intermittent nausea, and decreased appetite over the last month. He has a history of hypertension, hyperlipidemia, and diabetes. There is no past surgical history. He takes hydrochlorothiazide, simvastatin, and metformin. His BP, cholesterol, and diabetes are under good control. He has drunk three beers each day and smoked half a pack of cigarettes per day for the last 40 years. He has no abdominal pain, but he has noticed that his stools have become lighter in color and his urine has become tea-colored. He presents in the outpatient office accompanied by his wife and three of his children, who have urged him to seek medical attention.'\n",
    "out=query_raw(text3)\n",
    "print(term_extraction(text3,out,'disease'))"
   ]
  },
  {
   "cell_type": "markdown",
   "id": "f4c3e596",
   "metadata": {},
   "source": [
    "### Case 18\n",
    "Well, I went to my GP because over the last week or two, my skin had been getting more and more yellow. I didn’t think it was too bad, but my husband said I was very yellow, especially the whites of my eyes. I’m also getting a lot of tummy pain, which has been getting much worse!\n",
    "\n",
    "https://geekymedics.com/a-rather-yellow-looking-lady/"
   ]
  },
  {
   "cell_type": "markdown",
   "id": "66db4b53",
   "metadata": {},
   "source": [
    "##### Actual symptoms\n",
    "\n",
    "yellow skin\n",
    "\n",
    "tummy pain\n",
    "\n",
    "##### Accuracy = 0.5"
   ]
  },
  {
   "cell_type": "code",
   "execution_count": 12,
   "id": "a3995bf9",
   "metadata": {},
   "outputs": [
    {
     "name": "stderr",
     "output_type": "stream",
     "text": [
      "/opt/homebrew/Caskroom/miniforge/base/envs/tensorflow/lib/python3.9/site-packages/urllib3/connectionpool.py:1043: InsecureRequestWarning: Unverified HTTPS request is being made to host 'bern.korea.ac.kr'. Adding certificate verification is strongly advised. See: https://urllib3.readthedocs.io/en/1.26.x/advanced-usage.html#ssl-warnings\n",
      "  warnings.warn(\n"
     ]
    },
    {
     "name": "stdout",
     "output_type": "stream",
     "text": [
      "['tummy pain']\n"
     ]
    }
   ],
   "source": [
    "text3 = 'Well, I went to my GP because over the last week or two, my skin had been getting more and more yellow. I didn’t think it was too bad, but my husband said I was very yellow, especially the whites of my eyes. I’m also getting a lot of tummy pain, which has been getting much worse!'\n",
    "out=query_raw(text3)\n",
    "print(term_extraction(text3,out,'disease'))"
   ]
  },
  {
   "cell_type": "markdown",
   "id": "58ed49a9",
   "metadata": {},
   "source": [
    "### Case 19\n",
    "A 67 y/o (year old) female from Western Africa initially presented to the Emergency Department (ED) complaining of fatigue and subjective fevers for the past 2 days. Patient complained that her fevers were associated with headaches, but not chills, rigors, or chest pain. Index of suspicion for malaria was high as patient had recently traveled from an endemic region. Patients travel history to Western Africa and the presenting symptoms also made us consider a possibility of Ebola virus disease.\n",
    "\n",
    "https://journals.lww.com/md-journal/fulltext/2015/08040/a_case_of_plasmodium_falciparum_malaria.27.aspx"
   ]
  },
  {
   "cell_type": "markdown",
   "id": "be0a1f31",
   "metadata": {},
   "source": [
    "##### Actual symptoms\n",
    "\n",
    "fatigue\n",
    "\n",
    "fevers\n",
    "\n",
    "fevers\n",
    "\n",
    "headaches\n",
    "\n",
    "chills\n",
    "\n",
    "rigors\n",
    "\n",
    "chest pain\n",
    "\n",
    "malaria\n",
    "\n",
    "ebola virus disease\n",
    "\n",
    "##### Accuracy = 1.0"
   ]
  },
  {
   "cell_type": "code",
   "execution_count": 13,
   "id": "19b87542",
   "metadata": {},
   "outputs": [
    {
     "name": "stderr",
     "output_type": "stream",
     "text": [
      "/opt/homebrew/Caskroom/miniforge/base/envs/tensorflow/lib/python3.9/site-packages/urllib3/connectionpool.py:1043: InsecureRequestWarning: Unverified HTTPS request is being made to host 'bern.korea.ac.kr'. Adding certificate verification is strongly advised. See: https://urllib3.readthedocs.io/en/1.26.x/advanced-usage.html#ssl-warnings\n",
      "  warnings.warn(\n"
     ]
    },
    {
     "name": "stdout",
     "output_type": "stream",
     "text": [
      "['fatigue', 'fevers', 'fevers', 'headaches', 'chills', 'rigors', 'chest pain', 'malaria', 'Ebola virus disease']\n"
     ]
    }
   ],
   "source": [
    "text3 = 'A 67 y/o (year old) female from Western Africa initially presented to the Emergency Department (ED) complaining of fatigue and subjective fevers for the past 2 days. Patient complained that her fevers were associated with headaches, but not chills, rigors, or chest pain. Index of suspicion for malaria was high as patient had recently traveled from an endemic region. Patients travel history to Western Africa and the presenting symptoms also made us consider a possibility of Ebola virus disease.'\n",
    "out=query_raw(text3)\n",
    "print(term_extraction(text3,out,'disease'))"
   ]
  },
  {
   "cell_type": "markdown",
   "id": "fbddb376",
   "metadata": {},
   "source": [
    "### Case 20\n",
    "A 97-year-old woman presented with 4-day history of vesicular rash, initially at the feet but then spread up to the thighs bilaterally, abdomen and trunk. The initial differentials included bullous pemphigus and cellulitis by the emergency department. She was then managed as bullous pemphigus by the acute medical team and started on high-dose steroids, with no other differentials considered. When her care was taken over by the general medical team, varicella zoster virus (VZV) infection was suspected. After confirmation by the dermatology team regarding the clinical diagnosis and the positive VZV DNA swabs, she was started on acyclovir.\n",
    "\n",
    "https://www.ncbi.nlm.nih.gov/pmc/articles/PMC5780607/"
   ]
  },
  {
   "cell_type": "markdown",
   "id": "161a556d",
   "metadata": {},
   "source": [
    "##### Actual symptoms\n",
    "\n",
    "vesicular rash\n",
    "\n",
    "bullous pemphigus\n",
    "\n",
    "cellulitis\n",
    "\n",
    "bullous pemphigus\n",
    "\n",
    "varicella zoster virus infection\n",
    "\n",
    "##### Accuracy = 1.0"
   ]
  },
  {
   "cell_type": "code",
   "execution_count": 21,
   "id": "122832d9",
   "metadata": {},
   "outputs": [
    {
     "name": "stderr",
     "output_type": "stream",
     "text": [
      "/opt/homebrew/Caskroom/miniforge/base/envs/tensorflow/lib/python3.9/site-packages/urllib3/connectionpool.py:1043: InsecureRequestWarning: Unverified HTTPS request is being made to host 'bern.korea.ac.kr'. Adding certificate verification is strongly advised. See: https://urllib3.readthedocs.io/en/1.26.x/advanced-usage.html#ssl-warnings\n",
      "  warnings.warn(\n"
     ]
    },
    {
     "name": "stdout",
     "output_type": "stream",
     "text": [
      "['vesicular rash', 'bullous pemphigus', 'cellulitis', 'bullous pemphigus', 'varicella zoster virus (VZV) infection']\n"
     ]
    }
   ],
   "source": [
    "text3 = 'A 97-year-old woman presented with 4-day history of vesicular rash, initially at the feet but then spread up to the thighs bilaterally, abdomen and trunk. The initial differentials included bullous pemphigus and cellulitis by the emergency department. She was then managed as bullous pemphigus by the acute medical team and started on high-dose steroids, with no other differentials considered. When her care was taken over by the general medical team, varicella zoster virus (VZV) infection was suspected. After confirmation by the dermatology team regarding the clinical diagnosis and the positive VZV DNA swabs, she was started on acyclovir.'\n",
    "out=query_raw(text3)\n",
    "print(term_extraction(text3,out,'disease'))"
   ]
  },
  {
   "cell_type": "markdown",
   "id": "ac0bfe85",
   "metadata": {},
   "source": [
    "## Total average accuracy = 81.4%"
   ]
  }
 ],
 "metadata": {
  "kernelspec": {
   "display_name": "Python 3.9 (tensorflow)",
   "language": "python",
   "name": "tensorflow"
  },
  "language_info": {
   "codemirror_mode": {
    "name": "ipython",
    "version": 3
   },
   "file_extension": ".py",
   "mimetype": "text/x-python",
   "name": "python",
   "nbconvert_exporter": "python",
   "pygments_lexer": "ipython3",
   "version": "3.9.12"
  }
 },
 "nbformat": 4,
 "nbformat_minor": 5
}
